{
 "cells": [
  {
   "cell_type": "code",
   "execution_count": 1,
   "id": "d34a4eef-ab71-4d5d-afe6-74f8e7be5186",
   "metadata": {
    "collapsed": true,
    "jupyter": {
     "outputs_hidden": true
    }
   },
   "outputs": [
    {
     "name": "stderr",
     "output_type": "stream",
     "text": [
      "\n",
      "                                                   / |\n",
      "                                                 /    \\\n",
      "            .                                  /      |.\n",
      "            \\\\\\                              /        |.\n",
      "              \\\\\\                          /           `|.\n",
      "                \\\\\\                      /              |.\n",
      "                  \\                    /                |\\\n",
      "                  \\\\#####\\           /                  ||\n",
      "                ==###########>      /                   ||\n",
      "                 \\\\##==......\\    /                     ||\n",
      "            ______ =       =|__ /__                     ||      \\\\\\\n",
      "        ,--' ,----`-,__ ___/'  --,-`-===================##========>\n",
      "       \\               '        ##_______ _____ ,--,__,=##,__   ///\n",
      "        ,    __==    ___,-,__,--'#'  ==='      `-'    | ##,-/\n",
      "        -,____,---'       \\\\####\\\\________________,--\\\\_##,/\n",
      "           ___      .______        ______  __    __  .______      \n",
      "          /   \\     |   _  \\      /      ||  |  |  | |   _  \\     \n",
      "         /  ^  \\    |  |_)  |    |  ,----'|  |__|  | |  |_)  |    \n",
      "        /  /_\\  \\   |      /     |  |     |   __   | |      /     \n",
      "       /  _____  \\  |  |\\  \\\\___ |  `----.|  |  |  | |  |\\  \\\\___.\n",
      "      /__/     \\__\\ | _| `._____| \\______||__|  |__| | _| `._____|\n",
      "    \n",
      "\n",
      "ArchR : Version 1.0.3\n",
      "For more information see our website : www.ArchRProject.com\n",
      "If you encounter a bug please report : https://github.com/GreenleafLab/ArchR/issues\n",
      "\n",
      "Loading Required Packages...\n",
      "\n",
      "\tLoading Package : devtools v2.4.5\n",
      "\n",
      "\tLoading Package : grid v4.4.3\n",
      "\n",
      "\tLoading Package : gridExtra v2.3\n",
      "\n",
      "\tLoading Package : gtools v3.9.5\n",
      "\n",
      "\tLoading Package : gtable v0.3.6\n",
      "\n",
      "\tLoading Package : ggplot2 v4.0.0\n",
      "\n",
      "\tLoading Package : magrittr v2.0.4\n",
      "\n",
      "\tLoading Package : plyr v1.8.9\n",
      "\n",
      "\tLoading Package : stringr v1.5.2\n",
      "\n",
      "\tLoading Package : data.table v1.17.8\n",
      "\n",
      "\tLoading Package : matrixStats v1.5.0\n",
      "\n",
      "\tLoading Package : sparseMatrixStats v1.18.0\n",
      "\n",
      "\tLoading Package : S4Vectors v0.44.0\n",
      "\n",
      "\tLoading Package : GenomicRanges v1.58.0\n",
      "\n",
      "\tLoading Package : BiocGenerics v0.52.0\n",
      "\n",
      "\tLoading Package : Matrix v1.7.4\n",
      "\n",
      "\tLoading Package : Rcpp v1.1.0\n",
      "\n",
      "\tLoading Package : RcppArmadillo v15.0.2.2\n",
      "\n",
      "\tLoading Package : SummarizedExperiment v1.36.0\n",
      "\n",
      "\tLoading Package : rhdf5 v2.50.0\n",
      "\n",
      "\n",
      "载入程序包：‘dplyr’\n",
      "\n",
      "\n",
      "The following object is masked from ‘package:Biobase’:\n",
      "\n",
      "    combine\n",
      "\n",
      "\n",
      "The following objects are masked from ‘package:GenomicRanges’:\n",
      "\n",
      "    intersect, setdiff, union\n",
      "\n",
      "\n",
      "The following object is masked from ‘package:GenomeInfoDb’:\n",
      "\n",
      "    intersect\n",
      "\n",
      "\n",
      "The following objects are masked from ‘package:IRanges’:\n",
      "\n",
      "    collapse, desc, intersect, setdiff, slice, union\n",
      "\n",
      "\n",
      "The following objects are masked from ‘package:S4Vectors’:\n",
      "\n",
      "    first, intersect, rename, setdiff, setequal, union\n",
      "\n",
      "\n",
      "The following objects are masked from ‘package:BiocGenerics’:\n",
      "\n",
      "    combine, intersect, setdiff, union\n",
      "\n",
      "\n",
      "The following object is masked from ‘package:matrixStats’:\n",
      "\n",
      "    count\n",
      "\n",
      "\n",
      "The following objects are masked from ‘package:data.table’:\n",
      "\n",
      "    between, first, last\n",
      "\n",
      "\n",
      "The following objects are masked from ‘package:plyr’:\n",
      "\n",
      "    arrange, count, desc, failwith, id, mutate, rename, summarise,\n",
      "    summarize\n",
      "\n",
      "\n",
      "The following object is masked from ‘package:gridExtra’:\n",
      "\n",
      "    combine\n",
      "\n",
      "\n",
      "The following objects are masked from ‘package:stats’:\n",
      "\n",
      "    filter, lag\n",
      "\n",
      "\n",
      "The following objects are masked from ‘package:base’:\n",
      "\n",
      "    intersect, setdiff, setequal, union\n",
      "\n",
      "\n",
      "载入需要的程序包：SeuratObject\n",
      "\n",
      "载入需要的程序包：sp\n",
      "\n",
      "\n",
      "载入程序包：‘sp’\n",
      "\n",
      "\n",
      "The following object is masked from ‘package:IRanges’:\n",
      "\n",
      "    %over%\n",
      "\n",
      "\n",
      "\n",
      "载入程序包：‘SeuratObject’\n",
      "\n",
      "\n",
      "The following object is masked from ‘package:SummarizedExperiment’:\n",
      "\n",
      "    Assays\n",
      "\n",
      "\n",
      "The following object is masked from ‘package:GenomicRanges’:\n",
      "\n",
      "    intersect\n",
      "\n",
      "\n",
      "The following object is masked from ‘package:GenomeInfoDb’:\n",
      "\n",
      "    intersect\n",
      "\n",
      "\n",
      "The following object is masked from ‘package:IRanges’:\n",
      "\n",
      "    intersect\n",
      "\n",
      "\n",
      "The following object is masked from ‘package:S4Vectors’:\n",
      "\n",
      "    intersect\n",
      "\n",
      "\n",
      "The following object is masked from ‘package:BiocGenerics’:\n",
      "\n",
      "    intersect\n",
      "\n",
      "\n",
      "The following objects are masked from ‘package:base’:\n",
      "\n",
      "    intersect, t\n",
      "\n",
      "\n",
      "\n",
      "载入程序包：‘Seurat’\n",
      "\n",
      "\n",
      "The following object is masked from ‘package:SummarizedExperiment’:\n",
      "\n",
      "    Assays\n",
      "\n",
      "\n"
     ]
    }
   ],
   "source": [
    "suppressWarnings(library(ArchR))\n",
    "suppressWarnings(library(dplyr))\n",
    "suppressWarnings(library(Seurat))\n",
    "setwd('~/workspace/Mida_collab/')"
   ]
  },
  {
   "cell_type": "code",
   "execution_count": 2,
   "id": "e2836a35-5e4b-401e-b927-525bfb06e272",
   "metadata": {
    "collapsed": true,
    "jupyter": {
     "outputs_hidden": true
    }
   },
   "outputs": [
    {
     "name": "stderr",
     "output_type": "stream",
     "text": [
      "Successfully loaded ArchRProject!\n",
      "\n",
      "\n",
      "                                                   / |\n",
      "                                                 /    \\\n",
      "            .                                  /      |.\n",
      "            \\\\\\                              /        |.\n",
      "              \\\\\\                          /           `|.\n",
      "                \\\\\\                      /              |.\n",
      "                  \\                    /                |\\\n",
      "                  \\\\#####\\           /                  ||\n",
      "                ==###########>      /                   ||\n",
      "                 \\\\##==......\\    /                     ||\n",
      "            ______ =       =|__ /__                     ||      \\\\\\\n",
      "        ,--' ,----`-,__ ___/'  --,-`-===================##========>\n",
      "       \\               '        ##_______ _____ ,--,__,=##,__   ///\n",
      "        ,    __==    ___,-,__,--'#'  ==='      `-'    | ##,-/\n",
      "        -,____,---'       \\\\####\\\\________________,--\\\\_##,/\n",
      "           ___      .______        ______  __    __  .______      \n",
      "          /   \\     |   _  \\      /      ||  |  |  | |   _  \\     \n",
      "         /  ^  \\    |  |_)  |    |  ,----'|  |__|  | |  |_)  |    \n",
      "        /  /_\\  \\   |      /     |  |     |   __   | |      /     \n",
      "       /  _____  \\  |  |\\  \\\\___ |  `----.|  |  |  | |  |\\  \\\\___.\n",
      "      /__/     \\__\\ | _| `._____| \\______||__|  |__| | _| `._____|\n",
      "    \n",
      "\n"
     ]
    }
   ],
   "source": [
    "crfd <- loadArchRProject('CorticalFolding_Clean/')"
   ]
  },
  {
   "cell_type": "code",
   "execution_count": 3,
   "id": "6bc64c2e-4e4c-4432-bf7b-79f7f514bef3",
   "metadata": {},
   "outputs": [
    {
     "data": {
      "text/html": [
       "<style>\n",
       ".list-inline {list-style: none; margin:0; padding: 0}\n",
       ".list-inline>li {display: inline-block}\n",
       ".list-inline>li:not(:last-child)::after {content: \"\\00b7\"; padding: 0 .5ex}\n",
       "</style>\n",
       "<ol class=list-inline><li>'GeneScoreMatrix'</li><li>'PeakMatrix'</li><li>'TileMatrix'</li></ol>\n"
      ],
      "text/latex": [
       "\\begin{enumerate*}\n",
       "\\item 'GeneScoreMatrix'\n",
       "\\item 'PeakMatrix'\n",
       "\\item 'TileMatrix'\n",
       "\\end{enumerate*}\n"
      ],
      "text/markdown": [
       "1. 'GeneScoreMatrix'\n",
       "2. 'PeakMatrix'\n",
       "3. 'TileMatrix'\n",
       "\n",
       "\n"
      ],
      "text/plain": [
       "[1] \"GeneScoreMatrix\" \"PeakMatrix\"      \"TileMatrix\"     "
      ]
     },
     "metadata": {},
     "output_type": "display_data"
    }
   ],
   "source": [
    "getAvailableMatrices(crfd)"
   ]
  },
  {
   "cell_type": "code",
   "execution_count": 4,
   "id": "7c520058-0c2f-4924-a976-7dcbf2753938",
   "metadata": {},
   "outputs": [
    {
     "data": {
      "text/html": [
       "<table class=\"dataframe\">\n",
       "<caption>A data.frame: 6 × 23</caption>\n",
       "<thead>\n",
       "\t<tr><th></th><th scope=col>n_genes_by_counts</th><th scope=col>log1p_n_genes_by_counts</th><th scope=col>total_counts</th><th scope=col>log1p_total_counts</th><th scope=col>pct_counts_in_top_50_genes</th><th scope=col>pct_counts_in_top_100_genes</th><th scope=col>pct_counts_in_top_200_genes</th><th scope=col>pct_counts_in_top_500_genes</th><th scope=col>total_counts_mt</th><th scope=col>log1p_total_counts_mt</th><th scope=col>⋯</th><th scope=col>pct_counts_ribo</th><th scope=col>total_counts_hb</th><th scope=col>log1p_total_counts_hb</th><th scope=col>pct_counts_hb</th><th scope=col>n_genes</th><th scope=col>sample</th><th scope=col>celltype</th><th scope=col>omic</th><th scope=col>celltype_sample</th><th scope=col>balancing_weight</th></tr>\n",
       "\t<tr><th></th><th scope=col>&lt;int&gt;</th><th scope=col>&lt;dbl&gt;</th><th scope=col>&lt;int&gt;</th><th scope=col>&lt;dbl&gt;</th><th scope=col>&lt;dbl&gt;</th><th scope=col>&lt;dbl&gt;</th><th scope=col>&lt;dbl&gt;</th><th scope=col>&lt;dbl&gt;</th><th scope=col>&lt;int&gt;</th><th scope=col>&lt;dbl&gt;</th><th scope=col>⋯</th><th scope=col>&lt;dbl&gt;</th><th scope=col>&lt;int&gt;</th><th scope=col>&lt;dbl&gt;</th><th scope=col>&lt;dbl&gt;</th><th scope=col>&lt;int&gt;</th><th scope=col>&lt;chr&gt;</th><th scope=col>&lt;chr&gt;</th><th scope=col>&lt;chr&gt;</th><th scope=col>&lt;chr&gt;</th><th scope=col>&lt;dbl&gt;</th></tr>\n",
       "</thead>\n",
       "<tbody>\n",
       "\t<tr><th scope=row>GW11_C_AAACCCAAGCCGATTT-1</th><td>5128</td><td>8.542666</td><td>17048</td><td>9.743847</td><td>16.57086</td><td>23.45143</td><td>32.42609</td><td>47.67128</td><td>219</td><td>5.393628</td><td>⋯</td><td>5.290943</td><td> 5</td><td>1.791759</td><td>0.02932895</td><td>5128</td><td>Sulcus</td><td>Nascent_ExN</td><td>RNA</td><td>Nascent_ExN_Sulcus</td><td>2.2824620</td></tr>\n",
       "\t<tr><th scope=row>GW11_C_AAACCCAAGGTTGTTC-1</th><td>2923</td><td>7.980708</td><td> 6199</td><td>8.732305</td><td>16.26069</td><td>24.08453</td><td>34.15067</td><td>51.23407</td><td>103</td><td>4.644391</td><td>⋯</td><td>9.469269</td><td>10</td><td>2.397895</td><td>0.16131634</td><td>2923</td><td>Sulcus</td><td>vRG        </td><td>RNA</td><td>vRG_Sulcus        </td><td>1.1816024</td></tr>\n",
       "\t<tr><th scope=row>GW11_C_AAACCCAAGTGTGTTC-1</th><td>2682</td><td>7.894691</td><td> 4846</td><td>8.486115</td><td>14.40363</td><td>21.02765</td><td>30.14858</td><td>46.69831</td><td> 19</td><td>2.995732</td><td>⋯</td><td>9.327280</td><td>10</td><td>2.397895</td><td>0.20635576</td><td>2682</td><td>Sulcus</td><td>vRG        </td><td>RNA</td><td>vRG_Sulcus        </td><td>0.9293773</td></tr>\n",
       "\t<tr><th scope=row>GW11_C_AAACCCAGTCCCGTGA-1</th><td>4053</td><td>8.307459</td><td>11046</td><td>9.309914</td><td>16.65761</td><td>24.14449</td><td>33.72261</td><td>49.75557</td><td>193</td><td>5.267858</td><td>⋯</td><td>9.351802</td><td> 4</td><td>1.609438</td><td>0.03621220</td><td>4053</td><td>Sulcus</td><td>IPC2       </td><td>RNA</td><td>IPC2_Sulcus       </td><td>0.3443686</td></tr>\n",
       "\t<tr><th scope=row>GW11_C_AAACCCAGTTTGAAAG-1</th><td>1188</td><td>7.080868</td><td> 1739</td><td>7.461640</td><td>17.42381</td><td>26.04945</td><td>38.35538</td><td>60.43703</td><td> 72</td><td>4.290459</td><td>⋯</td><td>2.127660</td><td> 2</td><td>1.098612</td><td>0.11500863</td><td>1188</td><td>Sulcus</td><td>vRG        </td><td>RNA</td><td>vRG_Sulcus        </td><td>0.6765791</td></tr>\n",
       "\t<tr><th scope=row>GW11_C_AAACCCATCACCGGGT-1</th><td>5918</td><td>8.685923</td><td>21351</td><td>9.968901</td><td>15.14215</td><td>21.94745</td><td>31.15077</td><td>46.24139</td><td>243</td><td>5.497168</td><td>⋯</td><td>6.191747</td><td>10</td><td>2.397895</td><td>0.04683621</td><td>5918</td><td>Sulcus</td><td>Nascent_ExN</td><td>RNA</td><td>Nascent_ExN_Sulcus</td><td>2.2824620</td></tr>\n",
       "</tbody>\n",
       "</table>\n"
      ],
      "text/latex": [
       "A data.frame: 6 × 23\n",
       "\\begin{tabular}{r|lllllllllllllllllllll}\n",
       "  & n\\_genes\\_by\\_counts & log1p\\_n\\_genes\\_by\\_counts & total\\_counts & log1p\\_total\\_counts & pct\\_counts\\_in\\_top\\_50\\_genes & pct\\_counts\\_in\\_top\\_100\\_genes & pct\\_counts\\_in\\_top\\_200\\_genes & pct\\_counts\\_in\\_top\\_500\\_genes & total\\_counts\\_mt & log1p\\_total\\_counts\\_mt & ⋯ & pct\\_counts\\_ribo & total\\_counts\\_hb & log1p\\_total\\_counts\\_hb & pct\\_counts\\_hb & n\\_genes & sample & celltype & omic & celltype\\_sample & balancing\\_weight\\\\\n",
       "  & <int> & <dbl> & <int> & <dbl> & <dbl> & <dbl> & <dbl> & <dbl> & <int> & <dbl> & ⋯ & <dbl> & <int> & <dbl> & <dbl> & <int> & <chr> & <chr> & <chr> & <chr> & <dbl>\\\\\n",
       "\\hline\n",
       "\tGW11\\_C\\_AAACCCAAGCCGATTT-1 & 5128 & 8.542666 & 17048 & 9.743847 & 16.57086 & 23.45143 & 32.42609 & 47.67128 & 219 & 5.393628 & ⋯ & 5.290943 &  5 & 1.791759 & 0.02932895 & 5128 & Sulcus & Nascent\\_ExN & RNA & Nascent\\_ExN\\_Sulcus & 2.2824620\\\\\n",
       "\tGW11\\_C\\_AAACCCAAGGTTGTTC-1 & 2923 & 7.980708 &  6199 & 8.732305 & 16.26069 & 24.08453 & 34.15067 & 51.23407 & 103 & 4.644391 & ⋯ & 9.469269 & 10 & 2.397895 & 0.16131634 & 2923 & Sulcus & vRG         & RNA & vRG\\_Sulcus         & 1.1816024\\\\\n",
       "\tGW11\\_C\\_AAACCCAAGTGTGTTC-1 & 2682 & 7.894691 &  4846 & 8.486115 & 14.40363 & 21.02765 & 30.14858 & 46.69831 &  19 & 2.995732 & ⋯ & 9.327280 & 10 & 2.397895 & 0.20635576 & 2682 & Sulcus & vRG         & RNA & vRG\\_Sulcus         & 0.9293773\\\\\n",
       "\tGW11\\_C\\_AAACCCAGTCCCGTGA-1 & 4053 & 8.307459 & 11046 & 9.309914 & 16.65761 & 24.14449 & 33.72261 & 49.75557 & 193 & 5.267858 & ⋯ & 9.351802 &  4 & 1.609438 & 0.03621220 & 4053 & Sulcus & IPC2        & RNA & IPC2\\_Sulcus        & 0.3443686\\\\\n",
       "\tGW11\\_C\\_AAACCCAGTTTGAAAG-1 & 1188 & 7.080868 &  1739 & 7.461640 & 17.42381 & 26.04945 & 38.35538 & 60.43703 &  72 & 4.290459 & ⋯ & 2.127660 &  2 & 1.098612 & 0.11500863 & 1188 & Sulcus & vRG         & RNA & vRG\\_Sulcus         & 0.6765791\\\\\n",
       "\tGW11\\_C\\_AAACCCATCACCGGGT-1 & 5918 & 8.685923 & 21351 & 9.968901 & 15.14215 & 21.94745 & 31.15077 & 46.24139 & 243 & 5.497168 & ⋯ & 6.191747 & 10 & 2.397895 & 0.04683621 & 5918 & Sulcus & Nascent\\_ExN & RNA & Nascent\\_ExN\\_Sulcus & 2.2824620\\\\\n",
       "\\end{tabular}\n"
      ],
      "text/markdown": [
       "\n",
       "A data.frame: 6 × 23\n",
       "\n",
       "| <!--/--> | n_genes_by_counts &lt;int&gt; | log1p_n_genes_by_counts &lt;dbl&gt; | total_counts &lt;int&gt; | log1p_total_counts &lt;dbl&gt; | pct_counts_in_top_50_genes &lt;dbl&gt; | pct_counts_in_top_100_genes &lt;dbl&gt; | pct_counts_in_top_200_genes &lt;dbl&gt; | pct_counts_in_top_500_genes &lt;dbl&gt; | total_counts_mt &lt;int&gt; | log1p_total_counts_mt &lt;dbl&gt; | ⋯ ⋯ | pct_counts_ribo &lt;dbl&gt; | total_counts_hb &lt;int&gt; | log1p_total_counts_hb &lt;dbl&gt; | pct_counts_hb &lt;dbl&gt; | n_genes &lt;int&gt; | sample &lt;chr&gt; | celltype &lt;chr&gt; | omic &lt;chr&gt; | celltype_sample &lt;chr&gt; | balancing_weight &lt;dbl&gt; |\n",
       "|---|---|---|---|---|---|---|---|---|---|---|---|---|---|---|---|---|---|---|---|---|---|\n",
       "| GW11_C_AAACCCAAGCCGATTT-1 | 5128 | 8.542666 | 17048 | 9.743847 | 16.57086 | 23.45143 | 32.42609 | 47.67128 | 219 | 5.393628 | ⋯ | 5.290943 |  5 | 1.791759 | 0.02932895 | 5128 | Sulcus | Nascent_ExN | RNA | Nascent_ExN_Sulcus | 2.2824620 |\n",
       "| GW11_C_AAACCCAAGGTTGTTC-1 | 2923 | 7.980708 |  6199 | 8.732305 | 16.26069 | 24.08453 | 34.15067 | 51.23407 | 103 | 4.644391 | ⋯ | 9.469269 | 10 | 2.397895 | 0.16131634 | 2923 | Sulcus | vRG         | RNA | vRG_Sulcus         | 1.1816024 |\n",
       "| GW11_C_AAACCCAAGTGTGTTC-1 | 2682 | 7.894691 |  4846 | 8.486115 | 14.40363 | 21.02765 | 30.14858 | 46.69831 |  19 | 2.995732 | ⋯ | 9.327280 | 10 | 2.397895 | 0.20635576 | 2682 | Sulcus | vRG         | RNA | vRG_Sulcus         | 0.9293773 |\n",
       "| GW11_C_AAACCCAGTCCCGTGA-1 | 4053 | 8.307459 | 11046 | 9.309914 | 16.65761 | 24.14449 | 33.72261 | 49.75557 | 193 | 5.267858 | ⋯ | 9.351802 |  4 | 1.609438 | 0.03621220 | 4053 | Sulcus | IPC2        | RNA | IPC2_Sulcus        | 0.3443686 |\n",
       "| GW11_C_AAACCCAGTTTGAAAG-1 | 1188 | 7.080868 |  1739 | 7.461640 | 17.42381 | 26.04945 | 38.35538 | 60.43703 |  72 | 4.290459 | ⋯ | 2.127660 |  2 | 1.098612 | 0.11500863 | 1188 | Sulcus | vRG         | RNA | vRG_Sulcus         | 0.6765791 |\n",
       "| GW11_C_AAACCCATCACCGGGT-1 | 5918 | 8.685923 | 21351 | 9.968901 | 15.14215 | 21.94745 | 31.15077 | 46.24139 | 243 | 5.497168 | ⋯ | 6.191747 | 10 | 2.397895 | 0.04683621 | 5918 | Sulcus | Nascent_ExN | RNA | Nascent_ExN_Sulcus | 2.2824620 |\n",
       "\n"
      ],
      "text/plain": [
       "                          n_genes_by_counts log1p_n_genes_by_counts\n",
       "GW11_C_AAACCCAAGCCGATTT-1 5128              8.542666               \n",
       "GW11_C_AAACCCAAGGTTGTTC-1 2923              7.980708               \n",
       "GW11_C_AAACCCAAGTGTGTTC-1 2682              7.894691               \n",
       "GW11_C_AAACCCAGTCCCGTGA-1 4053              8.307459               \n",
       "GW11_C_AAACCCAGTTTGAAAG-1 1188              7.080868               \n",
       "GW11_C_AAACCCATCACCGGGT-1 5918              8.685923               \n",
       "                          total_counts log1p_total_counts\n",
       "GW11_C_AAACCCAAGCCGATTT-1 17048        9.743847          \n",
       "GW11_C_AAACCCAAGGTTGTTC-1  6199        8.732305          \n",
       "GW11_C_AAACCCAAGTGTGTTC-1  4846        8.486115          \n",
       "GW11_C_AAACCCAGTCCCGTGA-1 11046        9.309914          \n",
       "GW11_C_AAACCCAGTTTGAAAG-1  1739        7.461640          \n",
       "GW11_C_AAACCCATCACCGGGT-1 21351        9.968901          \n",
       "                          pct_counts_in_top_50_genes\n",
       "GW11_C_AAACCCAAGCCGATTT-1 16.57086                  \n",
       "GW11_C_AAACCCAAGGTTGTTC-1 16.26069                  \n",
       "GW11_C_AAACCCAAGTGTGTTC-1 14.40363                  \n",
       "GW11_C_AAACCCAGTCCCGTGA-1 16.65761                  \n",
       "GW11_C_AAACCCAGTTTGAAAG-1 17.42381                  \n",
       "GW11_C_AAACCCATCACCGGGT-1 15.14215                  \n",
       "                          pct_counts_in_top_100_genes\n",
       "GW11_C_AAACCCAAGCCGATTT-1 23.45143                   \n",
       "GW11_C_AAACCCAAGGTTGTTC-1 24.08453                   \n",
       "GW11_C_AAACCCAAGTGTGTTC-1 21.02765                   \n",
       "GW11_C_AAACCCAGTCCCGTGA-1 24.14449                   \n",
       "GW11_C_AAACCCAGTTTGAAAG-1 26.04945                   \n",
       "GW11_C_AAACCCATCACCGGGT-1 21.94745                   \n",
       "                          pct_counts_in_top_200_genes\n",
       "GW11_C_AAACCCAAGCCGATTT-1 32.42609                   \n",
       "GW11_C_AAACCCAAGGTTGTTC-1 34.15067                   \n",
       "GW11_C_AAACCCAAGTGTGTTC-1 30.14858                   \n",
       "GW11_C_AAACCCAGTCCCGTGA-1 33.72261                   \n",
       "GW11_C_AAACCCAGTTTGAAAG-1 38.35538                   \n",
       "GW11_C_AAACCCATCACCGGGT-1 31.15077                   \n",
       "                          pct_counts_in_top_500_genes total_counts_mt\n",
       "GW11_C_AAACCCAAGCCGATTT-1 47.67128                    219            \n",
       "GW11_C_AAACCCAAGGTTGTTC-1 51.23407                    103            \n",
       "GW11_C_AAACCCAAGTGTGTTC-1 46.69831                     19            \n",
       "GW11_C_AAACCCAGTCCCGTGA-1 49.75557                    193            \n",
       "GW11_C_AAACCCAGTTTGAAAG-1 60.43703                     72            \n",
       "GW11_C_AAACCCATCACCGGGT-1 46.24139                    243            \n",
       "                          log1p_total_counts_mt ⋯ pct_counts_ribo\n",
       "GW11_C_AAACCCAAGCCGATTT-1 5.393628              ⋯ 5.290943       \n",
       "GW11_C_AAACCCAAGGTTGTTC-1 4.644391              ⋯ 9.469269       \n",
       "GW11_C_AAACCCAAGTGTGTTC-1 2.995732              ⋯ 9.327280       \n",
       "GW11_C_AAACCCAGTCCCGTGA-1 5.267858              ⋯ 9.351802       \n",
       "GW11_C_AAACCCAGTTTGAAAG-1 4.290459              ⋯ 2.127660       \n",
       "GW11_C_AAACCCATCACCGGGT-1 5.497168              ⋯ 6.191747       \n",
       "                          total_counts_hb log1p_total_counts_hb pct_counts_hb\n",
       "GW11_C_AAACCCAAGCCGATTT-1  5              1.791759              0.02932895   \n",
       "GW11_C_AAACCCAAGGTTGTTC-1 10              2.397895              0.16131634   \n",
       "GW11_C_AAACCCAAGTGTGTTC-1 10              2.397895              0.20635576   \n",
       "GW11_C_AAACCCAGTCCCGTGA-1  4              1.609438              0.03621220   \n",
       "GW11_C_AAACCCAGTTTGAAAG-1  2              1.098612              0.11500863   \n",
       "GW11_C_AAACCCATCACCGGGT-1 10              2.397895              0.04683621   \n",
       "                          n_genes sample celltype    omic celltype_sample   \n",
       "GW11_C_AAACCCAAGCCGATTT-1 5128    Sulcus Nascent_ExN RNA  Nascent_ExN_Sulcus\n",
       "GW11_C_AAACCCAAGGTTGTTC-1 2923    Sulcus vRG         RNA  vRG_Sulcus        \n",
       "GW11_C_AAACCCAAGTGTGTTC-1 2682    Sulcus vRG         RNA  vRG_Sulcus        \n",
       "GW11_C_AAACCCAGTCCCGTGA-1 4053    Sulcus IPC2        RNA  IPC2_Sulcus       \n",
       "GW11_C_AAACCCAGTTTGAAAG-1 1188    Sulcus vRG         RNA  vRG_Sulcus        \n",
       "GW11_C_AAACCCATCACCGGGT-1 5918    Sulcus Nascent_ExN RNA  Nascent_ExN_Sulcus\n",
       "                          balancing_weight\n",
       "GW11_C_AAACCCAAGCCGATTT-1 2.2824620       \n",
       "GW11_C_AAACCCAAGGTTGTTC-1 1.1816024       \n",
       "GW11_C_AAACCCAAGTGTGTTC-1 0.9293773       \n",
       "GW11_C_AAACCCAGTCCCGTGA-1 0.3443686       \n",
       "GW11_C_AAACCCAGTTTGAAAG-1 0.6765791       \n",
       "GW11_C_AAACCCATCACCGGGT-1 2.2824620       "
      ]
     },
     "metadata": {},
     "output_type": "display_data"
    }
   ],
   "source": [
    "crfd_RNA <- readRDS('~/workspace/Mida_collab/sample_data/RNA_raw/sob.merge_sct.11-13.rds')###our scRNA seurat object\n",
    "adata_obs <- read.csv('CREs/adata_obs.csv',row.names = 1)\n",
    "head(adata_obs)"
   ]
  },
  {
   "cell_type": "code",
   "execution_count": 5,
   "id": "3ac21e53-f63e-45c2-82bd-4425197b4b80",
   "metadata": {},
   "outputs": [],
   "source": [
    "crfd_RNA <- crfd_RNA[,rownames(adata_obs)]###make sure low quality cells are excluded\n",
    "crfd_RNA@meta.data <- crfd_RNA@meta.data %>% mutate(celltype = adata_obs$celltype,sample = adata_obs$sample)\n",
    "crfd_RNA@meta.data$celltype_sample <- paste0(crfd_RNA@meta.data$celltype,'_',crfd_RNA@meta.data$sample)\n",
    "Idents(crfd_RNA) <- crfd_RNA@meta.data$sample"
   ]
  },
  {
   "cell_type": "code",
   "execution_count": 6,
   "id": "9169444c-6642-485f-890a-e6280210c5ae",
   "metadata": {},
   "outputs": [],
   "source": [
    "crfd@cellColData$celltype_sample <- paste0(crfd@cellColData$celltype,'_',crfd@cellColData$Sample)"
   ]
  },
  {
   "cell_type": "code",
   "execution_count": 7,
   "id": "38781a33-db2d-42cd-b8a2-85ccd5153e54",
   "metadata": {},
   "outputs": [
    {
     "name": "stderr",
     "output_type": "stream",
     "text": [
      "ArchR logging to : ArchRLogs/ArchR-addGeneIntegrationMatrix-1795db702b88e6-Date-2025-09-24_Time-00-45-03.693364.log\n",
      "If there is an issue, please report to github with logFile!\n",
      "\n",
      "2025-09-24 00:45:03.753695 : Running Seurat's Integration Stuart* et al 2019, 0.001 mins elapsed.\n",
      "\n",
      "2025-09-24 00:45:03.913295 : Checking ATAC Input, 0.004 mins elapsed.\n",
      "\n",
      "2025-09-24 00:45:04.014369 : Checking RNA Input, 0.005 mins elapsed.\n",
      "\n",
      "Warning message:\n",
      "“\u001b[1m\u001b[22mThe `slot` argument of `SetAssayData()` is deprecated as of SeuratObject 5.0.0.\n",
      "\u001b[36mℹ\u001b[39m Please use the `layer` argument instead.\n",
      "\u001b[36mℹ\u001b[39m The deprecated feature was likely used in the \u001b[34mSeurat\u001b[39m package.\n",
      "  Please report the issue at \u001b[3m\u001b[34m<https://github.com/satijalab/seurat/issues>\u001b[39m\u001b[23m.”\n",
      "Warning message:\n",
      "“\u001b[1m\u001b[22mThe `slot` argument of `GetAssayData()` is deprecated as of SeuratObject 5.0.0.\n",
      "\u001b[36mℹ\u001b[39m Please use the `layer` argument instead.\n",
      "\u001b[36mℹ\u001b[39m The deprecated feature was likely used in the \u001b[34mSeurat\u001b[39m package.\n",
      "  Please report the issue at \u001b[3m\u001b[34m<https://github.com/satijalab/seurat/issues>\u001b[39m\u001b[23m.”\n",
      "2025-09-24 00:45:07.60618 : Found 21369 overlapping gene names from gene scores and rna matrix!, 0.065 mins elapsed.\n",
      "\n",
      "2025-09-24 00:45:07.609108 : Creating Integration Blocks, 0.065 mins elapsed.\n",
      "\n",
      "2025-09-24 00:45:07.922083 : Prepping Interation Data, 0.07 mins elapsed.\n",
      "\n",
      "subThreading Disabled since ArchRLocking is TRUE see `addArchRLocking`\n",
      "\n",
      "2025-09-24 00:45:08.397729 : Computing Integration in 2 Integration Blocks!, 0 mins elapsed.\n",
      "\n",
      "2025-09-24 00:45:08.400605 : Block (1 of 2) : Computing Integration, 0 mins elapsed.\n",
      "\n",
      "2025-09-24 00:45:11.137251 : Block (1 of 2) : Identifying Variable Genes, 0.046 mins elapsed.\n",
      "\n",
      "2025-09-24 00:45:12.940486 : Block (1 of 2) : Getting GeneScoreMatrix, 0.076 mins elapsed.\n",
      "\n",
      "2025-09-24 00:45:33.978982 : Block (1 of 2) : Imputing GeneScoreMatrix, 0.426 mins elapsed.\n",
      "\n",
      "Getting ImputeWeights\n",
      "\n",
      "2025-09-24 00:46:15.311269 : Block (1 of 2) : Seurat FindTransferAnchors, 1.115 mins elapsed.\n",
      "\n",
      "2025-09-24 00:46:32.017635 : Block (1 of 2) : Seurat TransferData Cell Group Labels, 1.394 mins elapsed.\n",
      "\n",
      "2025-09-24 00:46:34.134843 : Block (1 of 2) : Seurat TransferData Cell Names Labels, 1.429 mins elapsed.\n",
      "\n",
      "2025-09-24 00:46:43.245482 : Block (1 of 2) : Seurat TransferData GeneMatrix, 1.581 mins elapsed.\n",
      "\n",
      "2025-09-24 00:46:54.046192 : Block (1 of 2) : Saving TransferAnchors Joint CCA, 1.761 mins elapsed.\n",
      "\n",
      "2025-09-24 00:46:54.995931 : Block (1 of 2) : Transferring Paired RNA to Temp File, 1.777 mins elapsed.\n",
      "\n",
      "2025-09-24 00:47:02.210161 : Block (1 of 2) : Completed Integration, 1.897 mins elapsed.\n",
      "\n",
      "2025-09-24 00:47:02.884518 : Block (2 of 2) : Computing Integration, 1.908 mins elapsed.\n",
      "\n",
      "2025-09-24 00:47:05.294006 : Block (2 of 2) : Identifying Variable Genes, 1.948 mins elapsed.\n",
      "\n",
      "2025-09-24 00:47:07.052817 : Block (2 of 2) : Getting GeneScoreMatrix, 1.978 mins elapsed.\n",
      "\n",
      "2025-09-24 00:47:26.206317 : Block (2 of 2) : Imputing GeneScoreMatrix, 2.297 mins elapsed.\n",
      "\n",
      "Getting ImputeWeights\n",
      "\n",
      "2025-09-24 00:48:07.399307 : Block (2 of 2) : Seurat FindTransferAnchors, 2.983 mins elapsed.\n",
      "\n",
      "2025-09-24 00:48:24.661551 : Block (2 of 2) : Seurat TransferData Cell Group Labels, 3.271 mins elapsed.\n",
      "\n",
      "2025-09-24 00:48:26.771234 : Block (2 of 2) : Seurat TransferData Cell Names Labels, 3.306 mins elapsed.\n",
      "\n",
      "2025-09-24 00:48:35.859961 : Block (2 of 2) : Seurat TransferData GeneMatrix, 3.458 mins elapsed.\n",
      "\n",
      "2025-09-24 00:48:46.764378 : Block (2 of 2) : Saving TransferAnchors Joint CCA, 3.639 mins elapsed.\n",
      "\n",
      "2025-09-24 00:48:47.65184 : Block (2 of 2) : Transferring Paired RNA to Temp File, 3.654 mins elapsed.\n",
      "\n",
      "2025-09-24 00:48:54.714156 : Block (2 of 2) : Completed Integration, 3.772 mins elapsed.\n",
      "\n",
      "2025-09-24 00:48:55.345023 : Block (1 of 2) : Plotting Joint UMAP, 3.782 mins elapsed.\n",
      "\n",
      "Warning message:\n",
      "“\u001b[1m\u001b[22mThe `size` argument of `element_line()` is deprecated as of ggplot2 3.4.0.\n",
      "\u001b[36mℹ\u001b[39m Please use the `linewidth` argument instead.\n",
      "\u001b[36mℹ\u001b[39m The deprecated feature was likely used in the \u001b[34mArchR\u001b[39m package.\n",
      "  Please report the issue to the authors.”\n",
      "Warning message:\n",
      "“\u001b[1m\u001b[22mThe `size` argument of `element_rect()` is deprecated as of ggplot2 3.4.0.\n",
      "\u001b[36mℹ\u001b[39m Please use the `linewidth` argument instead.\n",
      "\u001b[36mℹ\u001b[39m The deprecated feature was likely used in the \u001b[34mArchR\u001b[39m package.\n",
      "  Please report the issue to the authors.”\n",
      "Warning message:\n",
      "“\u001b[1m\u001b[22m`aes_()` was deprecated in ggplot2 3.0.0.\n",
      "\u001b[36mℹ\u001b[39m Please use tidy evaluation idioms with `aes()`\n",
      "\u001b[36mℹ\u001b[39m The deprecated feature was likely used in the \u001b[34mArchR\u001b[39m package.\n",
      "  Please report the issue to the authors.”\n",
      "Length of unique values greater than palette, interpolating..\n",
      "\n",
      "2025-09-24 00:49:16.564949 : Block (2 of 2) : Plotting Joint UMAP, 4.136 mins elapsed.\n",
      "\n",
      "Length of unique values greater than palette, interpolating..\n",
      "\n",
      "2025-09-24 00:49:37.67242 : Transferring Data to ArrowFiles, 4.488 mins elapsed.\n",
      "\n",
      "2025-09-24 00:49:37.683434 : Adjacent (1 of 3) Getting GeneIntegrationMatrix From TempFiles!, 4.488 mins elapsed.\n",
      "\n",
      "2025-09-24 00:49:43.265742 : Adjacent (1 of 3) Adding GeneIntegrationMatrix to ArrowFile!, 4.581 mins elapsed.\n",
      "\n",
      "2025-09-24 00:50:31.354722 : Sulcus (2 of 3) Getting GeneIntegrationMatrix From TempFiles!, 5.383 mins elapsed.\n",
      "\n",
      "2025-09-24 00:50:36.805852 : Sulcus (2 of 3) Adding GeneIntegrationMatrix to ArrowFile!, 5.473 mins elapsed.\n",
      "\n",
      "2025-09-24 00:51:23.916815 : Distant (3 of 3) Getting GeneIntegrationMatrix From TempFiles!, 6.259 mins elapsed.\n",
      "\n",
      "2025-09-24 00:51:27.994201 : Distant (3 of 3) Adding GeneIntegrationMatrix to ArrowFile!, 6.327 mins elapsed.\n",
      "\n",
      "2025-09-24 00:52:09.024367 : Completed Integration with RNA Matrix, 7.01 mins elapsed.\n",
      "\n",
      "ArchR logging successful to : ArchRLogs/ArchR-addGeneIntegrationMatrix-1795db702b88e6-Date-2025-09-24_Time-00-45-03.693364.log\n",
      "\n"
     ]
    }
   ],
   "source": [
    "###Adding Gene Integration Matrix\n",
    "crfd <- addGeneIntegrationMatrix(crfd,seRNA = crfd_RNA,groupATAC = 'celltype_sample',groupRNA = 'celltype_sample',threads = 4 ,force= TRUE)"
   ]
  },
  {
   "cell_type": "code",
   "execution_count": 8,
   "id": "2e6133ce-eebd-40a8-a056-c322a31863fd",
   "metadata": {},
   "outputs": [
    {
     "name": "stderr",
     "output_type": "stream",
     "text": [
      "Saving ArchRProject...\n",
      "\n",
      "Loading ArchRProject...\n",
      "\n",
      "Successfully loaded ArchRProject!\n",
      "\n",
      "\n",
      "                                                   / |\n",
      "                                                 /    \\\n",
      "            .                                  /      |.\n",
      "            \\\\\\                              /        |.\n",
      "              \\\\\\                          /           `|.\n",
      "                \\\\\\                      /              |.\n",
      "                  \\                    /                |\\\n",
      "                  \\\\#####\\           /                  ||\n",
      "                ==###########>      /                   ||\n",
      "                 \\\\##==......\\    /                     ||\n",
      "            ______ =       =|__ /__                     ||      \\\\\\\n",
      "        ,--' ,----`-,__ ___/'  --,-`-===================##========>\n",
      "       \\               '        ##_______ _____ ,--,__,=##,__   ///\n",
      "        ,    __==    ___,-,__,--'#'  ==='      `-'    | ##,-/\n",
      "        -,____,---'       \\\\####\\\\________________,--\\\\_##,/\n",
      "           ___      .______        ______  __    __  .______      \n",
      "          /   \\     |   _  \\      /      ||  |  |  | |   _  \\     \n",
      "         /  ^  \\    |  |_)  |    |  ,----'|  |__|  | |  |_)  |    \n",
      "        /  /_\\  \\   |      /     |  |     |   __   | |      /     \n",
      "       /  _____  \\  |  |\\  \\\\___ |  `----.|  |  |  | |  |\\  \\\\___.\n",
      "      /__/     \\__\\ | _| `._____| \\______||__|  |__| | _| `._____|\n",
      "    \n",
      "\n",
      "\n",
      "           ___      .______        ______  __    __  .______      \n",
      "          /   \\     |   _  \\      /      ||  |  |  | |   _  \\     \n",
      "         /  ^  \\    |  |_)  |    |  ,----'|  |__|  | |  |_)  |    \n",
      "        /  /_\\  \\   |      /     |  |     |   __   | |      /     \n",
      "       /  _____  \\  |  |\\  \\\\___ |  `----.|  |  |  | |  |\\  \\\\___.\n",
      "      /__/     \\__\\ | _| `._____| \\______||__|  |__| | _| `._____|\n",
      "    \n",
      "\n"
     ]
    },
    {
     "data": {
      "text/plain": [
       "class: ArchRProject \n",
       "outputDirectory: /data/gaojie/Mida_collab/CorticalFolding_Clean \n",
       "samples(3): Adjacent Sulcus Distant\n",
       "sampleColData names(1): ArrowFiles\n",
       "cellColData names(24): Sample TSSEnrichment ... predictedGroup\n",
       "  predictedScore\n",
       "numberOfCells(1): 17758\n",
       "medianTSS(1): 11.1485\n",
       "medianFrags(1): 36034.5"
      ]
     },
     "metadata": {},
     "output_type": "display_data"
    }
   ],
   "source": [
    "saveArchRProject(crfd,outputDirectory ='CorticalFolding_Clean/')"
   ]
  },
  {
   "cell_type": "code",
   "execution_count": 9,
   "id": "7797621c-350a-4ee6-bc48-2ffe9a64e428",
   "metadata": {},
   "outputs": [
    {
     "name": "stderr",
     "output_type": "stream",
     "text": [
      "ArchR logging to : ArchRLogs/ArchR-addPeak2GeneLinks-1795db5d22d050-Date-2025-09-24_Time-00-52-14.366792.log\n",
      "If there is an issue, please report to github with logFile!\n",
      "\n",
      "2025-09-24 00:52:14.479273 : Getting Available Matrices, 0.002 mins elapsed.\n",
      "\n",
      "2025-09-24 00:52:15.000478 : Filtered Low Prediction Score Cells (4255 of 17758, 0.24), 0.002 mins elapsed.\n",
      "\n",
      "2025-09-24 00:52:15.254152 : Computing KNN, 0.007 mins elapsed.\n",
      "\n",
      "2025-09-24 00:52:15.394282 : Identifying Non-Overlapping KNN pairs, 0.009 mins elapsed.\n",
      "\n",
      "2025-09-24 00:52:16.597554 : Identified 498 Groupings!, 0.029 mins elapsed.\n",
      "\n",
      "2025-09-24 00:52:16.6378 : Getting Group RNA Matrix, 0.03 mins elapsed.\n",
      "\n",
      "2025-09-24 00:53:01.544107 : Getting Group ATAC Matrix, 0.778 mins elapsed.\n",
      "\n",
      "2025-09-24 00:54:04.87689 : Normalizing Group Matrices, 1.834 mins elapsed.\n",
      "\n",
      "2025-09-24 00:54:11.05155 : Finding Peak Gene Pairings, 1.937 mins elapsed.\n",
      "\n",
      "2025-09-24 00:54:11.545125 : Computing Correlations, 1.945 mins elapsed.\n",
      "\n",
      "2025-09-24 00:54:24.602942 : Completed Peak2Gene Correlations!, 2.162 mins elapsed.\n",
      "\n",
      "ArchR logging successful to : ArchRLogs/ArchR-addPeak2GeneLinks-1795db5d22d050-Date-2025-09-24_Time-00-52-14.366792.log\n",
      "\n"
     ]
    }
   ],
   "source": [
    "crfd <- addPeak2GeneLinks(crfd,threads = 4)"
   ]
  },
  {
   "cell_type": "code",
   "execution_count": 10,
   "id": "5c09b3b5-a531-459f-a981-1e9f5196ead7",
   "metadata": {},
   "outputs": [],
   "source": [
    "p2g <- getPeak2GeneLinks(\n",
    "    ArchRProj = crfd,\n",
    "    corCutOff = 0.45,\n",
    "    resolution = 1,\n",
    "    returnLoops = FALSE\n",
    ")"
   ]
  },
  {
   "cell_type": "code",
   "execution_count": 11,
   "id": "bbd6ed07-018f-4980-b843-65070b5c16af",
   "metadata": {},
   "outputs": [
    {
     "data": {
      "text/plain": [
       "DataFrame with 6 rows and 6 columns\n",
       "    idxATAC    idxRNA Correlation         FDR  VarQATAC   VarQRNA\n",
       "  <integer> <integer>   <numeric>   <numeric> <numeric> <numeric>\n",
       "1       116         3    0.532058 2.81399e-36  0.970214  0.504188\n",
       "2        39        12    0.555839 3.60187e-40  0.992966  0.650101\n",
       "3        41        12    0.483411 3.21128e-29  0.964338  0.650101\n",
       "4        57        12    0.506592 1.93846e-32  0.819567  0.650101\n",
       "5        69        12    0.638681 1.46714e-56  0.993129  0.650101\n",
       "6        71        12    0.513185 2.11408e-33  0.952509  0.650101"
      ]
     },
     "metadata": {},
     "output_type": "display_data"
    }
   ],
   "source": [
    "head(p2g)"
   ]
  },
  {
   "cell_type": "code",
   "execution_count": 12,
   "id": "34040e63-4089-48c7-a03f-f1ad74ab7afb",
   "metadata": {},
   "outputs": [
    {
     "data": {
      "text/plain": [
       "DataFrame with 6 rows and 8 columns\n",
       "    idxATAC    idxRNA Correlation         FDR  VarQATAC   VarQRNA    geneName\n",
       "  <integer> <integer>   <numeric>   <numeric> <numeric> <numeric> <character>\n",
       "1       116         3    0.532058 2.81399e-36  0.970214  0.504188   LINC01128\n",
       "2        39        12    0.555839 3.60187e-40  0.992966  0.650101       ISG15\n",
       "3        41        12    0.483411 3.21128e-29  0.964338  0.650101       ISG15\n",
       "4        57        12    0.506592 1.93846e-32  0.819567  0.650101       ISG15\n",
       "5        69        12    0.638681 1.46714e-56  0.993129  0.650101       ISG15\n",
       "6        71        12    0.513185 2.11408e-33  0.952509  0.650101       ISG15\n",
       "              peakName\n",
       "           <character>\n",
       "1 chr1_1040664_1041164\n",
       "2   chr1_940091_940591\n",
       "3   chr1_941613_942113\n",
       "4   chr1_975945_976445\n",
       "5  chr1_999909_1000409\n",
       "6 chr1_1001135_1001635"
      ]
     },
     "metadata": {},
     "output_type": "display_data"
    }
   ],
   "source": [
    "p2g$geneName <- mcols(metadata(p2g)$geneSet)$name[p2g$idxRNA] ###match names\n",
    "p2g$peakName <- (metadata(p2g)$peakSet %>% {paste0(seqnames(.), \"_\", start(.), \"_\", end(.))})[p2g$idxATAC]\n",
    "head(p2g)"
   ]
  },
  {
   "cell_type": "code",
   "execution_count": 13,
   "id": "fa5350a7-888d-459f-8b34-8ee4f9d6dbc3",
   "metadata": {},
   "outputs": [],
   "source": [
    "p2g_meta <- metadata(p2g)"
   ]
  },
  {
   "cell_type": "code",
   "execution_count": 14,
   "id": "fa7503e3-6900-456c-a4d6-5eb2a0d0a7ac",
   "metadata": {},
   "outputs": [],
   "source": [
    "peak_set <- p2g_meta$peakSet %>% as.data.frame()\n",
    "gene_set <- p2g_meta$geneSet %>% as.data.frame()"
   ]
  },
  {
   "cell_type": "code",
   "execution_count": 15,
   "id": "a264fc5d-41dd-4def-862a-f8d39be7bb99",
   "metadata": {
    "scrolled": true
   },
   "outputs": [],
   "source": [
    "gene_set$whole_names <- paste0(gene_set$seqnames,':',gene_set$start,'-',gene_set$end+1) ###match the names"
   ]
  },
  {
   "cell_type": "code",
   "execution_count": 16,
   "id": "e92c0fe0-997a-4381-bb30-d2e8e39349a2",
   "metadata": {
    "scrolled": true
   },
   "outputs": [
    {
     "data": {
      "text/html": [
       "<table class=\"dataframe\">\n",
       "<caption>A data.frame: 6 × 8</caption>\n",
       "<thead>\n",
       "\t<tr><th></th><th scope=col>seqnames</th><th scope=col>start</th><th scope=col>end</th><th scope=col>width</th><th scope=col>strand</th><th scope=col>name</th><th scope=col>idx</th><th scope=col>whole_names</th></tr>\n",
       "\t<tr><th></th><th scope=col>&lt;fct&gt;</th><th scope=col>&lt;int&gt;</th><th scope=col>&lt;int&gt;</th><th scope=col>&lt;int&gt;</th><th scope=col>&lt;fct&gt;</th><th scope=col>&lt;chr&gt;</th><th scope=col>&lt;int&gt;</th><th scope=col>&lt;chr&gt;</th></tr>\n",
       "</thead>\n",
       "<tbody>\n",
       "\t<tr><th scope=row>1</th><td>chr1</td><td> 69091</td><td> 69091</td><td>1</td><td>*</td><td>OR4F5    </td><td>1</td><td>chr1:69091-69092  </td></tr>\n",
       "\t<tr><th scope=row>2</th><td>chr1</td><td>817371</td><td>817371</td><td>1</td><td>*</td><td>FAM87B   </td><td>2</td><td>chr1:817371-817372</td></tr>\n",
       "\t<tr><th scope=row>3</th><td>chr1</td><td>825138</td><td>825138</td><td>1</td><td>*</td><td>LINC01128</td><td>3</td><td>chr1:825138-825139</td></tr>\n",
       "\t<tr><th scope=row>4</th><td>chr1</td><td>827522</td><td>827522</td><td>1</td><td>*</td><td>LINC00115</td><td>4</td><td>chr1:827522-827523</td></tr>\n",
       "\t<tr><th scope=row>5</th><td>chr1</td><td>876903</td><td>876903</td><td>1</td><td>*</td><td>FAM41C   </td><td>5</td><td>chr1:876903-876904</td></tr>\n",
       "\t<tr><th scope=row>6</th><td>chr1</td><td>919692</td><td>919692</td><td>1</td><td>*</td><td>LINC02593</td><td>6</td><td>chr1:919692-919693</td></tr>\n",
       "</tbody>\n",
       "</table>\n"
      ],
      "text/latex": [
       "A data.frame: 6 × 8\n",
       "\\begin{tabular}{r|llllllll}\n",
       "  & seqnames & start & end & width & strand & name & idx & whole\\_names\\\\\n",
       "  & <fct> & <int> & <int> & <int> & <fct> & <chr> & <int> & <chr>\\\\\n",
       "\\hline\n",
       "\t1 & chr1 &  69091 &  69091 & 1 & * & OR4F5     & 1 & chr1:69091-69092  \\\\\n",
       "\t2 & chr1 & 817371 & 817371 & 1 & * & FAM87B    & 2 & chr1:817371-817372\\\\\n",
       "\t3 & chr1 & 825138 & 825138 & 1 & * & LINC01128 & 3 & chr1:825138-825139\\\\\n",
       "\t4 & chr1 & 827522 & 827522 & 1 & * & LINC00115 & 4 & chr1:827522-827523\\\\\n",
       "\t5 & chr1 & 876903 & 876903 & 1 & * & FAM41C    & 5 & chr1:876903-876904\\\\\n",
       "\t6 & chr1 & 919692 & 919692 & 1 & * & LINC02593 & 6 & chr1:919692-919693\\\\\n",
       "\\end{tabular}\n"
      ],
      "text/markdown": [
       "\n",
       "A data.frame: 6 × 8\n",
       "\n",
       "| <!--/--> | seqnames &lt;fct&gt; | start &lt;int&gt; | end &lt;int&gt; | width &lt;int&gt; | strand &lt;fct&gt; | name &lt;chr&gt; | idx &lt;int&gt; | whole_names &lt;chr&gt; |\n",
       "|---|---|---|---|---|---|---|---|---|\n",
       "| 1 | chr1 |  69091 |  69091 | 1 | * | OR4F5     | 1 | chr1:69091-69092   |\n",
       "| 2 | chr1 | 817371 | 817371 | 1 | * | FAM87B    | 2 | chr1:817371-817372 |\n",
       "| 3 | chr1 | 825138 | 825138 | 1 | * | LINC01128 | 3 | chr1:825138-825139 |\n",
       "| 4 | chr1 | 827522 | 827522 | 1 | * | LINC00115 | 4 | chr1:827522-827523 |\n",
       "| 5 | chr1 | 876903 | 876903 | 1 | * | FAM41C    | 5 | chr1:876903-876904 |\n",
       "| 6 | chr1 | 919692 | 919692 | 1 | * | LINC02593 | 6 | chr1:919692-919693 |\n",
       "\n"
      ],
      "text/plain": [
       "  seqnames start  end    width strand name      idx whole_names       \n",
       "1 chr1      69091  69091 1     *      OR4F5     1   chr1:69091-69092  \n",
       "2 chr1     817371 817371 1     *      FAM87B    2   chr1:817371-817372\n",
       "3 chr1     825138 825138 1     *      LINC01128 3   chr1:825138-825139\n",
       "4 chr1     827522 827522 1     *      LINC00115 4   chr1:827522-827523\n",
       "5 chr1     876903 876903 1     *      FAM41C    5   chr1:876903-876904\n",
       "6 chr1     919692 919692 1     *      LINC02593 6   chr1:919692-919693"
      ]
     },
     "metadata": {},
     "output_type": "display_data"
    }
   ],
   "source": [
    "head(gene_set)"
   ]
  },
  {
   "cell_type": "code",
   "execution_count": 17,
   "id": "f297f3a9-1e2f-4a2e-953f-9758db95a8b9",
   "metadata": {},
   "outputs": [],
   "source": [
    "p2g_df <- p2g %>% as.data.frame() \n",
    "p2g_df <- p2g_df %>% cbind(.,peak_set[p2g_df$idxATAC,]) %>% \n",
    "            mutate(gene_regions = gene_set[p2g_df$idxRNA,'whole_names']) %>%\n",
    "            mutate(gene_regions_score = paste0(gene_regions,',',100*Correlation)) %>% ###scale the Correlation value to better visualize in WashU Epigenome Browser\n",
    "            select(c('seqnames','start','end','gene_regions_score'))"
   ]
  },
  {
   "cell_type": "code",
   "execution_count": 18,
   "id": "d44e27b4-920b-4733-94ab-3c69fc15e7a4",
   "metadata": {
    "scrolled": true
   },
   "outputs": [
    {
     "data": {
      "text/html": [
       "<table class=\"dataframe\">\n",
       "<caption>A data.frame: 6 × 4</caption>\n",
       "<thead>\n",
       "\t<tr><th></th><th scope=col>seqnames</th><th scope=col>start</th><th scope=col>end</th><th scope=col>gene_regions_score</th></tr>\n",
       "\t<tr><th></th><th scope=col>&lt;fct&gt;</th><th scope=col>&lt;int&gt;</th><th scope=col>&lt;int&gt;</th><th scope=col>&lt;chr&gt;</th></tr>\n",
       "</thead>\n",
       "<tbody>\n",
       "\t<tr><th scope=row>116</th><td>chr1</td><td>1040664</td><td>1041164</td><td>chr1:825138-825139,53.2057919584169  </td></tr>\n",
       "\t<tr><th scope=row>39</th><td>chr1</td><td> 940091</td><td> 940591</td><td>chr1:1001138-1001139,55.5838907196022</td></tr>\n",
       "\t<tr><th scope=row>41</th><td>chr1</td><td> 941613</td><td> 942113</td><td>chr1:1001138-1001139,48.3411281217146</td></tr>\n",
       "\t<tr><th scope=row>57</th><td>chr1</td><td> 975945</td><td> 976445</td><td>chr1:1001138-1001139,50.659164362795 </td></tr>\n",
       "\t<tr><th scope=row>69</th><td>chr1</td><td> 999909</td><td>1000409</td><td>chr1:1001138-1001139,63.8681151991367</td></tr>\n",
       "\t<tr><th scope=row>71</th><td>chr1</td><td>1001135</td><td>1001635</td><td>chr1:1001138-1001139,51.3185304338701</td></tr>\n",
       "</tbody>\n",
       "</table>\n"
      ],
      "text/latex": [
       "A data.frame: 6 × 4\n",
       "\\begin{tabular}{r|llll}\n",
       "  & seqnames & start & end & gene\\_regions\\_score\\\\\n",
       "  & <fct> & <int> & <int> & <chr>\\\\\n",
       "\\hline\n",
       "\t116 & chr1 & 1040664 & 1041164 & chr1:825138-825139,53.2057919584169  \\\\\n",
       "\t39 & chr1 &  940091 &  940591 & chr1:1001138-1001139,55.5838907196022\\\\\n",
       "\t41 & chr1 &  941613 &  942113 & chr1:1001138-1001139,48.3411281217146\\\\\n",
       "\t57 & chr1 &  975945 &  976445 & chr1:1001138-1001139,50.659164362795 \\\\\n",
       "\t69 & chr1 &  999909 & 1000409 & chr1:1001138-1001139,63.8681151991367\\\\\n",
       "\t71 & chr1 & 1001135 & 1001635 & chr1:1001138-1001139,51.3185304338701\\\\\n",
       "\\end{tabular}\n"
      ],
      "text/markdown": [
       "\n",
       "A data.frame: 6 × 4\n",
       "\n",
       "| <!--/--> | seqnames &lt;fct&gt; | start &lt;int&gt; | end &lt;int&gt; | gene_regions_score &lt;chr&gt; |\n",
       "|---|---|---|---|---|\n",
       "| 116 | chr1 | 1040664 | 1041164 | chr1:825138-825139,53.2057919584169   |\n",
       "| 39 | chr1 |  940091 |  940591 | chr1:1001138-1001139,55.5838907196022 |\n",
       "| 41 | chr1 |  941613 |  942113 | chr1:1001138-1001139,48.3411281217146 |\n",
       "| 57 | chr1 |  975945 |  976445 | chr1:1001138-1001139,50.659164362795  |\n",
       "| 69 | chr1 |  999909 | 1000409 | chr1:1001138-1001139,63.8681151991367 |\n",
       "| 71 | chr1 | 1001135 | 1001635 | chr1:1001138-1001139,51.3185304338701 |\n",
       "\n"
      ],
      "text/plain": [
       "    seqnames start   end     gene_regions_score                   \n",
       "116 chr1     1040664 1041164 chr1:825138-825139,53.2057919584169  \n",
       "39  chr1      940091  940591 chr1:1001138-1001139,55.5838907196022\n",
       "41  chr1      941613  942113 chr1:1001138-1001139,48.3411281217146\n",
       "57  chr1      975945  976445 chr1:1001138-1001139,50.659164362795 \n",
       "69  chr1      999909 1000409 chr1:1001138-1001139,63.8681151991367\n",
       "71  chr1     1001135 1001635 chr1:1001138-1001139,51.3185304338701"
      ]
     },
     "metadata": {},
     "output_type": "display_data"
    }
   ],
   "source": [
    "head(p2g_df)"
   ]
  },
  {
   "cell_type": "code",
   "execution_count": 19,
   "id": "c388c1c6-9ab1-49b9-aba7-a8f80c122300",
   "metadata": {},
   "outputs": [],
   "source": [
    "write.table(p2g_df, \"CREs/all_loop_longrange.txt\", sep = \"\\t\", quote = FALSE, row.names = FALSE, col.names = FALSE)\n",
    "###Visualize in WashU Epigenome Browser"
   ]
  },
  {
   "cell_type": "code",
   "execution_count": null,
   "id": "f681575b-3b3e-45d9-b7f5-0522eee05136",
   "metadata": {},
   "outputs": [],
   "source": []
  }
 ],
 "metadata": {
  "kernelspec": {
   "display_name": "ArchR",
   "language": "R",
   "name": "archr"
  },
  "language_info": {
   "codemirror_mode": "r",
   "file_extension": ".r",
   "mimetype": "text/x-r-source",
   "name": "R",
   "pygments_lexer": "r",
   "version": "4.4.3"
  }
 },
 "nbformat": 4,
 "nbformat_minor": 5
}
