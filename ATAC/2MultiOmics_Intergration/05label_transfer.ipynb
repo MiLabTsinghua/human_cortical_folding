{
 "cells": [
  {
   "cell_type": "code",
   "execution_count": 1,
   "id": "ae6b3327-71c6-432e-9432-8a437367f254",
   "metadata": {},
   "outputs": [
    {
     "name": "stderr",
     "output_type": "stream",
     "text": [
      "载入需要的程序包：SeuratObject\n",
      "\n",
      "载入需要的程序包：sp\n",
      "\n",
      "\n",
      "载入程序包：‘SeuratObject’\n",
      "\n",
      "\n",
      "The following objects are masked from ‘package:base’:\n",
      "\n",
      "    intersect, t\n",
      "\n",
      "\n",
      "── \u001b[1mAttaching core tidyverse packages\u001b[22m ──────────────────────── tidyverse 2.0.0 ──\n",
      "\u001b[32m✔\u001b[39m \u001b[34mdplyr    \u001b[39m 1.1.4     \u001b[32m✔\u001b[39m \u001b[34mreadr    \u001b[39m 2.1.5\n",
      "\u001b[32m✔\u001b[39m \u001b[34mforcats  \u001b[39m 1.0.0     \u001b[32m✔\u001b[39m \u001b[34mstringr  \u001b[39m 1.5.1\n",
      "\u001b[32m✔\u001b[39m \u001b[34mggplot2  \u001b[39m 3.5.2     \u001b[32m✔\u001b[39m \u001b[34mtibble   \u001b[39m 3.3.0\n",
      "\u001b[32m✔\u001b[39m \u001b[34mlubridate\u001b[39m 1.9.4     \u001b[32m✔\u001b[39m \u001b[34mtidyr    \u001b[39m 1.3.1\n",
      "\u001b[32m✔\u001b[39m \u001b[34mpurrr    \u001b[39m 1.1.0     \n",
      "── \u001b[1mConflicts\u001b[22m ────────────────────────────────────────── tidyverse_conflicts() ──\n",
      "\u001b[31m✖\u001b[39m \u001b[34mdplyr\u001b[39m::\u001b[32mfilter()\u001b[39m masks \u001b[34mstats\u001b[39m::filter()\n",
      "\u001b[31m✖\u001b[39m \u001b[34mdplyr\u001b[39m::\u001b[32mlag()\u001b[39m    masks \u001b[34mstats\u001b[39m::lag()\n",
      "\u001b[36mℹ\u001b[39m Use the conflicted package (\u001b[3m\u001b[34m<http://conflicted.r-lib.org/>\u001b[39m\u001b[23m) to force all conflicts to become errors\n",
      "载入需要的程序包：Rcpp\n",
      "\n"
     ]
    }
   ],
   "source": [
    "library(Seurat)\n",
    "library(tidyverse)\n",
    "library(harmony)"
   ]
  },
  {
   "cell_type": "code",
   "execution_count": 2,
   "id": "03f43ffa-82f9-44f5-8aa7-7d03148723c2",
   "metadata": {},
   "outputs": [],
   "source": [
    "setwd('~/workspace/Mida_collab/')"
   ]
  },
  {
   "cell_type": "code",
   "execution_count": 3,
   "id": "50bc0b4a-d4b6-4112-8a24-2f27136f1b2b",
   "metadata": {},
   "outputs": [],
   "source": [
    "LabelTransfer.custom <- function(meta, emb, split.by, reference.name, transfers = \"label\", group.by = NULL, k = 20){\n",
    "\t## The function to get the neighoring information\n",
    "\tget_most <- function(x){\n",
    "\t\treturn(names(sort(table(as.character(x)), decreasing = TRUE))[1])\n",
    "\t}\n",
    "\n",
    "\n",
    "    ref_idx <- which(meta[[split.by]] %in% reference.name)\n",
    "    query_idx <- setdiff(1:nrow(meta), ref_idx)\n",
    "\n",
    "    new_meta <- lapply(transfers, function(anno){\n",
    "        ## Get the KNN cells for all the query cells\n",
    "\t\tknn_cells <- FNN::get.knnx(data = emb[ref_idx, ,drop = FALSE], query = emb[query_idx, ,drop = FALSE], k = k) %>%\n",
    "\t\t\t\t\t\t.$nn.index\n",
    "\n",
    "\t\t## Get the annotation for reference cells\n",
    "\t\tref_anno <- meta[[anno]][ref_idx]\n",
    "\n",
    "\t\t## Do the annotation transfer at cellular level\n",
    "        ident_fun <- switch(class(ref_anno), \n",
    "                            character = get_most,\n",
    "                            numeric = mean,\n",
    "                            integer = mean, \n",
    "                            stop(paste0(\"column \", anno, \" has unsupported object type\")))\n",
    "        query_anno <- apply(knn_cells, 1, function(x) ident_fun(ref_anno[x]))\n",
    "        \n",
    "        ## Merge the reference and query annotations\n",
    "        if (!is.null(group.by)) {\n",
    "            cluster_ident <- meta[[group.by]]\n",
    "        } else {\n",
    "            cluster_ident <- \"empty\"\n",
    "        }\n",
    "        df <- data.frame(identity = meta[[anno]], \n",
    "                            cluster = cluster_ident,\n",
    "                            dataset = meta[[split.by]],\n",
    "                            stringsAsFactors = FALSE) %>%\n",
    "                            mutate(!!sym(paste0(anno, \"_cellpred\")) := meta[[anno]])\n",
    "        df[[paste0(anno, \"_cellpred\")]][query_idx] <- query_anno\n",
    "\n",
    "\n",
    "        ## Do the cluster level if needed\n",
    "        if (!is.null(group.by)){\n",
    "            cls_anno <- df %>%\n",
    "                filter(!dataset %in% reference.name) %>%\n",
    "                group_by(cluster) %>%\n",
    "                summarize(!!sym(paste0(anno, \"_clusterpred\")) := ident_fun(!!sym(paste0(anno, \"_cellpred\"))))\n",
    "            df[[paste0(anno, \"_clusterpred\")]] <- cls_anno[[paste0(anno, \"_clusterpred\")]][match(df$cluster, cls_anno$cluster)]\n",
    "        }\n",
    "\t\treturn(df)\n",
    "    }) %>% \n",
    "        do.call(cbind, .)\n",
    "    rownames(new_meta) <- rownames(meta)\n",
    "    return(new_meta)\n",
    "}"
   ]
  },
  {
   "cell_type": "code",
   "execution_count": 4,
   "id": "20d0e6b2-f7d5-4283-88d7-e5b403674c73",
   "metadata": {},
   "outputs": [],
   "source": [
    "glue_emb <- as.matrix(read.csv('Multi-omics_intergration/output/emb_glue_array.csv',sep=',',header = FALSE))"
   ]
  },
  {
   "cell_type": "code",
   "execution_count": 5,
   "id": "baec74ed-2d36-400b-adee-0f31d5c69e40",
   "metadata": {
    "scrolled": true
   },
   "outputs": [
    {
     "data": {
      "text/html": [
       "<table class=\"dataframe\">\n",
       "<caption>A matrix: 6 × 50 of type dbl</caption>\n",
       "<thead>\n",
       "\t<tr><th scope=col>V1</th><th scope=col>V2</th><th scope=col>V3</th><th scope=col>V4</th><th scope=col>V5</th><th scope=col>V6</th><th scope=col>V7</th><th scope=col>V8</th><th scope=col>V9</th><th scope=col>V10</th><th scope=col>⋯</th><th scope=col>V41</th><th scope=col>V42</th><th scope=col>V43</th><th scope=col>V44</th><th scope=col>V45</th><th scope=col>V46</th><th scope=col>V47</th><th scope=col>V48</th><th scope=col>V49</th><th scope=col>V50</th></tr>\n",
       "</thead>\n",
       "<tbody>\n",
       "\t<tr><td> 0.5750086</td><td> 0.48125893</td><td>-0.1851348</td><td> 2.0078039</td><td>-2.58747888</td><td>-0.90587854</td><td>-0.2921245</td><td>-0.7477679</td><td>-0.8498259</td><td>-0.09868485</td><td>⋯</td><td>-0.2741948</td><td> 0.7100718</td><td>-0.003674537</td><td>-1.2674201</td><td> 0.3393649</td><td> 0.312010169</td><td> 1.50990462</td><td>-1.09300780</td><td>2.136210</td><td> 0.7939129</td></tr>\n",
       "\t<tr><td>-2.7246974</td><td>-0.05731163</td><td> 1.8460313</td><td>-1.1181673</td><td>-3.51762819</td><td> 1.35031378</td><td> 1.2242855</td><td> 1.2283502</td><td>-0.1650851</td><td> 0.59015614</td><td>⋯</td><td>-0.2843769</td><td> 0.3382094</td><td> 0.315792680</td><td> 1.0146284</td><td>-1.9373627</td><td> 0.007981628</td><td>-0.36323419</td><td> 0.06040722</td><td>1.283723</td><td>-1.3402956</td></tr>\n",
       "\t<tr><td>-2.1726115</td><td>-0.18353708</td><td> 1.7463965</td><td>-0.1131277</td><td>-2.69569182</td><td> 0.91175920</td><td> 1.4253669</td><td> 1.5853314</td><td> 0.2244224</td><td>-0.08386916</td><td>⋯</td><td> 0.1536310</td><td> 0.3433459</td><td> 0.284147501</td><td> 0.7724368</td><td>-2.3301134</td><td>-0.062456936</td><td>-0.89513284</td><td> 0.92676532</td><td>1.251646</td><td>-1.4291170</td></tr>\n",
       "\t<tr><td> 1.1707096</td><td>-0.13465670</td><td> 1.2322592</td><td>-0.8877198</td><td>-0.03824884</td><td>-0.08640472</td><td> 0.9993095</td><td> 0.2082413</td><td> 0.9338120</td><td>-0.85078228</td><td>⋯</td><td> 0.3990990</td><td>-0.8419968</td><td>-1.362604856</td><td>-1.9789625</td><td> 0.2595285</td><td> 1.348094583</td><td>-0.74806058</td><td>-0.60059500</td><td>3.235354</td><td> 1.9323968</td></tr>\n",
       "\t<tr><td>-2.7815797</td><td>-0.13442358</td><td> 1.8794992</td><td>-0.1914393</td><td>-2.89165115</td><td> 1.14636505</td><td> 1.4529479</td><td> 1.5842785</td><td> 0.3240097</td><td> 0.17144614</td><td>⋯</td><td>-0.3564956</td><td> 0.6646962</td><td>-0.018369123</td><td> 0.6853859</td><td>-2.7952528</td><td>-0.016178086</td><td> 0.01963585</td><td> 2.59571934</td><td>2.296354</td><td>-1.3645015</td></tr>\n",
       "\t<tr><td> 0.7108486</td><td> 0.24337927</td><td>-0.3290646</td><td> 2.2538691</td><td>-2.60420513</td><td>-0.97944444</td><td>-0.1911943</td><td>-0.8492373</td><td>-0.6087512</td><td>-0.43406695</td><td>⋯</td><td>-0.2823983</td><td> 1.0107285</td><td>-0.280812472</td><td>-1.3370419</td><td> 0.3461480</td><td> 0.509582639</td><td> 1.78459442</td><td>-1.45408750</td><td>1.909445</td><td> 0.6322383</td></tr>\n",
       "</tbody>\n",
       "</table>\n"
      ],
      "text/latex": [
       "A matrix: 6 × 50 of type dbl\n",
       "\\begin{tabular}{lllllllllllllllllllll}\n",
       " V1 & V2 & V3 & V4 & V5 & V6 & V7 & V8 & V9 & V10 & ⋯ & V41 & V42 & V43 & V44 & V45 & V46 & V47 & V48 & V49 & V50\\\\\n",
       "\\hline\n",
       "\t  0.5750086 &  0.48125893 & -0.1851348 &  2.0078039 & -2.58747888 & -0.90587854 & -0.2921245 & -0.7477679 & -0.8498259 & -0.09868485 & ⋯ & -0.2741948 &  0.7100718 & -0.003674537 & -1.2674201 &  0.3393649 &  0.312010169 &  1.50990462 & -1.09300780 & 2.136210 &  0.7939129\\\\\n",
       "\t -2.7246974 & -0.05731163 &  1.8460313 & -1.1181673 & -3.51762819 &  1.35031378 &  1.2242855 &  1.2283502 & -0.1650851 &  0.59015614 & ⋯ & -0.2843769 &  0.3382094 &  0.315792680 &  1.0146284 & -1.9373627 &  0.007981628 & -0.36323419 &  0.06040722 & 1.283723 & -1.3402956\\\\\n",
       "\t -2.1726115 & -0.18353708 &  1.7463965 & -0.1131277 & -2.69569182 &  0.91175920 &  1.4253669 &  1.5853314 &  0.2244224 & -0.08386916 & ⋯ &  0.1536310 &  0.3433459 &  0.284147501 &  0.7724368 & -2.3301134 & -0.062456936 & -0.89513284 &  0.92676532 & 1.251646 & -1.4291170\\\\\n",
       "\t  1.1707096 & -0.13465670 &  1.2322592 & -0.8877198 & -0.03824884 & -0.08640472 &  0.9993095 &  0.2082413 &  0.9338120 & -0.85078228 & ⋯ &  0.3990990 & -0.8419968 & -1.362604856 & -1.9789625 &  0.2595285 &  1.348094583 & -0.74806058 & -0.60059500 & 3.235354 &  1.9323968\\\\\n",
       "\t -2.7815797 & -0.13442358 &  1.8794992 & -0.1914393 & -2.89165115 &  1.14636505 &  1.4529479 &  1.5842785 &  0.3240097 &  0.17144614 & ⋯ & -0.3564956 &  0.6646962 & -0.018369123 &  0.6853859 & -2.7952528 & -0.016178086 &  0.01963585 &  2.59571934 & 2.296354 & -1.3645015\\\\\n",
       "\t  0.7108486 &  0.24337927 & -0.3290646 &  2.2538691 & -2.60420513 & -0.97944444 & -0.1911943 & -0.8492373 & -0.6087512 & -0.43406695 & ⋯ & -0.2823983 &  1.0107285 & -0.280812472 & -1.3370419 &  0.3461480 &  0.509582639 &  1.78459442 & -1.45408750 & 1.909445 &  0.6322383\\\\\n",
       "\\end{tabular}\n"
      ],
      "text/markdown": [
       "\n",
       "A matrix: 6 × 50 of type dbl\n",
       "\n",
       "| V1 | V2 | V3 | V4 | V5 | V6 | V7 | V8 | V9 | V10 | ⋯ | V41 | V42 | V43 | V44 | V45 | V46 | V47 | V48 | V49 | V50 |\n",
       "|---|---|---|---|---|---|---|---|---|---|---|---|---|---|---|---|---|---|---|---|---|\n",
       "|  0.5750086 |  0.48125893 | -0.1851348 |  2.0078039 | -2.58747888 | -0.90587854 | -0.2921245 | -0.7477679 | -0.8498259 | -0.09868485 | ⋯ | -0.2741948 |  0.7100718 | -0.003674537 | -1.2674201 |  0.3393649 |  0.312010169 |  1.50990462 | -1.09300780 | 2.136210 |  0.7939129 |\n",
       "| -2.7246974 | -0.05731163 |  1.8460313 | -1.1181673 | -3.51762819 |  1.35031378 |  1.2242855 |  1.2283502 | -0.1650851 |  0.59015614 | ⋯ | -0.2843769 |  0.3382094 |  0.315792680 |  1.0146284 | -1.9373627 |  0.007981628 | -0.36323419 |  0.06040722 | 1.283723 | -1.3402956 |\n",
       "| -2.1726115 | -0.18353708 |  1.7463965 | -0.1131277 | -2.69569182 |  0.91175920 |  1.4253669 |  1.5853314 |  0.2244224 | -0.08386916 | ⋯ |  0.1536310 |  0.3433459 |  0.284147501 |  0.7724368 | -2.3301134 | -0.062456936 | -0.89513284 |  0.92676532 | 1.251646 | -1.4291170 |\n",
       "|  1.1707096 | -0.13465670 |  1.2322592 | -0.8877198 | -0.03824884 | -0.08640472 |  0.9993095 |  0.2082413 |  0.9338120 | -0.85078228 | ⋯ |  0.3990990 | -0.8419968 | -1.362604856 | -1.9789625 |  0.2595285 |  1.348094583 | -0.74806058 | -0.60059500 | 3.235354 |  1.9323968 |\n",
       "| -2.7815797 | -0.13442358 |  1.8794992 | -0.1914393 | -2.89165115 |  1.14636505 |  1.4529479 |  1.5842785 |  0.3240097 |  0.17144614 | ⋯ | -0.3564956 |  0.6646962 | -0.018369123 |  0.6853859 | -2.7952528 | -0.016178086 |  0.01963585 |  2.59571934 | 2.296354 | -1.3645015 |\n",
       "|  0.7108486 |  0.24337927 | -0.3290646 |  2.2538691 | -2.60420513 | -0.97944444 | -0.1911943 | -0.8492373 | -0.6087512 | -0.43406695 | ⋯ | -0.2823983 |  1.0107285 | -0.280812472 | -1.3370419 |  0.3461480 |  0.509582639 |  1.78459442 | -1.45408750 | 1.909445 |  0.6322383 |\n",
       "\n"
      ],
      "text/plain": [
       "     V1         V2          V3         V4         V5          V6         \n",
       "[1,]  0.5750086  0.48125893 -0.1851348  2.0078039 -2.58747888 -0.90587854\n",
       "[2,] -2.7246974 -0.05731163  1.8460313 -1.1181673 -3.51762819  1.35031378\n",
       "[3,] -2.1726115 -0.18353708  1.7463965 -0.1131277 -2.69569182  0.91175920\n",
       "[4,]  1.1707096 -0.13465670  1.2322592 -0.8877198 -0.03824884 -0.08640472\n",
       "[5,] -2.7815797 -0.13442358  1.8794992 -0.1914393 -2.89165115  1.14636505\n",
       "[6,]  0.7108486  0.24337927 -0.3290646  2.2538691 -2.60420513 -0.97944444\n",
       "     V7         V8         V9         V10         ⋯ V41        V42       \n",
       "[1,] -0.2921245 -0.7477679 -0.8498259 -0.09868485 ⋯ -0.2741948  0.7100718\n",
       "[2,]  1.2242855  1.2283502 -0.1650851  0.59015614 ⋯ -0.2843769  0.3382094\n",
       "[3,]  1.4253669  1.5853314  0.2244224 -0.08386916 ⋯  0.1536310  0.3433459\n",
       "[4,]  0.9993095  0.2082413  0.9338120 -0.85078228 ⋯  0.3990990 -0.8419968\n",
       "[5,]  1.4529479  1.5842785  0.3240097  0.17144614 ⋯ -0.3564956  0.6646962\n",
       "[6,] -0.1911943 -0.8492373 -0.6087512 -0.43406695 ⋯ -0.2823983  1.0107285\n",
       "     V43          V44        V45        V46          V47         V48        \n",
       "[1,] -0.003674537 -1.2674201  0.3393649  0.312010169  1.50990462 -1.09300780\n",
       "[2,]  0.315792680  1.0146284 -1.9373627  0.007981628 -0.36323419  0.06040722\n",
       "[3,]  0.284147501  0.7724368 -2.3301134 -0.062456936 -0.89513284  0.92676532\n",
       "[4,] -1.362604856 -1.9789625  0.2595285  1.348094583 -0.74806058 -0.60059500\n",
       "[5,] -0.018369123  0.6853859 -2.7952528 -0.016178086  0.01963585  2.59571934\n",
       "[6,] -0.280812472 -1.3370419  0.3461480  0.509582639  1.78459442 -1.45408750\n",
       "     V49      V50       \n",
       "[1,] 2.136210  0.7939129\n",
       "[2,] 1.283723 -1.3402956\n",
       "[3,] 1.251646 -1.4291170\n",
       "[4,] 3.235354  1.9323968\n",
       "[5,] 2.296354 -1.3645015\n",
       "[6,] 1.909445  0.6322383"
      ]
     },
     "metadata": {},
     "output_type": "display_data"
    }
   ],
   "source": [
    "head(glue_emb)"
   ]
  },
  {
   "cell_type": "code",
   "execution_count": 6,
   "id": "3ea09ee8-d2d1-43eb-ac19-d04ae9021a7a",
   "metadata": {},
   "outputs": [],
   "source": [
    "glue_meta <- read.csv('Multi-omics_intergration/output/emb_glue_meta.csv',row.names = 1)"
   ]
  },
  {
   "cell_type": "code",
   "execution_count": 7,
   "id": "ff60dcc7-8e13-404e-acda-1e172b0aa062",
   "metadata": {
    "scrolled": true
   },
   "outputs": [
    {
     "data": {
      "text/html": [
       "<table class=\"dataframe\">\n",
       "<caption>A data.frame: 6 × 5</caption>\n",
       "<thead>\n",
       "\t<tr><th></th><th scope=col>sample</th><th scope=col>celltype</th><th scope=col>Sample</th><th scope=col>omic</th><th scope=col>region</th></tr>\n",
       "\t<tr><th></th><th scope=col>&lt;chr&gt;</th><th scope=col>&lt;chr&gt;</th><th scope=col>&lt;chr&gt;</th><th scope=col>&lt;chr&gt;</th><th scope=col>&lt;chr&gt;</th></tr>\n",
       "</thead>\n",
       "<tbody>\n",
       "\t<tr><th scope=row>GW11_C_AAACCCAAGCCGATTT-1</th><td>Sulcus</td><td>Nascent_ExN</td><td></td><td>RNA</td><td>Sulcus</td></tr>\n",
       "\t<tr><th scope=row>GW11_C_AAACCCAAGGTTGTTC-1</th><td>Sulcus</td><td>vRG        </td><td></td><td>RNA</td><td>Sulcus</td></tr>\n",
       "\t<tr><th scope=row>GW11_C_AAACCCAAGTGTGTTC-1</th><td>Sulcus</td><td>vRG        </td><td></td><td>RNA</td><td>Sulcus</td></tr>\n",
       "\t<tr><th scope=row>GW11_C_AAACCCAGTCCCGTGA-1</th><td>Sulcus</td><td>IPC2       </td><td></td><td>RNA</td><td>Sulcus</td></tr>\n",
       "\t<tr><th scope=row>GW11_C_AAACCCAGTTTGAAAG-1</th><td>Sulcus</td><td>vRG        </td><td></td><td>RNA</td><td>Sulcus</td></tr>\n",
       "\t<tr><th scope=row>GW11_C_AAACCCATCACCGGGT-1</th><td>Sulcus</td><td>Nascent_ExN</td><td></td><td>RNA</td><td>Sulcus</td></tr>\n",
       "</tbody>\n",
       "</table>\n"
      ],
      "text/latex": [
       "A data.frame: 6 × 5\n",
       "\\begin{tabular}{r|lllll}\n",
       "  & sample & celltype & Sample & omic & region\\\\\n",
       "  & <chr> & <chr> & <chr> & <chr> & <chr>\\\\\n",
       "\\hline\n",
       "\tGW11\\_C\\_AAACCCAAGCCGATTT-1 & Sulcus & Nascent\\_ExN &  & RNA & Sulcus\\\\\n",
       "\tGW11\\_C\\_AAACCCAAGGTTGTTC-1 & Sulcus & vRG         &  & RNA & Sulcus\\\\\n",
       "\tGW11\\_C\\_AAACCCAAGTGTGTTC-1 & Sulcus & vRG         &  & RNA & Sulcus\\\\\n",
       "\tGW11\\_C\\_AAACCCAGTCCCGTGA-1 & Sulcus & IPC2        &  & RNA & Sulcus\\\\\n",
       "\tGW11\\_C\\_AAACCCAGTTTGAAAG-1 & Sulcus & vRG         &  & RNA & Sulcus\\\\\n",
       "\tGW11\\_C\\_AAACCCATCACCGGGT-1 & Sulcus & Nascent\\_ExN &  & RNA & Sulcus\\\\\n",
       "\\end{tabular}\n"
      ],
      "text/markdown": [
       "\n",
       "A data.frame: 6 × 5\n",
       "\n",
       "| <!--/--> | sample &lt;chr&gt; | celltype &lt;chr&gt; | Sample &lt;chr&gt; | omic &lt;chr&gt; | region &lt;chr&gt; |\n",
       "|---|---|---|---|---|---|\n",
       "| GW11_C_AAACCCAAGCCGATTT-1 | Sulcus | Nascent_ExN | <!----> | RNA | Sulcus |\n",
       "| GW11_C_AAACCCAAGGTTGTTC-1 | Sulcus | vRG         | <!----> | RNA | Sulcus |\n",
       "| GW11_C_AAACCCAAGTGTGTTC-1 | Sulcus | vRG         | <!----> | RNA | Sulcus |\n",
       "| GW11_C_AAACCCAGTCCCGTGA-1 | Sulcus | IPC2        | <!----> | RNA | Sulcus |\n",
       "| GW11_C_AAACCCAGTTTGAAAG-1 | Sulcus | vRG         | <!----> | RNA | Sulcus |\n",
       "| GW11_C_AAACCCATCACCGGGT-1 | Sulcus | Nascent_ExN | <!----> | RNA | Sulcus |\n",
       "\n"
      ],
      "text/plain": [
       "                          sample celltype    Sample omic region\n",
       "GW11_C_AAACCCAAGCCGATTT-1 Sulcus Nascent_ExN        RNA  Sulcus\n",
       "GW11_C_AAACCCAAGGTTGTTC-1 Sulcus vRG                RNA  Sulcus\n",
       "GW11_C_AAACCCAAGTGTGTTC-1 Sulcus vRG                RNA  Sulcus\n",
       "GW11_C_AAACCCAGTCCCGTGA-1 Sulcus IPC2               RNA  Sulcus\n",
       "GW11_C_AAACCCAGTTTGAAAG-1 Sulcus vRG                RNA  Sulcus\n",
       "GW11_C_AAACCCATCACCGGGT-1 Sulcus Nascent_ExN        RNA  Sulcus"
      ]
     },
     "metadata": {},
     "output_type": "display_data"
    }
   ],
   "source": [
    "head(glue_meta)"
   ]
  },
  {
   "cell_type": "code",
   "execution_count": 8,
   "id": "4ff6d7ee-a6b7-44c2-94ef-164bb4c79420",
   "metadata": {},
   "outputs": [],
   "source": [
    "rownames(glue_emb) <- rownames(glue_meta)"
   ]
  },
  {
   "cell_type": "code",
   "execution_count": 9,
   "id": "59b65625-8c69-438e-bd75-53198afe63b4",
   "metadata": {},
   "outputs": [],
   "source": [
    "new_label <- LabelTransfer.custom(meta = glue_meta,emb = glue_emb,split.by = 'omic',reference.name = 'RNA',transfers = 'celltype',group.by = NULL,k = 15)"
   ]
  },
  {
   "cell_type": "code",
   "execution_count": 10,
   "id": "31021aed-681d-489e-9b0e-82cd7ad10c08",
   "metadata": {
    "scrolled": true
   },
   "outputs": [
    {
     "data": {
      "text/html": [
       "<table class=\"dataframe\">\n",
       "<caption>A data.frame: 6 × 4</caption>\n",
       "<thead>\n",
       "\t<tr><th></th><th scope=col>identity</th><th scope=col>cluster</th><th scope=col>dataset</th><th scope=col>celltype_cellpred</th></tr>\n",
       "\t<tr><th></th><th scope=col>&lt;chr&gt;</th><th scope=col>&lt;chr&gt;</th><th scope=col>&lt;chr&gt;</th><th scope=col>&lt;chr&gt;</th></tr>\n",
       "</thead>\n",
       "<tbody>\n",
       "\t<tr><th scope=row>GW11_C_AAACCCAAGCCGATTT-1</th><td>Nascent_ExN</td><td>empty</td><td>RNA</td><td>Nascent_ExN</td></tr>\n",
       "\t<tr><th scope=row>GW11_C_AAACCCAAGGTTGTTC-1</th><td>vRG        </td><td>empty</td><td>RNA</td><td>vRG        </td></tr>\n",
       "\t<tr><th scope=row>GW11_C_AAACCCAAGTGTGTTC-1</th><td>vRG        </td><td>empty</td><td>RNA</td><td>vRG        </td></tr>\n",
       "\t<tr><th scope=row>GW11_C_AAACCCAGTCCCGTGA-1</th><td>IPC2       </td><td>empty</td><td>RNA</td><td>IPC2       </td></tr>\n",
       "\t<tr><th scope=row>GW11_C_AAACCCAGTTTGAAAG-1</th><td>vRG        </td><td>empty</td><td>RNA</td><td>vRG        </td></tr>\n",
       "\t<tr><th scope=row>GW11_C_AAACCCATCACCGGGT-1</th><td>Nascent_ExN</td><td>empty</td><td>RNA</td><td>Nascent_ExN</td></tr>\n",
       "</tbody>\n",
       "</table>\n"
      ],
      "text/latex": [
       "A data.frame: 6 × 4\n",
       "\\begin{tabular}{r|llll}\n",
       "  & identity & cluster & dataset & celltype\\_cellpred\\\\\n",
       "  & <chr> & <chr> & <chr> & <chr>\\\\\n",
       "\\hline\n",
       "\tGW11\\_C\\_AAACCCAAGCCGATTT-1 & Nascent\\_ExN & empty & RNA & Nascent\\_ExN\\\\\n",
       "\tGW11\\_C\\_AAACCCAAGGTTGTTC-1 & vRG         & empty & RNA & vRG        \\\\\n",
       "\tGW11\\_C\\_AAACCCAAGTGTGTTC-1 & vRG         & empty & RNA & vRG        \\\\\n",
       "\tGW11\\_C\\_AAACCCAGTCCCGTGA-1 & IPC2        & empty & RNA & IPC2       \\\\\n",
       "\tGW11\\_C\\_AAACCCAGTTTGAAAG-1 & vRG         & empty & RNA & vRG        \\\\\n",
       "\tGW11\\_C\\_AAACCCATCACCGGGT-1 & Nascent\\_ExN & empty & RNA & Nascent\\_ExN\\\\\n",
       "\\end{tabular}\n"
      ],
      "text/markdown": [
       "\n",
       "A data.frame: 6 × 4\n",
       "\n",
       "| <!--/--> | identity &lt;chr&gt; | cluster &lt;chr&gt; | dataset &lt;chr&gt; | celltype_cellpred &lt;chr&gt; |\n",
       "|---|---|---|---|---|\n",
       "| GW11_C_AAACCCAAGCCGATTT-1 | Nascent_ExN | empty | RNA | Nascent_ExN |\n",
       "| GW11_C_AAACCCAAGGTTGTTC-1 | vRG         | empty | RNA | vRG         |\n",
       "| GW11_C_AAACCCAAGTGTGTTC-1 | vRG         | empty | RNA | vRG         |\n",
       "| GW11_C_AAACCCAGTCCCGTGA-1 | IPC2        | empty | RNA | IPC2        |\n",
       "| GW11_C_AAACCCAGTTTGAAAG-1 | vRG         | empty | RNA | vRG         |\n",
       "| GW11_C_AAACCCATCACCGGGT-1 | Nascent_ExN | empty | RNA | Nascent_ExN |\n",
       "\n"
      ],
      "text/plain": [
       "                          identity    cluster dataset celltype_cellpred\n",
       "GW11_C_AAACCCAAGCCGATTT-1 Nascent_ExN empty   RNA     Nascent_ExN      \n",
       "GW11_C_AAACCCAAGGTTGTTC-1 vRG         empty   RNA     vRG              \n",
       "GW11_C_AAACCCAAGTGTGTTC-1 vRG         empty   RNA     vRG              \n",
       "GW11_C_AAACCCAGTCCCGTGA-1 IPC2        empty   RNA     IPC2             \n",
       "GW11_C_AAACCCAGTTTGAAAG-1 vRG         empty   RNA     vRG              \n",
       "GW11_C_AAACCCATCACCGGGT-1 Nascent_ExN empty   RNA     Nascent_ExN      "
      ]
     },
     "metadata": {},
     "output_type": "display_data"
    }
   ],
   "source": [
    "head(new_label)"
   ]
  },
  {
   "cell_type": "code",
   "execution_count": 11,
   "id": "5010c5d7-884e-4128-bda1-d1730e021c46",
   "metadata": {},
   "outputs": [
    {
     "data": {
      "text/html": [
       "<style>\n",
       ".list-inline {list-style: none; margin:0; padding: 0}\n",
       ".list-inline>li {display: inline-block}\n",
       ".list-inline>li:not(:last-child)::after {content: \"\\00b7\"; padding: 0 .5ex}\n",
       "</style>\n",
       "<ol class=list-inline><li>'Nascent_ExN'</li><li>'vRG'</li><li>'IPC2'</li><li>'CFuPN'</li><li>'IPC1'</li><li>'Others_to_remove'</li><li>'Unknown'</li><li>'Others'</li><li>'IN'</li><li>'Microglia_OPC'</li><li>'L6B'</li><li>'oRG'</li></ol>\n"
      ],
      "text/latex": [
       "\\begin{enumerate*}\n",
       "\\item 'Nascent\\_ExN'\n",
       "\\item 'vRG'\n",
       "\\item 'IPC2'\n",
       "\\item 'CFuPN'\n",
       "\\item 'IPC1'\n",
       "\\item 'Others\\_to\\_remove'\n",
       "\\item 'Unknown'\n",
       "\\item 'Others'\n",
       "\\item 'IN'\n",
       "\\item 'Microglia\\_OPC'\n",
       "\\item 'L6B'\n",
       "\\item 'oRG'\n",
       "\\end{enumerate*}\n"
      ],
      "text/markdown": [
       "1. 'Nascent_ExN'\n",
       "2. 'vRG'\n",
       "3. 'IPC2'\n",
       "4. 'CFuPN'\n",
       "5. 'IPC1'\n",
       "6. 'Others_to_remove'\n",
       "7. 'Unknown'\n",
       "8. 'Others'\n",
       "9. 'IN'\n",
       "10. 'Microglia_OPC'\n",
       "11. 'L6B'\n",
       "12. 'oRG'\n",
       "\n",
       "\n"
      ],
      "text/plain": [
       " [1] \"Nascent_ExN\"      \"vRG\"              \"IPC2\"             \"CFuPN\"           \n",
       " [5] \"IPC1\"             \"Others_to_remove\" \"Unknown\"          \"Others\"          \n",
       " [9] \"IN\"               \"Microglia_OPC\"    \"L6B\"              \"oRG\"             "
      ]
     },
     "metadata": {},
     "output_type": "display_data"
    }
   ],
   "source": [
    "new_label$celltype_cellpred %>% unique()"
   ]
  },
  {
   "cell_type": "code",
   "execution_count": 12,
   "id": "3c1901f5-07ac-430e-b5c7-f0136b4488c4",
   "metadata": {},
   "outputs": [],
   "source": [
    "celltype_map <- c('Nascent_ExN','vRG','IPC2','CFuPN','IPC1','Others_to_remove','Unknown','Others','IN','Microglia_OPC','L6B','oRG')"
   ]
  },
  {
   "cell_type": "code",
   "execution_count": 13,
   "id": "df0a5f82-8077-485c-9b77-9d183a1881cf",
   "metadata": {},
   "outputs": [],
   "source": [
    "names(celltype_map) <- new_label$celltype_cellpred %>% unique()"
   ]
  },
  {
   "cell_type": "code",
   "execution_count": 14,
   "id": "a53accc3-e814-44ca-8cfa-68f38ca63ce8",
   "metadata": {},
   "outputs": [],
   "source": [
    "new_label$celltype_cellpred <- celltype_map[new_label$celltype_cellpred]"
   ]
  },
  {
   "cell_type": "code",
   "execution_count": 15,
   "id": "2bb5418e-64c7-4472-adf5-ac6777c4b725",
   "metadata": {},
   "outputs": [
    {
     "data": {
      "text/plain": [
       ".\n",
       "           CFuPN               IN             IPC1             IPC2 \n",
       "            5219             1209             2584             6803 \n",
       "             L6B    Microglia_OPC      Nascent_ExN              oRG \n",
       "             406              279            18393              162 \n",
       "          Others Others_to_remove          Unknown              vRG \n",
       "             122              934             1310             9322 "
      ]
     },
     "metadata": {},
     "output_type": "display_data"
    }
   ],
   "source": [
    "new_label$celltype_cellpred %>% table()"
   ]
  },
  {
   "cell_type": "code",
   "execution_count": 16,
   "id": "8c9eb23e-88e6-431f-8ba2-560a790dbe82",
   "metadata": {},
   "outputs": [],
   "source": [
    "write.csv(new_label,file='Multi-omics_intergration/output/emb_glue_prediction.csv')"
   ]
  },
  {
   "cell_type": "code",
   "execution_count": null,
   "id": "6623ed48-3552-4896-885a-afbecce02cd1",
   "metadata": {},
   "outputs": [],
   "source": []
  }
 ],
 "metadata": {
  "kernelspec": {
   "display_name": "Seurat",
   "language": "R",
   "name": "seurat"
  },
  "language_info": {
   "codemirror_mode": "r",
   "file_extension": ".r",
   "mimetype": "text/x-r-source",
   "name": "R",
   "pygments_lexer": "r",
   "version": "4.4.3"
  }
 },
 "nbformat": 4,
 "nbformat_minor": 5
}
