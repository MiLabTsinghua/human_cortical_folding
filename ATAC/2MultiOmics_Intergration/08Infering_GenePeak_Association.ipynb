{
 "cells": [
  {
   "cell_type": "code",
   "execution_count": 1,
   "id": "3b83556a-5c2c-4d81-880e-a5f0e1590d18",
   "metadata": {},
   "outputs": [
    {
     "name": "stderr",
     "output_type": "stream",
     "text": [
      "/data/gaojie/miniforge3/envs/glue/lib/python3.10/site-packages/tqdm/auto.py:21: TqdmWarning: IProgress not found. Please update jupyter and ipywidgets. See https://ipywidgets.readthedocs.io/en/stable/user_install.html\n",
      "  from .autonotebook import tqdm as notebook_tqdm\n"
     ]
    }
   ],
   "source": [
    "import anndata as ad\n",
    "import networkx as nx\n",
    "import numpy as np\n",
    "import pandas as pd\n",
    "import scglue\n",
    "import seaborn as sns\n",
    "from IPython import display\n",
    "from matplotlib import rcParams\n",
    "from networkx.algorithms.bipartite import biadjacency_matrix\n",
    "from networkx.drawing.nx_agraph import graphviz_layout\n",
    "import os\n",
    "from itertools import chain\n",
    "import itertools"
   ]
  },
  {
   "cell_type": "code",
   "execution_count": 2,
   "id": "c82c69e7-3a9d-4bbe-af0e-029fc72527a6",
   "metadata": {},
   "outputs": [],
   "source": [
    "scglue.plot.set_publication_params()\n",
    "rcParams['figure.figsize'] = (4, 4)"
   ]
  },
  {
   "cell_type": "code",
   "execution_count": 3,
   "id": "03d9da42-495e-4e87-8776-11bf9ca47340",
   "metadata": {},
   "outputs": [],
   "source": [
    "os.chdir('/home/gaojie/workspace/Mida_collab/')"
   ]
  },
  {
   "cell_type": "code",
   "execution_count": 4,
   "id": "09136e04-b4e6-446b-b4bd-aeb1ce4eae48",
   "metadata": {},
   "outputs": [],
   "source": [
    "rna = ad.read_h5ad(\"Multi-omics_intergration/output/adata_rna_output.h5ad\")\n",
    "atac = ad.read_h5ad(\"Multi-omics_intergration/output/adata_atac_output.h5ad\")\n",
    "guidance = nx.read_graphml(\"Multi-omics_intergration/data/guidance.graphml.gz\")"
   ]
  },
  {
   "cell_type": "markdown",
   "id": "ced13f27-034c-4374-86b9-a58df76e255c",
   "metadata": {},
   "source": [
    "### adding varm embedding"
   ]
  },
  {
   "cell_type": "code",
   "execution_count": 5,
   "id": "7f81f769-8231-4bb1-b4e6-4859c2b3776f",
   "metadata": {},
   "outputs": [
    {
     "name": "stdout",
     "output_type": "stream",
     "text": [
      "[INFO] autodevice: Using CPU as computation device.\n"
     ]
    }
   ],
   "source": [
    "glue = scglue.models.load_model(\"Multi-omics_intergration/output/glue.dill\")"
   ]
  },
  {
   "cell_type": "code",
   "execution_count": 6,
   "id": "f285897c-db1c-448f-9161-b0c7f8b1bb19",
   "metadata": {},
   "outputs": [],
   "source": [
    "guidance_hvf = guidance.subgraph(chain(\n",
    "    rna.var.query(\"highly_variable\").index,\n",
    "    atac.var.query(\"highly_variable\").index\n",
    ")).copy()"
   ]
  },
  {
   "cell_type": "code",
   "execution_count": 7,
   "id": "5409c893-2d37-4e69-a4e6-c48047e5a362",
   "metadata": {},
   "outputs": [
    {
     "data": {
      "text/html": [
       "<div>\n",
       "<style scoped>\n",
       "    .dataframe tbody tr th:only-of-type {\n",
       "        vertical-align: middle;\n",
       "    }\n",
       "\n",
       "    .dataframe tbody tr th {\n",
       "        vertical-align: top;\n",
       "    }\n",
       "\n",
       "    .dataframe thead th {\n",
       "        text-align: right;\n",
       "    }\n",
       "</style>\n",
       "<table border=\"1\" class=\"dataframe\">\n",
       "  <thead>\n",
       "    <tr style=\"text-align: right;\">\n",
       "      <th></th>\n",
       "      <th>0</th>\n",
       "      <th>1</th>\n",
       "      <th>2</th>\n",
       "      <th>3</th>\n",
       "      <th>4</th>\n",
       "    </tr>\n",
       "  </thead>\n",
       "  <tbody>\n",
       "    <tr>\n",
       "      <th>A1CF</th>\n",
       "      <td>0.047459</td>\n",
       "      <td>0.023915</td>\n",
       "      <td>0.026625</td>\n",
       "      <td>-0.035747</td>\n",
       "      <td>0.158627</td>\n",
       "    </tr>\n",
       "    <tr>\n",
       "      <th>A2M</th>\n",
       "      <td>0.162114</td>\n",
       "      <td>-0.026905</td>\n",
       "      <td>-0.056977</td>\n",
       "      <td>0.045769</td>\n",
       "      <td>1.043423</td>\n",
       "    </tr>\n",
       "    <tr>\n",
       "      <th>AASS</th>\n",
       "      <td>0.171789</td>\n",
       "      <td>-0.021340</td>\n",
       "      <td>0.000554</td>\n",
       "      <td>-0.194266</td>\n",
       "      <td>-0.824317</td>\n",
       "    </tr>\n",
       "    <tr>\n",
       "      <th>AATBC</th>\n",
       "      <td>-0.056287</td>\n",
       "      <td>0.020633</td>\n",
       "      <td>-0.015293</td>\n",
       "      <td>-0.107614</td>\n",
       "      <td>0.168682</td>\n",
       "    </tr>\n",
       "    <tr>\n",
       "      <th>ABAT</th>\n",
       "      <td>0.236130</td>\n",
       "      <td>-0.015744</td>\n",
       "      <td>-0.002474</td>\n",
       "      <td>-0.075696</td>\n",
       "      <td>-0.422809</td>\n",
       "    </tr>\n",
       "  </tbody>\n",
       "</table>\n",
       "</div>"
      ],
      "text/plain": [
       "              0         1         2         3         4\n",
       "A1CF   0.047459  0.023915  0.026625 -0.035747  0.158627\n",
       "A2M    0.162114 -0.026905 -0.056977  0.045769  1.043423\n",
       "AASS   0.171789 -0.021340  0.000554 -0.194266 -0.824317\n",
       "AATBC -0.056287  0.020633 -0.015293 -0.107614  0.168682\n",
       "ABAT   0.236130 -0.015744 -0.002474 -0.075696 -0.422809"
      ]
     },
     "execution_count": 7,
     "metadata": {},
     "output_type": "execute_result"
    }
   ],
   "source": [
    "feature_embeddings = glue.encode_graph(guidance_hvf)\n",
    "feature_embeddings = pd.DataFrame(feature_embeddings, index=glue.vertices)\n",
    "feature_embeddings.iloc[:5, :5]"
   ]
  },
  {
   "cell_type": "code",
   "execution_count": 8,
   "id": "0eb56eff-8da7-40d6-92f9-8ff8600a86b1",
   "metadata": {},
   "outputs": [
    {
     "data": {
      "text/plain": [
       "(117046, 50)"
      ]
     },
     "execution_count": 8,
     "metadata": {},
     "output_type": "execute_result"
    }
   ],
   "source": [
    "feature_embeddings.shape"
   ]
  },
  {
   "cell_type": "code",
   "execution_count": 9,
   "id": "aceddf7b-4a25-4037-ba39-6c000b3cda50",
   "metadata": {},
   "outputs": [],
   "source": [
    "rna.varm[\"X_glue\"] = feature_embeddings.reindex(rna.var_names).to_numpy()\n",
    "atac.varm[\"X_glue\"] = feature_embeddings.reindex(atac.var_names).to_numpy()"
   ]
  },
  {
   "cell_type": "markdown",
   "id": "bdded498-76b5-4121-8136-0fb4eabb66db",
   "metadata": {},
   "source": [
    "### regulatory inference"
   ]
  },
  {
   "cell_type": "code",
   "execution_count": 10,
   "id": "a54e684c-f7b9-400d-b6b4-e4eb1b7df0ed",
   "metadata": {},
   "outputs": [],
   "source": [
    "rna.var[\"name\"] = rna.var_names\n",
    "atac.var[\"name\"] = atac.var_names"
   ]
  },
  {
   "cell_type": "code",
   "execution_count": 11,
   "id": "6f37df42-10a7-44c4-9e7c-ae2951c87458",
   "metadata": {},
   "outputs": [],
   "source": [
    "genes = rna.var.query(\"highly_variable\").index\n",
    "peaks = atac.var.query(\"highly_variable\").index"
   ]
  },
  {
   "cell_type": "code",
   "execution_count": 12,
   "id": "3cd7c97f-c747-4061-b82b-56cef7fd7c89",
   "metadata": {},
   "outputs": [
    {
     "data": {
      "text/plain": [
       "117046"
      ]
     },
     "execution_count": 12,
     "metadata": {},
     "output_type": "execute_result"
    }
   ],
   "source": [
    "len(genes)+len(peaks)"
   ]
  },
  {
   "cell_type": "code",
   "execution_count": 13,
   "id": "0eb486e4-a100-48c3-b132-e6f9b489d006",
   "metadata": {},
   "outputs": [],
   "source": [
    "features = pd.Index(np.concatenate([rna.var_names, atac.var_names]))\n",
    "feature_embeddings = np.concatenate([rna.varm[\"X_glue\"], atac.varm[\"X_glue\"]])"
   ]
  },
  {
   "cell_type": "code",
   "execution_count": 14,
   "id": "79c21516-1ea6-4a1a-b36a-03d8ee97a165",
   "metadata": {},
   "outputs": [],
   "source": [
    "skeleton = guidance_hvf.edge_subgraph(\n",
    "    e for e, attr in dict(guidance_hvf.edges).items()\n",
    "    if attr[\"type\"] == \"fwd\"\n",
    ").copy()"
   ]
  },
  {
   "cell_type": "code",
   "execution_count": 15,
   "id": "a75de5cf-e129-4195-9bf0-ad58738147cc",
   "metadata": {},
   "outputs": [
    {
     "name": "stderr",
     "output_type": "stream",
     "text": [
      "regulatory_inference: 100%|██████████| 116271/116271 [00:01<00:00, 114817.71it/s]\n"
     ]
    }
   ],
   "source": [
    "reginf = scglue.genomics.regulatory_inference(\n",
    "    features, feature_embeddings,\n",
    "    skeleton=skeleton, random_state=0\n",
    ")"
   ]
  },
  {
   "cell_type": "code",
   "execution_count": 16,
   "id": "e89b4197-53ae-40fa-a95e-0f753180bf02",
   "metadata": {},
   "outputs": [],
   "source": [
    "gene2peak = reginf.edge_subgraph(\n",
    "    e for e, attr in dict(reginf.edges).items()\n",
    "    if attr[\"qval\"] < 0.05\n",
    ")"
   ]
  },
  {
   "cell_type": "code",
   "execution_count": 17,
   "id": "ce3da028-48d5-4a6c-bb19-6442644a4de3",
   "metadata": {},
   "outputs": [],
   "source": [
    "scglue.genomics.Bed(atac.var).write_bed(\"Multi-omics_intergration/output/peaks.bed\", ncols=3)\n",
    "scglue.genomics.write_links(\n",
    "    gene2peak,\n",
    "    scglue.genomics.Bed(rna.var).strand_specific_start_site(),\n",
    "    scglue.genomics.Bed(atac.var),\n",
    "    \"Multi-omics_intergration/output/gene2peak_all.links\", keep_attrs=[\"score\",'pval','qval'] ###saving links for CellOracle input\n",
    ")"
   ]
  },
  {
   "cell_type": "code",
   "execution_count": 18,
   "id": "731da9db-bba9-43f9-838f-492790756a6b",
   "metadata": {},
   "outputs": [],
   "source": [
    "data = {\n",
    "    'peak_id':[],\n",
    "    'gene_short_name':[],\n",
    "    'qval':[],\n",
    "    'score':[],\n",
    "    'pval':[]\n",
    "}\n",
    "for u,v,attr in gene2peak.edges(data=True):\n",
    "    data['peak_id'].append(v)\n",
    "    data['gene_short_name'].append(u)\n",
    "    data['qval'].append(attr['qval'])\n",
    "    data['score'].append(attr['score'])\n",
    "    data['pval'].append(attr['pval'])"
   ]
  },
  {
   "cell_type": "code",
   "execution_count": 19,
   "id": "6d9f80d6-c054-437e-8095-062238df2a53",
   "metadata": {
    "scrolled": true
   },
   "outputs": [
    {
     "data": {
      "text/html": [
       "<div>\n",
       "<style scoped>\n",
       "    .dataframe tbody tr th:only-of-type {\n",
       "        vertical-align: middle;\n",
       "    }\n",
       "\n",
       "    .dataframe tbody tr th {\n",
       "        vertical-align: top;\n",
       "    }\n",
       "\n",
       "    .dataframe thead th {\n",
       "        text-align: right;\n",
       "    }\n",
       "</style>\n",
       "<table border=\"1\" class=\"dataframe\">\n",
       "  <thead>\n",
       "    <tr style=\"text-align: right;\">\n",
       "      <th></th>\n",
       "      <th>peak_id</th>\n",
       "      <th>gene_short_name</th>\n",
       "      <th>qval</th>\n",
       "      <th>score</th>\n",
       "      <th>pval</th>\n",
       "    </tr>\n",
       "  </thead>\n",
       "  <tbody>\n",
       "    <tr>\n",
       "      <th>0</th>\n",
       "      <td>chr17:7662026-7662526</td>\n",
       "      <td>TP53</td>\n",
       "      <td>0.006082</td>\n",
       "      <td>0.873452</td>\n",
       "      <td>0.001170</td>\n",
       "    </tr>\n",
       "    <tr>\n",
       "      <th>1</th>\n",
       "      <td>chr17:7665809-7666309</td>\n",
       "      <td>TP53</td>\n",
       "      <td>0.006082</td>\n",
       "      <td>0.897910</td>\n",
       "      <td>0.000808</td>\n",
       "    </tr>\n",
       "    <tr>\n",
       "      <th>2</th>\n",
       "      <td>chr17:7666985-7667485</td>\n",
       "      <td>TP53</td>\n",
       "      <td>0.006082</td>\n",
       "      <td>0.900482</td>\n",
       "      <td>0.000757</td>\n",
       "    </tr>\n",
       "    <tr>\n",
       "      <th>3</th>\n",
       "      <td>chr17:7668423-7668923</td>\n",
       "      <td>TP53</td>\n",
       "      <td>0.006082</td>\n",
       "      <td>0.887318</td>\n",
       "      <td>0.000998</td>\n",
       "    </tr>\n",
       "    <tr>\n",
       "      <th>4</th>\n",
       "      <td>chr17:7669021-7669521</td>\n",
       "      <td>TP53</td>\n",
       "      <td>0.006082</td>\n",
       "      <td>0.873999</td>\n",
       "      <td>0.001152</td>\n",
       "    </tr>\n",
       "  </tbody>\n",
       "</table>\n",
       "</div>"
      ],
      "text/plain": [
       "                 peak_id gene_short_name      qval     score      pval\n",
       "0  chr17:7662026-7662526            TP53  0.006082  0.873452  0.001170\n",
       "1  chr17:7665809-7666309            TP53  0.006082  0.897910  0.000808\n",
       "2  chr17:7666985-7667485            TP53  0.006082  0.900482  0.000757\n",
       "3  chr17:7668423-7668923            TP53  0.006082  0.887318  0.000998\n",
       "4  chr17:7669021-7669521            TP53  0.006082  0.873999  0.001152"
      ]
     },
     "execution_count": 19,
     "metadata": {},
     "output_type": "execute_result"
    }
   ],
   "source": [
    "gene2peak_df = pd.DataFrame(data)\n",
    "gene2peak_df.head()"
   ]
  },
  {
   "cell_type": "code",
   "execution_count": 20,
   "id": "80c20adb-7666-4ac5-90a9-957b30ca876b",
   "metadata": {},
   "outputs": [],
   "source": [
    "gene2peak_df.to_csv('Multi-omics_intergration/output/gene2peak_df_all.csv')"
   ]
  }
 ],
 "metadata": {
  "kernelspec": {
   "display_name": "GLUE",
   "language": "python",
   "name": "glue"
  },
  "language_info": {
   "codemirror_mode": {
    "name": "ipython",
    "version": 3
   },
   "file_extension": ".py",
   "mimetype": "text/x-python",
   "name": "python",
   "nbconvert_exporter": "python",
   "pygments_lexer": "ipython3",
   "version": "3.10.8"
  }
 },
 "nbformat": 4,
 "nbformat_minor": 5
}
