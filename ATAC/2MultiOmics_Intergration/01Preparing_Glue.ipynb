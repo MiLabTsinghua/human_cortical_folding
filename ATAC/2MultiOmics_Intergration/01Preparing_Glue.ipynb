{
 "cells": [
  {
   "cell_type": "code",
   "execution_count": 1,
   "id": "bae0e1e3-bfff-4eef-b132-4ddd375e9472",
   "metadata": {},
   "outputs": [
    {
     "name": "stderr",
     "output_type": "stream",
     "text": [
      "/data/gaojie/miniforge3/envs/GLUE/lib/python3.8/site-packages/tqdm/auto.py:21: TqdmWarning: IProgress not found. Please update jupyter and ipywidgets. See https://ipywidgets.readthedocs.io/en/stable/user_install.html\n",
      "  from .autonotebook import tqdm as notebook_tqdm\n"
     ]
    }
   ],
   "source": [
    "import scanpy as sc\n",
    "import pandas as pd\n",
    "import os\n",
    "from scipy.io import mmread\n",
    "from scipy.sparse import coo_matrix\n",
    "import scglue\n",
    "import numpy as np\n",
    "from matplotlib import rcParams"
   ]
  },
  {
   "cell_type": "code",
   "execution_count": 2,
   "id": "58f52626-2460-461e-9771-676078a976c4",
   "metadata": {},
   "outputs": [],
   "source": [
    "os.chdir('/home/gaojie/workspace/Mida_collab/')\n",
    "rcParams[\"figure.figsize\"] = (4, 4)\n",
    "%config InlineBackend.figure_format = 'retina'\n",
    "%matplotlib inline"
   ]
  },
  {
   "cell_type": "markdown",
   "id": "93992e7f-80fc-4521-989c-47145b44e23d",
   "metadata": {},
   "source": [
    "### preparing RNA"
   ]
  },
  {
   "cell_type": "code",
   "execution_count": 3,
   "id": "220c5fa4-e323-40dc-a6df-8bfc81eeccda",
   "metadata": {},
   "outputs": [],
   "source": [
    "### Raw counts matrix, cells, genes are exported from our Seurat scRNA-seq data\n",
    "RNA_raw_matrix = mmread('Multi-omics_intergration/data/RNA_raw_counts.mtx')\n",
    "cell_names = pd.read_csv('Multi-omics_intergration/data/RNA_raw_counts_cells.csv')\n",
    "gene_names = pd.read_csv('Multi-omics_intergration/data/RNA_raw_counts_genes.csv')"
   ]
  },
  {
   "cell_type": "code",
   "execution_count": 4,
   "id": "f1ad99b1-caf0-4075-8fcb-bf9c58c29434",
   "metadata": {},
   "outputs": [
    {
     "data": {
      "text/plain": [
       "<28272x36601 sparse matrix of type '<class 'numpy.int64'>'\n",
       "\twith 101637381 stored elements in COOrdinate format>"
      ]
     },
     "execution_count": 4,
     "metadata": {},
     "output_type": "execute_result"
    }
   ],
   "source": [
    "RNA_raw_matrix.T"
   ]
  },
  {
   "cell_type": "code",
   "execution_count": 5,
   "id": "9cdda333-e855-4083-8997-b8de5c098bc6",
   "metadata": {},
   "outputs": [],
   "source": [
    "###Constructing RNA adata from raw matrix, basic quality control\n",
    "rna = sc.AnnData(X=RNA_raw_matrix.T.tocsr())\n",
    "rna.obs_names = cell_names.iloc[:,1].tolist()\n",
    "rna.var_names = gene_names.iloc[:,1].tolist()\n",
    "rna.var_names_make_unique()\n",
    "rna.obs_names_make_unique()\n",
    "rna.var[\"mt\"] = rna.var_names.str.startswith(\"MT-\")\n",
    "rna.var[\"ribo\"] = rna.var_names.str.startswith((\"RPS\", \"RPL\"))\n",
    "rna.var[\"hb\"] = rna.var_names.str.contains(\"^HB[^(P)]\")\n",
    "sc.pp.calculate_qc_metrics(\n",
    "    rna, qc_vars=[\"mt\", \"ribo\", \"hb\"], inplace=True, log1p=True\n",
    ")\n",
    "sc.pp.filter_cells(rna, min_genes=100)\n",
    "sc.pp.filter_genes(rna, min_cells=3)"
   ]
  },
  {
   "cell_type": "code",
   "execution_count": 6,
   "id": "ca5f250e-6382-4e88-89fb-6a7315777c0c",
   "metadata": {},
   "outputs": [
    {
     "data": {
      "text/plain": [
       "AnnData object with n_obs × n_vars = 28272 × 30705\n",
       "    obs: 'n_genes_by_counts', 'log1p_n_genes_by_counts', 'total_counts', 'log1p_total_counts', 'pct_counts_in_top_50_genes', 'pct_counts_in_top_100_genes', 'pct_counts_in_top_200_genes', 'pct_counts_in_top_500_genes', 'total_counts_mt', 'log1p_total_counts_mt', 'pct_counts_mt', 'total_counts_ribo', 'log1p_total_counts_ribo', 'pct_counts_ribo', 'total_counts_hb', 'log1p_total_counts_hb', 'pct_counts_hb', 'n_genes'\n",
       "    var: 'mt', 'ribo', 'hb', 'n_cells_by_counts', 'mean_counts', 'log1p_mean_counts', 'pct_dropout_by_counts', 'total_counts', 'log1p_total_counts', 'n_cells'"
      ]
     },
     "execution_count": 6,
     "metadata": {},
     "output_type": "execute_result"
    }
   ],
   "source": [
    "rna"
   ]
  },
  {
   "cell_type": "code",
   "execution_count": 7,
   "id": "2a7a24de-7cc5-4363-ad6e-64dd0bf2dbd2",
   "metadata": {},
   "outputs": [],
   "source": [
    "rna.layers[\"counts\"] = rna.X.copy() ###save raw counts"
   ]
  },
  {
   "cell_type": "code",
   "execution_count": 8,
   "id": "a913fb95-0c06-4e04-8be0-8ae135852846",
   "metadata": {},
   "outputs": [
    {
     "data": {
      "text/html": [
       "<div>\n",
       "<style scoped>\n",
       "    .dataframe tbody tr th:only-of-type {\n",
       "        vertical-align: middle;\n",
       "    }\n",
       "\n",
       "    .dataframe tbody tr th {\n",
       "        vertical-align: top;\n",
       "    }\n",
       "\n",
       "    .dataframe thead th {\n",
       "        text-align: right;\n",
       "    }\n",
       "</style>\n",
       "<table border=\"1\" class=\"dataframe\">\n",
       "  <thead>\n",
       "    <tr style=\"text-align: right;\">\n",
       "      <th></th>\n",
       "      <th>n_genes_by_counts</th>\n",
       "      <th>log1p_n_genes_by_counts</th>\n",
       "      <th>total_counts</th>\n",
       "      <th>log1p_total_counts</th>\n",
       "      <th>pct_counts_in_top_50_genes</th>\n",
       "      <th>pct_counts_in_top_100_genes</th>\n",
       "      <th>pct_counts_in_top_200_genes</th>\n",
       "      <th>pct_counts_in_top_500_genes</th>\n",
       "      <th>total_counts_mt</th>\n",
       "      <th>log1p_total_counts_mt</th>\n",
       "      <th>pct_counts_mt</th>\n",
       "      <th>total_counts_ribo</th>\n",
       "      <th>log1p_total_counts_ribo</th>\n",
       "      <th>pct_counts_ribo</th>\n",
       "      <th>total_counts_hb</th>\n",
       "      <th>log1p_total_counts_hb</th>\n",
       "      <th>pct_counts_hb</th>\n",
       "      <th>n_genes</th>\n",
       "      <th>sample</th>\n",
       "    </tr>\n",
       "  </thead>\n",
       "  <tbody>\n",
       "    <tr>\n",
       "      <th>GW11_C_AAACCCAAGCCGATTT-1</th>\n",
       "      <td>5128</td>\n",
       "      <td>8.542666</td>\n",
       "      <td>17048</td>\n",
       "      <td>9.743847</td>\n",
       "      <td>16.570859</td>\n",
       "      <td>23.451431</td>\n",
       "      <td>32.426091</td>\n",
       "      <td>47.671281</td>\n",
       "      <td>219</td>\n",
       "      <td>5.393628</td>\n",
       "      <td>1.284608</td>\n",
       "      <td>902</td>\n",
       "      <td>6.805723</td>\n",
       "      <td>5.290943</td>\n",
       "      <td>5</td>\n",
       "      <td>1.791759</td>\n",
       "      <td>0.029329</td>\n",
       "      <td>5128</td>\n",
       "      <td>GW11_C</td>\n",
       "    </tr>\n",
       "    <tr>\n",
       "      <th>GW11_C_AAACCCAAGGTTGTTC-1</th>\n",
       "      <td>2923</td>\n",
       "      <td>7.980708</td>\n",
       "      <td>6199</td>\n",
       "      <td>8.732305</td>\n",
       "      <td>16.260687</td>\n",
       "      <td>24.084530</td>\n",
       "      <td>34.150669</td>\n",
       "      <td>51.234070</td>\n",
       "      <td>103</td>\n",
       "      <td>4.644391</td>\n",
       "      <td>1.661558</td>\n",
       "      <td>587</td>\n",
       "      <td>6.376727</td>\n",
       "      <td>9.469269</td>\n",
       "      <td>10</td>\n",
       "      <td>2.397895</td>\n",
       "      <td>0.161316</td>\n",
       "      <td>2923</td>\n",
       "      <td>GW11_C</td>\n",
       "    </tr>\n",
       "    <tr>\n",
       "      <th>GW11_C_AAACCCAAGTGTGTTC-1</th>\n",
       "      <td>2682</td>\n",
       "      <td>7.894691</td>\n",
       "      <td>4846</td>\n",
       "      <td>8.486115</td>\n",
       "      <td>14.403632</td>\n",
       "      <td>21.027652</td>\n",
       "      <td>30.148576</td>\n",
       "      <td>46.698308</td>\n",
       "      <td>19</td>\n",
       "      <td>2.995732</td>\n",
       "      <td>0.392076</td>\n",
       "      <td>452</td>\n",
       "      <td>6.115892</td>\n",
       "      <td>9.327280</td>\n",
       "      <td>10</td>\n",
       "      <td>2.397895</td>\n",
       "      <td>0.206356</td>\n",
       "      <td>2682</td>\n",
       "      <td>GW11_C</td>\n",
       "    </tr>\n",
       "    <tr>\n",
       "      <th>GW11_C_AAACCCAGTCCCGTGA-1</th>\n",
       "      <td>4053</td>\n",
       "      <td>8.307459</td>\n",
       "      <td>11046</td>\n",
       "      <td>9.309914</td>\n",
       "      <td>16.657614</td>\n",
       "      <td>24.144487</td>\n",
       "      <td>33.722615</td>\n",
       "      <td>49.755568</td>\n",
       "      <td>193</td>\n",
       "      <td>5.267858</td>\n",
       "      <td>1.747239</td>\n",
       "      <td>1033</td>\n",
       "      <td>6.941190</td>\n",
       "      <td>9.351802</td>\n",
       "      <td>4</td>\n",
       "      <td>1.609438</td>\n",
       "      <td>0.036212</td>\n",
       "      <td>4053</td>\n",
       "      <td>GW11_C</td>\n",
       "    </tr>\n",
       "    <tr>\n",
       "      <th>GW11_C_AAACCCAGTTTGAAAG-1</th>\n",
       "      <td>1188</td>\n",
       "      <td>7.080868</td>\n",
       "      <td>1739</td>\n",
       "      <td>7.461640</td>\n",
       "      <td>17.423807</td>\n",
       "      <td>26.049454</td>\n",
       "      <td>38.355377</td>\n",
       "      <td>60.437033</td>\n",
       "      <td>72</td>\n",
       "      <td>4.290459</td>\n",
       "      <td>4.140311</td>\n",
       "      <td>37</td>\n",
       "      <td>3.637586</td>\n",
       "      <td>2.127660</td>\n",
       "      <td>2</td>\n",
       "      <td>1.098612</td>\n",
       "      <td>0.115009</td>\n",
       "      <td>1188</td>\n",
       "      <td>GW11_C</td>\n",
       "    </tr>\n",
       "  </tbody>\n",
       "</table>\n",
       "</div>"
      ],
      "text/plain": [
       "                           n_genes_by_counts  log1p_n_genes_by_counts  \\\n",
       "GW11_C_AAACCCAAGCCGATTT-1               5128                 8.542666   \n",
       "GW11_C_AAACCCAAGGTTGTTC-1               2923                 7.980708   \n",
       "GW11_C_AAACCCAAGTGTGTTC-1               2682                 7.894691   \n",
       "GW11_C_AAACCCAGTCCCGTGA-1               4053                 8.307459   \n",
       "GW11_C_AAACCCAGTTTGAAAG-1               1188                 7.080868   \n",
       "\n",
       "                           total_counts  log1p_total_counts  \\\n",
       "GW11_C_AAACCCAAGCCGATTT-1         17048            9.743847   \n",
       "GW11_C_AAACCCAAGGTTGTTC-1          6199            8.732305   \n",
       "GW11_C_AAACCCAAGTGTGTTC-1          4846            8.486115   \n",
       "GW11_C_AAACCCAGTCCCGTGA-1         11046            9.309914   \n",
       "GW11_C_AAACCCAGTTTGAAAG-1          1739            7.461640   \n",
       "\n",
       "                           pct_counts_in_top_50_genes  \\\n",
       "GW11_C_AAACCCAAGCCGATTT-1                   16.570859   \n",
       "GW11_C_AAACCCAAGGTTGTTC-1                   16.260687   \n",
       "GW11_C_AAACCCAAGTGTGTTC-1                   14.403632   \n",
       "GW11_C_AAACCCAGTCCCGTGA-1                   16.657614   \n",
       "GW11_C_AAACCCAGTTTGAAAG-1                   17.423807   \n",
       "\n",
       "                           pct_counts_in_top_100_genes  \\\n",
       "GW11_C_AAACCCAAGCCGATTT-1                    23.451431   \n",
       "GW11_C_AAACCCAAGGTTGTTC-1                    24.084530   \n",
       "GW11_C_AAACCCAAGTGTGTTC-1                    21.027652   \n",
       "GW11_C_AAACCCAGTCCCGTGA-1                    24.144487   \n",
       "GW11_C_AAACCCAGTTTGAAAG-1                    26.049454   \n",
       "\n",
       "                           pct_counts_in_top_200_genes  \\\n",
       "GW11_C_AAACCCAAGCCGATTT-1                    32.426091   \n",
       "GW11_C_AAACCCAAGGTTGTTC-1                    34.150669   \n",
       "GW11_C_AAACCCAAGTGTGTTC-1                    30.148576   \n",
       "GW11_C_AAACCCAGTCCCGTGA-1                    33.722615   \n",
       "GW11_C_AAACCCAGTTTGAAAG-1                    38.355377   \n",
       "\n",
       "                           pct_counts_in_top_500_genes  total_counts_mt  \\\n",
       "GW11_C_AAACCCAAGCCGATTT-1                    47.671281              219   \n",
       "GW11_C_AAACCCAAGGTTGTTC-1                    51.234070              103   \n",
       "GW11_C_AAACCCAAGTGTGTTC-1                    46.698308               19   \n",
       "GW11_C_AAACCCAGTCCCGTGA-1                    49.755568              193   \n",
       "GW11_C_AAACCCAGTTTGAAAG-1                    60.437033               72   \n",
       "\n",
       "                           log1p_total_counts_mt  pct_counts_mt  \\\n",
       "GW11_C_AAACCCAAGCCGATTT-1               5.393628       1.284608   \n",
       "GW11_C_AAACCCAAGGTTGTTC-1               4.644391       1.661558   \n",
       "GW11_C_AAACCCAAGTGTGTTC-1               2.995732       0.392076   \n",
       "GW11_C_AAACCCAGTCCCGTGA-1               5.267858       1.747239   \n",
       "GW11_C_AAACCCAGTTTGAAAG-1               4.290459       4.140311   \n",
       "\n",
       "                           total_counts_ribo  log1p_total_counts_ribo  \\\n",
       "GW11_C_AAACCCAAGCCGATTT-1                902                 6.805723   \n",
       "GW11_C_AAACCCAAGGTTGTTC-1                587                 6.376727   \n",
       "GW11_C_AAACCCAAGTGTGTTC-1                452                 6.115892   \n",
       "GW11_C_AAACCCAGTCCCGTGA-1               1033                 6.941190   \n",
       "GW11_C_AAACCCAGTTTGAAAG-1                 37                 3.637586   \n",
       "\n",
       "                           pct_counts_ribo  total_counts_hb  \\\n",
       "GW11_C_AAACCCAAGCCGATTT-1         5.290943                5   \n",
       "GW11_C_AAACCCAAGGTTGTTC-1         9.469269               10   \n",
       "GW11_C_AAACCCAAGTGTGTTC-1         9.327280               10   \n",
       "GW11_C_AAACCCAGTCCCGTGA-1         9.351802                4   \n",
       "GW11_C_AAACCCAGTTTGAAAG-1         2.127660                2   \n",
       "\n",
       "                           log1p_total_counts_hb  pct_counts_hb  n_genes  \\\n",
       "GW11_C_AAACCCAAGCCGATTT-1               1.791759       0.029329     5128   \n",
       "GW11_C_AAACCCAAGGTTGTTC-1               2.397895       0.161316     2923   \n",
       "GW11_C_AAACCCAAGTGTGTTC-1               2.397895       0.206356     2682   \n",
       "GW11_C_AAACCCAGTCCCGTGA-1               1.609438       0.036212     4053   \n",
       "GW11_C_AAACCCAGTTTGAAAG-1               1.098612       0.115009     1188   \n",
       "\n",
       "                           sample  \n",
       "GW11_C_AAACCCAAGCCGATTT-1  GW11_C  \n",
       "GW11_C_AAACCCAAGGTTGTTC-1  GW11_C  \n",
       "GW11_C_AAACCCAAGTGTGTTC-1  GW11_C  \n",
       "GW11_C_AAACCCAGTCCCGTGA-1  GW11_C  \n",
       "GW11_C_AAACCCAGTTTGAAAG-1  GW11_C  "
      ]
     },
     "execution_count": 8,
     "metadata": {},
     "output_type": "execute_result"
    }
   ],
   "source": [
    "rna.obs['sample'] = [x.split('_')[0]+'_'+x.split('_')[1] for x in rna.obs_names] ###adding region info from barcodes\n",
    "rna.obs.head()"
   ]
  },
  {
   "cell_type": "code",
   "execution_count": 9,
   "id": "28cfe372-4344-4fa7-a255-07690e823e56",
   "metadata": {},
   "outputs": [],
   "source": [
    "rna.raw = rna"
   ]
  },
  {
   "cell_type": "code",
   "execution_count": 10,
   "id": "7aad061a-34bb-4277-af82-030864c9102e",
   "metadata": {},
   "outputs": [],
   "source": [
    "sc.pp.normalize_total(rna)\n",
    "sc.pp.log1p(rna)\n",
    "sc.pp.highly_variable_genes(adata=rna,n_top_genes=4000,batch_key='sample')"
   ]
  },
  {
   "cell_type": "code",
   "execution_count": 11,
   "id": "827b2831-e8c5-40ac-b87c-884019317433",
   "metadata": {},
   "outputs": [
    {
     "data": {
      "text/plain": [
       "1506"
      ]
     },
     "execution_count": 11,
     "metadata": {},
     "output_type": "execute_result"
    }
   ],
   "source": [
    "###adding all TFs as input because GLUE only takes highly variable genes into account\n",
    "TF_list = pd.read_csv('Multi-omics_intergration/TF_names_v_1.01.txt',header=None)\n",
    "rna.var['TF'] = [(i in TF_list[0].tolist()) for i in rna.var_names]\n",
    "rna.var['TF'].sum()"
   ]
  },
  {
   "cell_type": "code",
   "execution_count": 12,
   "id": "95f640bb-3d95-402c-901d-2c3190cb4d36",
   "metadata": {},
   "outputs": [],
   "source": [
    "RGG_df = pd.read_csv('CellOracle/gradient_table2.vRG.tsv',sep='\\t')\n",
    "RGG = RGG_df[RGG_df['flag']=='Pass']['gene']\n",
    "rna.var['RGG'] = [(i in RGG.tolist()) for i in rna.var_names]\n",
    "rna.var.loc[RGG,'highly_variable'] = True"
   ]
  },
  {
   "cell_type": "code",
   "execution_count": 13,
   "id": "665daaed-3ccf-4d66-be0e-d23548383a00",
   "metadata": {},
   "outputs": [],
   "source": [
    "###Filtering TFs based on Gene Expression and Expression Percentage in cells\n",
    "expression = pd.DataFrame((np.sum(rna.X > 0, axis=0))/(rna.shape[0])).T\n",
    "expression.index = rna.var_names\n",
    "rna.var['exp_ratio'] = expression[0]\n",
    "for i in rna.var[rna.var['TF']==True].index:\n",
    "    if (rna.var.loc[i,'exp_ratio']>=0.05):\n",
    "        rna.var.loc[i,'highly_variable'] = True"
   ]
  },
  {
   "cell_type": "code",
   "execution_count": 14,
   "id": "60bf6c1b-6e14-4784-abf3-86facd5ca3b7",
   "metadata": {},
   "outputs": [
    {
     "name": "stderr",
     "output_type": "stream",
     "text": [
      "2025-09-24 06:02:42,646 - harmonypy - INFO - Computing initial centroids with sklearn.KMeans...\n",
      "2025-09-24 06:02:48,242 - harmonypy - INFO - sklearn.KMeans initialization complete.\n",
      "2025-09-24 06:02:48,314 - harmonypy - INFO - Iteration 1 of 10\n",
      "2025-09-24 06:02:51,260 - harmonypy - INFO - Iteration 2 of 10\n",
      "2025-09-24 06:02:54,295 - harmonypy - INFO - Iteration 3 of 10\n",
      "2025-09-24 06:02:57,018 - harmonypy - INFO - Iteration 4 of 10\n",
      "2025-09-24 06:02:58,879 - harmonypy - INFO - Iteration 5 of 10\n",
      "2025-09-24 06:03:01,540 - harmonypy - INFO - Iteration 6 of 10\n",
      "2025-09-24 06:03:04,648 - harmonypy - INFO - Iteration 7 of 10\n",
      "2025-09-24 06:03:06,297 - harmonypy - INFO - Converged after 7 iterations\n"
     ]
    }
   ],
   "source": [
    "sc.tl.pca(rna)\n",
    "sc.external.pp.harmony_integrate(rna,key='sample')\n",
    "sc.pp.neighbors(rna,use_rep='X_pca_harmony')\n",
    "sc.tl.umap(rna)"
   ]
  },
  {
   "cell_type": "code",
   "execution_count": 15,
   "id": "ef06da03-d2d3-400b-894d-f4dc370c7884",
   "metadata": {},
   "outputs": [],
   "source": [
    "celltypes = pd.read_csv('sample_data/RNA_raw/annotation.csv',header=0,index_col=0) ###adding RNA annotation\n",
    "rna.obs['celltype'] = celltypes.loc[rna.obs_names,'celltype']\n",
    "rna.obs['omic'] = 'RNA'"
   ]
  },
  {
   "cell_type": "code",
   "execution_count": 16,
   "id": "304ada73-9231-48ba-8c86-2404359dfd5e",
   "metadata": {},
   "outputs": [
    {
     "data": {
      "text/plain": [
       "View of AnnData object with n_obs × n_vars = 28272 × 30696\n",
       "    obs: 'n_genes_by_counts', 'log1p_n_genes_by_counts', 'total_counts', 'log1p_total_counts', 'pct_counts_in_top_50_genes', 'pct_counts_in_top_100_genes', 'pct_counts_in_top_200_genes', 'pct_counts_in_top_500_genes', 'total_counts_mt', 'log1p_total_counts_mt', 'pct_counts_mt', 'total_counts_ribo', 'log1p_total_counts_ribo', 'pct_counts_ribo', 'total_counts_hb', 'log1p_total_counts_hb', 'pct_counts_hb', 'n_genes', 'sample', 'celltype', 'omic'\n",
       "    var: 'mt', 'ribo', 'hb', 'n_cells_by_counts', 'mean_counts', 'log1p_mean_counts', 'pct_dropout_by_counts', 'total_counts', 'log1p_total_counts', 'n_cells', 'highly_variable', 'means', 'dispersions', 'dispersions_norm', 'highly_variable_nbatches', 'highly_variable_intersection', 'TF', 'RGG', 'exp_ratio', 'chrom', 'chromStart', 'chromEnd', 'name', 'score', 'strand', 'thickStart', 'thickEnd', 'itemRgb', 'blockCount', 'blockSizes', 'blockStarts', 'gene_id', 'gene_version', 'gene_type', 'hgnc_id', 'tag', 'havana_gene'\n",
       "    uns: 'log1p', 'hvg', 'pca', 'neighbors', 'umap'\n",
       "    obsm: 'X_pca', 'X_pca_harmony', 'X_umap'\n",
       "    varm: 'PCs'\n",
       "    layers: 'counts'\n",
       "    obsp: 'distances', 'connectivities'"
      ]
     },
     "execution_count": 16,
     "metadata": {},
     "output_type": "execute_result"
    }
   ],
   "source": [
    "scglue.data.get_gene_annotation(\n",
    "    rna, gtf=\"/home/gaojie/workspace/reference/refdata-gex-GRCh38-2020-A/genes/genes.gtf\",\n",
    "    gtf_by=\"gene_name\"\n",
    ")\n",
    "rna.var.loc[:, [\"chrom\", \"chromStart\", \"chromEnd\"]].head()\n",
    "rna = rna[:,rna.var['gene_id'].isna()==False] ###remove unannotated genes\n",
    "rna"
   ]
  },
  {
   "cell_type": "code",
   "execution_count": 17,
   "id": "06e5fbcc-0bfd-4fc3-9629-d662ef3a38d4",
   "metadata": {},
   "outputs": [],
   "source": [
    "rna = rna[~rna.obs['celltype'].isin(['Others','?','Others_to_remove']),:]"
   ]
  },
  {
   "cell_type": "code",
   "execution_count": 18,
   "id": "1cbc66ca-aea1-4727-8eca-7cd41d445e96",
   "metadata": {
    "scrolled": true
   },
   "outputs": [
    {
     "name": "stderr",
     "output_type": "stream",
     "text": [
      "/data/gaojie/miniforge3/envs/GLUE/lib/python3.8/site-packages/anndata/_core/anndata.py:1230: ImplicitModificationWarning: Trying to modify attribute `.obs` of view, initializing view as actual.\n",
      "  df[key] = c\n",
      "/data/gaojie/miniforge3/envs/GLUE/lib/python3.8/site-packages/anndata/_core/anndata.py:1230: ImplicitModificationWarning: Trying to modify attribute `.obs` of view, initializing view as actual.\n",
      "  df[key] = c\n",
      "/data/gaojie/miniforge3/envs/GLUE/lib/python3.8/site-packages/anndata/_core/anndata.py:1230: ImplicitModificationWarning: Trying to modify attribute `.var` of view, initializing view as actual.\n",
      "  df[key] = c\n",
      "/data/gaojie/miniforge3/envs/GLUE/lib/python3.8/site-packages/anndata/_core/anndata.py:1230: ImplicitModificationWarning: Trying to modify attribute `.var` of view, initializing view as actual.\n",
      "  df[key] = c\n",
      "/data/gaojie/miniforge3/envs/GLUE/lib/python3.8/site-packages/anndata/_core/anndata.py:1230: ImplicitModificationWarning: Trying to modify attribute `.var` of view, initializing view as actual.\n",
      "  df[key] = c\n",
      "/data/gaojie/miniforge3/envs/GLUE/lib/python3.8/site-packages/anndata/_core/anndata.py:1230: ImplicitModificationWarning: Trying to modify attribute `.var` of view, initializing view as actual.\n",
      "  df[key] = c\n",
      "/data/gaojie/miniforge3/envs/GLUE/lib/python3.8/site-packages/anndata/_core/anndata.py:1230: ImplicitModificationWarning: Trying to modify attribute `.var` of view, initializing view as actual.\n",
      "  df[key] = c\n",
      "/data/gaojie/miniforge3/envs/GLUE/lib/python3.8/site-packages/anndata/_core/anndata.py:1230: ImplicitModificationWarning: Trying to modify attribute `.var` of view, initializing view as actual.\n",
      "  df[key] = c\n",
      "/data/gaojie/miniforge3/envs/GLUE/lib/python3.8/site-packages/anndata/_core/anndata.py:1230: ImplicitModificationWarning: Trying to modify attribute `.var` of view, initializing view as actual.\n",
      "  df[key] = c\n",
      "/data/gaojie/miniforge3/envs/GLUE/lib/python3.8/site-packages/anndata/_core/anndata.py:1230: ImplicitModificationWarning: Trying to modify attribute `.var` of view, initializing view as actual.\n",
      "  df[key] = c\n",
      "/data/gaojie/miniforge3/envs/GLUE/lib/python3.8/site-packages/anndata/_core/anndata.py:1230: ImplicitModificationWarning: Trying to modify attribute `.var` of view, initializing view as actual.\n",
      "  df[key] = c\n",
      "/data/gaojie/miniforge3/envs/GLUE/lib/python3.8/site-packages/anndata/_core/anndata.py:1230: ImplicitModificationWarning: Trying to modify attribute `.var` of view, initializing view as actual.\n",
      "  df[key] = c\n",
      "/data/gaojie/miniforge3/envs/GLUE/lib/python3.8/site-packages/anndata/_core/anndata.py:1230: ImplicitModificationWarning: Trying to modify attribute `.var` of view, initializing view as actual.\n",
      "  df[key] = c\n",
      "/data/gaojie/miniforge3/envs/GLUE/lib/python3.8/site-packages/anndata/_core/anndata.py:1230: ImplicitModificationWarning: Trying to modify attribute `.var` of view, initializing view as actual.\n",
      "  df[key] = c\n",
      "/data/gaojie/miniforge3/envs/GLUE/lib/python3.8/site-packages/anndata/_core/anndata.py:1230: ImplicitModificationWarning: Trying to modify attribute `.var` of view, initializing view as actual.\n",
      "  df[key] = c\n",
      "/data/gaojie/miniforge3/envs/GLUE/lib/python3.8/site-packages/anndata/_core/anndata.py:1230: ImplicitModificationWarning: Trying to modify attribute `.var` of view, initializing view as actual.\n",
      "  df[key] = c\n"
     ]
    }
   ],
   "source": [
    "rna.write('Multi-omics_intergration/data/adata_RNA_final_input.h5ad',compression=\"gzip\")"
   ]
  },
  {
   "cell_type": "markdown",
   "id": "54d2d709-ec13-496c-ae31-8a8f429693cd",
   "metadata": {},
   "source": [
    "### preparing ATAC"
   ]
  },
  {
   "cell_type": "code",
   "execution_count": 19,
   "id": "2bd6ce3d-034b-4cb3-a1bf-1980b155b978",
   "metadata": {},
   "outputs": [],
   "source": [
    "ATAC_raw_matrix = mmread('Multi-omics_intergration/data/ATAC_peak_raw_counts.mtx')"
   ]
  },
  {
   "cell_type": "code",
   "execution_count": 20,
   "id": "4c554f81-bf59-4156-8f94-08d61e9070d9",
   "metadata": {},
   "outputs": [],
   "source": [
    "atac = sc.AnnData(X=ATAC_raw_matrix.T.tocsr())"
   ]
  },
  {
   "cell_type": "code",
   "execution_count": 21,
   "id": "e91d1590-5a82-407b-8f66-f2fa9aea2b8e",
   "metadata": {},
   "outputs": [
    {
     "data": {
      "text/plain": [
       "AnnData object with n_obs × n_vars = 20981 × 388257"
      ]
     },
     "execution_count": 21,
     "metadata": {},
     "output_type": "execute_result"
    }
   ],
   "source": [
    "atac"
   ]
  },
  {
   "cell_type": "code",
   "execution_count": 22,
   "id": "a946072c-2305-4ea4-b08b-3f44ff25ca22",
   "metadata": {},
   "outputs": [],
   "source": [
    "atac_var = pd.read_csv('Multi-omics_intergration/data/ATAC_peak_meta.csv',index_col=0)\n",
    "atac_obs = pd.read_csv('Multi-omics_intergration/data/ATAC_cell_meta.csv',index_col=0)"
   ]
  },
  {
   "cell_type": "code",
   "execution_count": 23,
   "id": "3a12290a-202f-4df2-8d24-6559e856f96e",
   "metadata": {},
   "outputs": [
    {
     "data": {
      "text/html": [
       "<div>\n",
       "<style scoped>\n",
       "    .dataframe tbody tr th:only-of-type {\n",
       "        vertical-align: middle;\n",
       "    }\n",
       "\n",
       "    .dataframe tbody tr th {\n",
       "        vertical-align: top;\n",
       "    }\n",
       "\n",
       "    .dataframe thead th {\n",
       "        text-align: right;\n",
       "    }\n",
       "</style>\n",
       "<table border=\"1\" class=\"dataframe\">\n",
       "  <thead>\n",
       "    <tr style=\"text-align: right;\">\n",
       "      <th></th>\n",
       "      <th>seqnames</th>\n",
       "      <th>start</th>\n",
       "      <th>end</th>\n",
       "      <th>width</th>\n",
       "      <th>strand</th>\n",
       "      <th>idx</th>\n",
       "    </tr>\n",
       "  </thead>\n",
       "  <tbody>\n",
       "    <tr>\n",
       "      <th>chr1:817083-817583</th>\n",
       "      <td>chr1</td>\n",
       "      <td>817083</td>\n",
       "      <td>817583</td>\n",
       "      <td>501</td>\n",
       "      <td>*</td>\n",
       "      <td>1</td>\n",
       "    </tr>\n",
       "    <tr>\n",
       "      <th>chr1:827314-827814</th>\n",
       "      <td>chr1</td>\n",
       "      <td>827314</td>\n",
       "      <td>827814</td>\n",
       "      <td>501</td>\n",
       "      <td>*</td>\n",
       "      <td>2</td>\n",
       "    </tr>\n",
       "    <tr>\n",
       "      <th>chr1:858598-859098</th>\n",
       "      <td>chr1</td>\n",
       "      <td>858598</td>\n",
       "      <td>859098</td>\n",
       "      <td>501</td>\n",
       "      <td>*</td>\n",
       "      <td>3</td>\n",
       "    </tr>\n",
       "    <tr>\n",
       "      <th>chr1:869685-870185</th>\n",
       "      <td>chr1</td>\n",
       "      <td>869685</td>\n",
       "      <td>870185</td>\n",
       "      <td>501</td>\n",
       "      <td>*</td>\n",
       "      <td>4</td>\n",
       "    </tr>\n",
       "    <tr>\n",
       "      <th>chr1:899841-900341</th>\n",
       "      <td>chr1</td>\n",
       "      <td>899841</td>\n",
       "      <td>900341</td>\n",
       "      <td>501</td>\n",
       "      <td>*</td>\n",
       "      <td>5</td>\n",
       "    </tr>\n",
       "  </tbody>\n",
       "</table>\n",
       "</div>"
      ],
      "text/plain": [
       "                   seqnames   start     end  width strand  idx\n",
       "chr1:817083-817583     chr1  817083  817583    501      *    1\n",
       "chr1:827314-827814     chr1  827314  827814    501      *    2\n",
       "chr1:858598-859098     chr1  858598  859098    501      *    3\n",
       "chr1:869685-870185     chr1  869685  870185    501      *    4\n",
       "chr1:899841-900341     chr1  899841  900341    501      *    5"
      ]
     },
     "execution_count": 23,
     "metadata": {},
     "output_type": "execute_result"
    }
   ],
   "source": [
    "atac_var.head()"
   ]
  },
  {
   "cell_type": "code",
   "execution_count": 24,
   "id": "7cfc41c5-bfa8-4dfa-b13d-7c39235bca73",
   "metadata": {},
   "outputs": [
    {
     "data": {
      "text/html": [
       "<div>\n",
       "<style scoped>\n",
       "    .dataframe tbody tr th:only-of-type {\n",
       "        vertical-align: middle;\n",
       "    }\n",
       "\n",
       "    .dataframe tbody tr th {\n",
       "        vertical-align: top;\n",
       "    }\n",
       "\n",
       "    .dataframe thead th {\n",
       "        text-align: right;\n",
       "    }\n",
       "</style>\n",
       "<table border=\"1\" class=\"dataframe\">\n",
       "  <thead>\n",
       "    <tr style=\"text-align: right;\">\n",
       "      <th></th>\n",
       "      <th>Sample</th>\n",
       "      <th>TSSEnrichment</th>\n",
       "      <th>ReadsInTSS</th>\n",
       "      <th>ReadsInPromoter</th>\n",
       "      <th>ReadsInBlacklist</th>\n",
       "      <th>PromoterRatio</th>\n",
       "      <th>PassQC</th>\n",
       "      <th>NucleosomeRatio</th>\n",
       "      <th>nMultiFrags</th>\n",
       "      <th>nMonoFrags</th>\n",
       "      <th>nFrags</th>\n",
       "      <th>nDiFrags</th>\n",
       "      <th>BlacklistRatio</th>\n",
       "      <th>doublet_pval</th>\n",
       "      <th>doublet_qval</th>\n",
       "      <th>doublet</th>\n",
       "      <th>Clusters</th>\n",
       "      <th>ReadsInPeaks</th>\n",
       "      <th>FRIP</th>\n",
       "    </tr>\n",
       "  </thead>\n",
       "  <tbody>\n",
       "    <tr>\n",
       "      <th>Adjacent#ACAAGCTGTATTCTCT-1</th>\n",
       "      <td>Adjacent</td>\n",
       "      <td>4.145</td>\n",
       "      <td>7222</td>\n",
       "      <td>10386</td>\n",
       "      <td>1129</td>\n",
       "      <td>0.056009</td>\n",
       "      <td>1</td>\n",
       "      <td>0.411647</td>\n",
       "      <td>6740</td>\n",
       "      <td>65680</td>\n",
       "      <td>92717</td>\n",
       "      <td>20297</td>\n",
       "      <td>0.006088</td>\n",
       "      <td>9.999836e-01</td>\n",
       "      <td>9.999989e-01</td>\n",
       "      <td>False</td>\n",
       "      <td>C3</td>\n",
       "      <td>30731</td>\n",
       "      <td>0.165766</td>\n",
       "    </tr>\n",
       "    <tr>\n",
       "      <th>Adjacent#TTGAGTGAGTTACACC-1</th>\n",
       "      <td>Adjacent</td>\n",
       "      <td>9.906</td>\n",
       "      <td>26654</td>\n",
       "      <td>31016</td>\n",
       "      <td>675</td>\n",
       "      <td>0.175476</td>\n",
       "      <td>1</td>\n",
       "      <td>0.512839</td>\n",
       "      <td>5910</td>\n",
       "      <td>58418</td>\n",
       "      <td>88377</td>\n",
       "      <td>24049</td>\n",
       "      <td>0.003819</td>\n",
       "      <td>2.589578e-48</td>\n",
       "      <td>5.876057e-46</td>\n",
       "      <td>True</td>\n",
       "      <td>C3</td>\n",
       "      <td>83658</td>\n",
       "      <td>0.473313</td>\n",
       "    </tr>\n",
       "    <tr>\n",
       "      <th>Adjacent#GAGACTTCATTCACCC-1</th>\n",
       "      <td>Adjacent</td>\n",
       "      <td>13.267</td>\n",
       "      <td>34418</td>\n",
       "      <td>35675</td>\n",
       "      <td>794</td>\n",
       "      <td>0.206977</td>\n",
       "      <td>1</td>\n",
       "      <td>0.498461</td>\n",
       "      <td>4981</td>\n",
       "      <td>57513</td>\n",
       "      <td>86181</td>\n",
       "      <td>23687</td>\n",
       "      <td>0.004607</td>\n",
       "      <td>NaN</td>\n",
       "      <td>NaN</td>\n",
       "      <td>NaN</td>\n",
       "      <td>C6</td>\n",
       "      <td>92896</td>\n",
       "      <td>0.538965</td>\n",
       "    </tr>\n",
       "    <tr>\n",
       "      <th>Adjacent#CCGTGAGTCAAAGTAG-1</th>\n",
       "      <td>Adjacent</td>\n",
       "      <td>10.963</td>\n",
       "      <td>26812</td>\n",
       "      <td>30380</td>\n",
       "      <td>937</td>\n",
       "      <td>0.177686</td>\n",
       "      <td>1</td>\n",
       "      <td>0.597727</td>\n",
       "      <td>5928</td>\n",
       "      <td>53506</td>\n",
       "      <td>85488</td>\n",
       "      <td>26054</td>\n",
       "      <td>0.005480</td>\n",
       "      <td>9.281757e-60</td>\n",
       "      <td>3.768882e-57</td>\n",
       "      <td>True</td>\n",
       "      <td>C3</td>\n",
       "      <td>76780</td>\n",
       "      <td>0.449085</td>\n",
       "    </tr>\n",
       "    <tr>\n",
       "      <th>Adjacent#CCCTCTCTCTCTGCAC-1</th>\n",
       "      <td>Adjacent</td>\n",
       "      <td>9.936</td>\n",
       "      <td>25289</td>\n",
       "      <td>28135</td>\n",
       "      <td>676</td>\n",
       "      <td>0.165457</td>\n",
       "      <td>1</td>\n",
       "      <td>0.638726</td>\n",
       "      <td>6172</td>\n",
       "      <td>51883</td>\n",
       "      <td>85022</td>\n",
       "      <td>26967</td>\n",
       "      <td>0.003975</td>\n",
       "      <td>6.358629e-21</td>\n",
       "      <td>3.104862e-19</td>\n",
       "      <td>True</td>\n",
       "      <td>C3</td>\n",
       "      <td>71356</td>\n",
       "      <td>0.419638</td>\n",
       "    </tr>\n",
       "  </tbody>\n",
       "</table>\n",
       "</div>"
      ],
      "text/plain": [
       "                               Sample  TSSEnrichment  ReadsInTSS  \\\n",
       "Adjacent#ACAAGCTGTATTCTCT-1  Adjacent          4.145        7222   \n",
       "Adjacent#TTGAGTGAGTTACACC-1  Adjacent          9.906       26654   \n",
       "Adjacent#GAGACTTCATTCACCC-1  Adjacent         13.267       34418   \n",
       "Adjacent#CCGTGAGTCAAAGTAG-1  Adjacent         10.963       26812   \n",
       "Adjacent#CCCTCTCTCTCTGCAC-1  Adjacent          9.936       25289   \n",
       "\n",
       "                             ReadsInPromoter  ReadsInBlacklist  PromoterRatio  \\\n",
       "Adjacent#ACAAGCTGTATTCTCT-1            10386              1129       0.056009   \n",
       "Adjacent#TTGAGTGAGTTACACC-1            31016               675       0.175476   \n",
       "Adjacent#GAGACTTCATTCACCC-1            35675               794       0.206977   \n",
       "Adjacent#CCGTGAGTCAAAGTAG-1            30380               937       0.177686   \n",
       "Adjacent#CCCTCTCTCTCTGCAC-1            28135               676       0.165457   \n",
       "\n",
       "                             PassQC  NucleosomeRatio  nMultiFrags  nMonoFrags  \\\n",
       "Adjacent#ACAAGCTGTATTCTCT-1       1         0.411647         6740       65680   \n",
       "Adjacent#TTGAGTGAGTTACACC-1       1         0.512839         5910       58418   \n",
       "Adjacent#GAGACTTCATTCACCC-1       1         0.498461         4981       57513   \n",
       "Adjacent#CCGTGAGTCAAAGTAG-1       1         0.597727         5928       53506   \n",
       "Adjacent#CCCTCTCTCTCTGCAC-1       1         0.638726         6172       51883   \n",
       "\n",
       "                             nFrags  nDiFrags  BlacklistRatio  doublet_pval  \\\n",
       "Adjacent#ACAAGCTGTATTCTCT-1   92717     20297        0.006088  9.999836e-01   \n",
       "Adjacent#TTGAGTGAGTTACACC-1   88377     24049        0.003819  2.589578e-48   \n",
       "Adjacent#GAGACTTCATTCACCC-1   86181     23687        0.004607           NaN   \n",
       "Adjacent#CCGTGAGTCAAAGTAG-1   85488     26054        0.005480  9.281757e-60   \n",
       "Adjacent#CCCTCTCTCTCTGCAC-1   85022     26967        0.003975  6.358629e-21   \n",
       "\n",
       "                             doublet_qval doublet Clusters  ReadsInPeaks  \\\n",
       "Adjacent#ACAAGCTGTATTCTCT-1  9.999989e-01   False       C3         30731   \n",
       "Adjacent#TTGAGTGAGTTACACC-1  5.876057e-46    True       C3         83658   \n",
       "Adjacent#GAGACTTCATTCACCC-1           NaN     NaN       C6         92896   \n",
       "Adjacent#CCGTGAGTCAAAGTAG-1  3.768882e-57    True       C3         76780   \n",
       "Adjacent#CCCTCTCTCTCTGCAC-1  3.104862e-19    True       C3         71356   \n",
       "\n",
       "                                 FRIP  \n",
       "Adjacent#ACAAGCTGTATTCTCT-1  0.165766  \n",
       "Adjacent#TTGAGTGAGTTACACC-1  0.473313  \n",
       "Adjacent#GAGACTTCATTCACCC-1  0.538965  \n",
       "Adjacent#CCGTGAGTCAAAGTAG-1  0.449085  \n",
       "Adjacent#CCCTCTCTCTCTGCAC-1  0.419638  "
      ]
     },
     "execution_count": 24,
     "metadata": {},
     "output_type": "execute_result"
    }
   ],
   "source": [
    "atac_obs.head()"
   ]
  },
  {
   "cell_type": "code",
   "execution_count": 25,
   "id": "5fcad3dd-7ee3-4343-8564-e594bd256c05",
   "metadata": {},
   "outputs": [],
   "source": [
    "atac.var = atac_var\n",
    "atac.obs = atac_obs\n",
    "atac.var.columns = ['chrom','chromStart','chromEnd','width','strand','idx']\n",
    "atac.obs['doublet'] = atac.obs['doublet'].astype(str)"
   ]
  },
  {
   "cell_type": "code",
   "execution_count": 26,
   "id": "803ac5f8-4140-45e4-9805-e1760013c305",
   "metadata": {},
   "outputs": [],
   "source": [
    "lsi = pd.read_csv('Multi-omics_intergration/data/ATAC_Harmony_LSI.csv',index_col=0) ###input the exact LSI embedding from ArchR\n",
    "atac.obsm['X_lsi_harmony'] = lsi.loc[atac.obs_names,:].values"
   ]
  },
  {
   "cell_type": "code",
   "execution_count": 27,
   "id": "4e9a270d-f062-4625-86ed-bbd725bad40c",
   "metadata": {},
   "outputs": [],
   "source": [
    "sc.pp.neighbors(atac, use_rep=\"X_lsi_harmony\")\n",
    "sc.tl.umap(atac)"
   ]
  },
  {
   "cell_type": "code",
   "execution_count": 28,
   "id": "21160658-b15c-4685-b461-3f75b4b05ebc",
   "metadata": {},
   "outputs": [],
   "source": [
    "atac.write('Multi-omics_intergration/data/adata_ATAC_final_input.h5ad',compression=\"gzip\")"
   ]
  },
  {
   "cell_type": "code",
   "execution_count": null,
   "id": "121e0785-0807-412a-9413-67b9351381d8",
   "metadata": {},
   "outputs": [],
   "source": []
  }
 ],
 "metadata": {
  "kernelspec": {
   "display_name": "GLUE_new",
   "language": "python",
   "name": "glue_new"
  },
  "language_info": {
   "codemirror_mode": {
    "name": "ipython",
    "version": 3
   },
   "file_extension": ".py",
   "mimetype": "text/x-python",
   "name": "python",
   "nbconvert_exporter": "python",
   "pygments_lexer": "ipython3",
   "version": "3.8.19"
  }
 },
 "nbformat": 4,
 "nbformat_minor": 5
}
