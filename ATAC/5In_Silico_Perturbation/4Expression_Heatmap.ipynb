{
 "cells": [
  {
   "cell_type": "code",
   "execution_count": 1,
   "id": "a0f84a39-32e2-40f4-91cb-04905f7e4e0a",
   "metadata": {},
   "outputs": [
    {
     "name": "stderr",
     "output_type": "stream",
     "text": [
      "\n",
      "载入程序包：‘dplyr’\n",
      "\n",
      "\n",
      "The following objects are masked from ‘package:stats’:\n",
      "\n",
      "    filter, lag\n",
      "\n",
      "\n",
      "The following objects are masked from ‘package:base’:\n",
      "\n",
      "    intersect, setdiff, setequal, union\n",
      "\n",
      "\n",
      "载入需要的程序包：grid\n",
      "\n",
      "========================================\n",
      "ComplexHeatmap version 2.22.0\n",
      "Bioconductor page: http://bioconductor.org/packages/ComplexHeatmap/\n",
      "Github page: https://github.com/jokergoo/ComplexHeatmap\n",
      "Documentation: http://jokergoo.github.io/ComplexHeatmap-reference\n",
      "\n",
      "If you use it in published research, please cite either one:\n",
      "- Gu, Z. Complex Heatmap Visualization. iMeta 2022.\n",
      "- Gu, Z. Complex heatmaps reveal patterns and correlations in multidimensional \n",
      "    genomic data. Bioinformatics 2016.\n",
      "\n",
      "\n",
      "The new InteractiveComplexHeatmap package can directly export static \n",
      "complex heatmaps into an interactive Shiny app with zero effort. Have a try!\n",
      "\n",
      "This message can be suppressed by:\n",
      "  suppressPackageStartupMessages(library(ComplexHeatmap))\n",
      "========================================\n",
      "\n",
      "\n"
     ]
    }
   ],
   "source": [
    "library(dplyr)\n",
    "library(ComplexHeatmap)\n",
    "library(RColorBrewer)  \n",
    "library(readxl)"
   ]
  },
  {
   "cell_type": "code",
   "execution_count": 2,
   "id": "e074a03a-e43b-4b30-bee0-1ca0001d3e32",
   "metadata": {},
   "outputs": [],
   "source": [
    "setwd('~/workspace/Mida_collab/')"
   ]
  },
  {
   "cell_type": "code",
   "execution_count": 3,
   "id": "45a5691f-78d6-450f-8dc0-6798a066aeb7",
   "metadata": {},
   "outputs": [],
   "source": [
    "mat <- read.csv('CellOracle/exp_df_sample.csv',row.names = 1)"
   ]
  },
  {
   "cell_type": "code",
   "execution_count": 4,
   "id": "02d48da5-8f58-4504-8a58-14c88ea9a92f",
   "metadata": {},
   "outputs": [],
   "source": [
    "colors <- colorRampPalette(rev(brewer.pal(name = 'RdYlBu', n = 5)))(250)"
   ]
  },
  {
   "cell_type": "code",
   "execution_count": 5,
   "id": "173bcd3a-8205-4573-9a7a-07aa5fb5d6dd",
   "metadata": {},
   "outputs": [],
   "source": [
    "RGG <- read.csv('CellOracle/gradient_table2.vRG.tsv',sep='\\t')  %>% filter(flag == 'Pass')"
   ]
  },
  {
   "cell_type": "code",
   "execution_count": 6,
   "id": "e18bad28-f11a-4bd2-a7c6-2e22d33d24ad",
   "metadata": {},
   "outputs": [
    {
     "name": "stderr",
     "output_type": "stream",
     "text": [
      "\u001b[1m\u001b[22mNew names:\n",
      "\u001b[36m•\u001b[39m `` -> `...1`\n",
      "\u001b[36m•\u001b[39m `` -> `...2`\n",
      "\u001b[36m•\u001b[39m `` -> `...3`\n"
     ]
    }
   ],
   "source": [
    "TF_order <- read_excel('TF_perturbation/TF_heatmap.xlsx',col_names = FALSE)  %>% filter(`...2` %in% RGG$gene)"
   ]
  },
  {
   "cell_type": "code",
   "execution_count": 7,
   "id": "6230b9a2-2838-4c7d-9c7d-5dade01c520c",
   "metadata": {
    "scrolled": true
   },
   "outputs": [
    {
     "data": {
      "text/html": [
       "<table class=\"dataframe\">\n",
       "<caption>A data.frame: 6 × 3</caption>\n",
       "<thead>\n",
       "\t<tr><th></th><th scope=col>Sulcus</th><th scope=col>Adjacent</th><th scope=col>Distant</th></tr>\n",
       "\t<tr><th></th><th scope=col>&lt;dbl&gt;</th><th scope=col>&lt;dbl&gt;</th><th scope=col>&lt;dbl&gt;</th></tr>\n",
       "</thead>\n",
       "<tbody>\n",
       "\t<tr><th scope=row>AL627309.1</th><td>0.0018448906</td><td>0.0019973794</td><td>0.003421418</td></tr>\n",
       "\t<tr><th scope=row>AL627309.5</th><td>0.0090205865</td><td>0.0123232410</td><td>0.008953187</td></tr>\n",
       "\t<tr><th scope=row>AL627309.4</th><td>0.0000000000</td><td>0.0003718964</td><td>0.000000000</td></tr>\n",
       "\t<tr><th scope=row>AL669831.2</th><td>0.0000000000</td><td>0.0000000000</td><td>0.000000000</td></tr>\n",
       "\t<tr><th scope=row>LINC01409</th><td>0.0453312400</td><td>0.0541621560</td><td>0.046224060</td></tr>\n",
       "\t<tr><th scope=row>FAM87B</th><td>0.0006851223</td><td>0.0000000000</td><td>0.000000000</td></tr>\n",
       "</tbody>\n",
       "</table>\n"
      ],
      "text/latex": [
       "A data.frame: 6 × 3\n",
       "\\begin{tabular}{r|lll}\n",
       "  & Sulcus & Adjacent & Distant\\\\\n",
       "  & <dbl> & <dbl> & <dbl>\\\\\n",
       "\\hline\n",
       "\tAL627309.1 & 0.0018448906 & 0.0019973794 & 0.003421418\\\\\n",
       "\tAL627309.5 & 0.0090205865 & 0.0123232410 & 0.008953187\\\\\n",
       "\tAL627309.4 & 0.0000000000 & 0.0003718964 & 0.000000000\\\\\n",
       "\tAL669831.2 & 0.0000000000 & 0.0000000000 & 0.000000000\\\\\n",
       "\tLINC01409 & 0.0453312400 & 0.0541621560 & 0.046224060\\\\\n",
       "\tFAM87B & 0.0006851223 & 0.0000000000 & 0.000000000\\\\\n",
       "\\end{tabular}\n"
      ],
      "text/markdown": [
       "\n",
       "A data.frame: 6 × 3\n",
       "\n",
       "| <!--/--> | Sulcus &lt;dbl&gt; | Adjacent &lt;dbl&gt; | Distant &lt;dbl&gt; |\n",
       "|---|---|---|---|\n",
       "| AL627309.1 | 0.0018448906 | 0.0019973794 | 0.003421418 |\n",
       "| AL627309.5 | 0.0090205865 | 0.0123232410 | 0.008953187 |\n",
       "| AL627309.4 | 0.0000000000 | 0.0003718964 | 0.000000000 |\n",
       "| AL669831.2 | 0.0000000000 | 0.0000000000 | 0.000000000 |\n",
       "| LINC01409 | 0.0453312400 | 0.0541621560 | 0.046224060 |\n",
       "| FAM87B | 0.0006851223 | 0.0000000000 | 0.000000000 |\n",
       "\n"
      ],
      "text/plain": [
       "           Sulcus       Adjacent     Distant    \n",
       "AL627309.1 0.0018448906 0.0019973794 0.003421418\n",
       "AL627309.5 0.0090205865 0.0123232410 0.008953187\n",
       "AL627309.4 0.0000000000 0.0003718964 0.000000000\n",
       "AL669831.2 0.0000000000 0.0000000000 0.000000000\n",
       "LINC01409  0.0453312400 0.0541621560 0.046224060\n",
       "FAM87B     0.0006851223 0.0000000000 0.000000000"
      ]
     },
     "metadata": {},
     "output_type": "display_data"
    }
   ],
   "source": [
    "mat <- mat[,c('Sulcus','Adjacent','Distant')]\n",
    "mat %>% head()"
   ]
  },
  {
   "cell_type": "code",
   "execution_count": 8,
   "id": "d7dc2d3a-562b-496b-bd2d-ef524ddc1b3d",
   "metadata": {},
   "outputs": [],
   "source": [
    "TFs <- read.csv('RNA_heatmap/TF_perturbation_Filt.csv',header = FALSE) ###filtered after PS score"
   ]
  },
  {
   "cell_type": "code",
   "execution_count": 9,
   "id": "23bd0ce0-b356-46a1-8d16-009732de146d",
   "metadata": {},
   "outputs": [],
   "source": [
    "all_TFs <- TFs$V1 \n",
    "all_TFs <- all_TFs[1:length(all_TFs)-1]"
   ]
  },
  {
   "cell_type": "code",
   "execution_count": 10,
   "id": "4b1274c7-9528-4fa0-91df-127c38111197",
   "metadata": {},
   "outputs": [
    {
     "data": {
      "text/html": [
       "<table class=\"dataframe\">\n",
       "<caption>A data.frame: 12 × 13</caption>\n",
       "<thead>\n",
       "\t<tr><th scope=col>gene</th><th scope=col>p_val</th><th scope=col>avg_log2FC</th><th scope=col>pct.1</th><th scope=col>pct.2</th><th scope=col>p_val_adj</th><th scope=col>cluster</th><th scope=col>Adjacent</th><th scope=col>Distant</th><th scope=col>Sulcus</th><th scope=col>flag</th><th scope=col>flag_pseudoage</th><th scope=col>Module</th></tr>\n",
       "\t<tr><th scope=col>&lt;chr&gt;</th><th scope=col>&lt;dbl&gt;</th><th scope=col>&lt;dbl&gt;</th><th scope=col>&lt;dbl&gt;</th><th scope=col>&lt;dbl&gt;</th><th scope=col>&lt;dbl&gt;</th><th scope=col>&lt;chr&gt;</th><th scope=col>&lt;dbl&gt;</th><th scope=col>&lt;dbl&gt;</th><th scope=col>&lt;dbl&gt;</th><th scope=col>&lt;chr&gt;</th><th scope=col>&lt;lgl&gt;</th><th scope=col>&lt;chr&gt;</th></tr>\n",
       "</thead>\n",
       "<tbody>\n",
       "\t<tr><td>ETV5  </td><td>3.496681e-219</td><td>2.4869767</td><td>0.481</td><td>0.120</td><td>1.080964e-214</td><td>Distant</td><td>0.24914538</td><td>0.52458348</td><td>0.10767314</td><td>Pass</td><td> TRUE</td><td>2            </td></tr>\n",
       "\t<tr><td>FOXP2 </td><td>2.880133e-162</td><td>1.6511994</td><td>0.661</td><td>0.321</td><td>8.903644e-158</td><td>Sulcus </td><td>0.48979218</td><td>0.38995143</td><td>0.99077203</td><td>Pass</td><td> TRUE</td><td>4            </td></tr>\n",
       "\t<tr><td>LEF1  </td><td>6.462201e-178</td><td>2.7638262</td><td>0.452</td><td>0.093</td><td>1.997725e-173</td><td>Sulcus </td><td>0.25121665</td><td>0.08068768</td><td>0.47999059</td><td>Pass</td><td> TRUE</td><td>4            </td></tr>\n",
       "\t<tr><td>MEIS1 </td><td> 0.000000e+00</td><td>5.2068979</td><td>0.476</td><td>0.019</td><td> 0.000000e+00</td><td>Distant</td><td>0.08912636</td><td>0.52197554</td><td>0.01668626</td><td>Pass</td><td> TRUE</td><td>2            </td></tr>\n",
       "\t<tr><td>NFE2L2</td><td> 1.333090e-68</td><td>1.2605922</td><td>0.433</td><td>0.231</td><td> 4.121115e-64</td><td>Distant</td><td>0.27461218</td><td>0.44219586</td><td>0.20460170</td><td>Pass</td><td> TRUE</td><td>2            </td></tr>\n",
       "\t<tr><td>NFIC  </td><td> 5.063594e-82</td><td>1.3951212</td><td>0.451</td><td>0.211</td><td> 1.565360e-77</td><td>Sulcus </td><td>0.34943578</td><td>0.19484090</td><td>0.47382430</td><td>Pass</td><td> TRUE</td><td>4            </td></tr>\n",
       "\t<tr><td>NFIX  </td><td>2.911352e-235</td><td>1.0773220</td><td>0.971</td><td>0.828</td><td>9.000153e-231</td><td>Sulcus </td><td>1.19481176</td><td>0.89375886</td><td>1.44334647</td><td>Pass</td><td> TRUE</td><td>4            </td></tr>\n",
       "\t<tr><td>POU3F2</td><td>1.542492e-123</td><td>2.1497240</td><td>0.360</td><td>0.110</td><td>4.768460e-119</td><td>Distant</td><td>0.13663267</td><td>0.35271490</td><td>0.09055733</td><td>Pass</td><td> TRUE</td><td>2            </td></tr>\n",
       "\t<tr><td>POU6F2</td><td>6.414080e-211</td><td>3.1146185</td><td>0.386</td><td>0.066</td><td>1.982849e-206</td><td>Distant</td><td>0.16782737</td><td>0.45151044</td><td>0.06240560</td><td>Pass</td><td> TRUE</td><td>2            </td></tr>\n",
       "\t<tr><td>PRDM16</td><td> 4.024950e-40</td><td>0.7272504</td><td>0.577</td><td>0.429</td><td> 1.244273e-35</td><td>Distant</td><td>0.46490431</td><td>0.65674711</td><td>0.43453391</td><td>Pass</td><td>FALSE</td><td>non-pseudoage</td></tr>\n",
       "\t<tr><td>RFX4  </td><td> 1.194519e-20</td><td>0.4250652</td><td>0.664</td><td>0.578</td><td> 3.692735e-16</td><td>Sulcus </td><td>0.80998867</td><td>0.68201277</td><td>0.85462723</td><td>Pass</td><td> TRUE</td><td>4            </td></tr>\n",
       "\t<tr><td>ZNF423</td><td> 1.820407e-42</td><td>0.9486300</td><td>0.476</td><td>0.310</td><td> 5.627607e-38</td><td>Sulcus </td><td>0.38244333</td><td>0.30347108</td><td>0.52664525</td><td>Pass</td><td> TRUE</td><td>4            </td></tr>\n",
       "</tbody>\n",
       "</table>\n"
      ],
      "text/latex": [
       "A data.frame: 12 × 13\n",
       "\\begin{tabular}{lllllllllllll}\n",
       " gene & p\\_val & avg\\_log2FC & pct.1 & pct.2 & p\\_val\\_adj & cluster & Adjacent & Distant & Sulcus & flag & flag\\_pseudoage & Module\\\\\n",
       " <chr> & <dbl> & <dbl> & <dbl> & <dbl> & <dbl> & <chr> & <dbl> & <dbl> & <dbl> & <chr> & <lgl> & <chr>\\\\\n",
       "\\hline\n",
       "\t ETV5   & 3.496681e-219 & 2.4869767 & 0.481 & 0.120 & 1.080964e-214 & Distant & 0.24914538 & 0.52458348 & 0.10767314 & Pass &  TRUE & 2            \\\\\n",
       "\t FOXP2  & 2.880133e-162 & 1.6511994 & 0.661 & 0.321 & 8.903644e-158 & Sulcus  & 0.48979218 & 0.38995143 & 0.99077203 & Pass &  TRUE & 4            \\\\\n",
       "\t LEF1   & 6.462201e-178 & 2.7638262 & 0.452 & 0.093 & 1.997725e-173 & Sulcus  & 0.25121665 & 0.08068768 & 0.47999059 & Pass &  TRUE & 4            \\\\\n",
       "\t MEIS1  &  0.000000e+00 & 5.2068979 & 0.476 & 0.019 &  0.000000e+00 & Distant & 0.08912636 & 0.52197554 & 0.01668626 & Pass &  TRUE & 2            \\\\\n",
       "\t NFE2L2 &  1.333090e-68 & 1.2605922 & 0.433 & 0.231 &  4.121115e-64 & Distant & 0.27461218 & 0.44219586 & 0.20460170 & Pass &  TRUE & 2            \\\\\n",
       "\t NFIC   &  5.063594e-82 & 1.3951212 & 0.451 & 0.211 &  1.565360e-77 & Sulcus  & 0.34943578 & 0.19484090 & 0.47382430 & Pass &  TRUE & 4            \\\\\n",
       "\t NFIX   & 2.911352e-235 & 1.0773220 & 0.971 & 0.828 & 9.000153e-231 & Sulcus  & 1.19481176 & 0.89375886 & 1.44334647 & Pass &  TRUE & 4            \\\\\n",
       "\t POU3F2 & 1.542492e-123 & 2.1497240 & 0.360 & 0.110 & 4.768460e-119 & Distant & 0.13663267 & 0.35271490 & 0.09055733 & Pass &  TRUE & 2            \\\\\n",
       "\t POU6F2 & 6.414080e-211 & 3.1146185 & 0.386 & 0.066 & 1.982849e-206 & Distant & 0.16782737 & 0.45151044 & 0.06240560 & Pass &  TRUE & 2            \\\\\n",
       "\t PRDM16 &  4.024950e-40 & 0.7272504 & 0.577 & 0.429 &  1.244273e-35 & Distant & 0.46490431 & 0.65674711 & 0.43453391 & Pass & FALSE & non-pseudoage\\\\\n",
       "\t RFX4   &  1.194519e-20 & 0.4250652 & 0.664 & 0.578 &  3.692735e-16 & Sulcus  & 0.80998867 & 0.68201277 & 0.85462723 & Pass &  TRUE & 4            \\\\\n",
       "\t ZNF423 &  1.820407e-42 & 0.9486300 & 0.476 & 0.310 &  5.627607e-38 & Sulcus  & 0.38244333 & 0.30347108 & 0.52664525 & Pass &  TRUE & 4            \\\\\n",
       "\\end{tabular}\n"
      ],
      "text/markdown": [
       "\n",
       "A data.frame: 12 × 13\n",
       "\n",
       "| gene &lt;chr&gt; | p_val &lt;dbl&gt; | avg_log2FC &lt;dbl&gt; | pct.1 &lt;dbl&gt; | pct.2 &lt;dbl&gt; | p_val_adj &lt;dbl&gt; | cluster &lt;chr&gt; | Adjacent &lt;dbl&gt; | Distant &lt;dbl&gt; | Sulcus &lt;dbl&gt; | flag &lt;chr&gt; | flag_pseudoage &lt;lgl&gt; | Module &lt;chr&gt; |\n",
       "|---|---|---|---|---|---|---|---|---|---|---|---|---|\n",
       "| ETV5   | 3.496681e-219 | 2.4869767 | 0.481 | 0.120 | 1.080964e-214 | Distant | 0.24914538 | 0.52458348 | 0.10767314 | Pass |  TRUE | 2             |\n",
       "| FOXP2  | 2.880133e-162 | 1.6511994 | 0.661 | 0.321 | 8.903644e-158 | Sulcus  | 0.48979218 | 0.38995143 | 0.99077203 | Pass |  TRUE | 4             |\n",
       "| LEF1   | 6.462201e-178 | 2.7638262 | 0.452 | 0.093 | 1.997725e-173 | Sulcus  | 0.25121665 | 0.08068768 | 0.47999059 | Pass |  TRUE | 4             |\n",
       "| MEIS1  |  0.000000e+00 | 5.2068979 | 0.476 | 0.019 |  0.000000e+00 | Distant | 0.08912636 | 0.52197554 | 0.01668626 | Pass |  TRUE | 2             |\n",
       "| NFE2L2 |  1.333090e-68 | 1.2605922 | 0.433 | 0.231 |  4.121115e-64 | Distant | 0.27461218 | 0.44219586 | 0.20460170 | Pass |  TRUE | 2             |\n",
       "| NFIC   |  5.063594e-82 | 1.3951212 | 0.451 | 0.211 |  1.565360e-77 | Sulcus  | 0.34943578 | 0.19484090 | 0.47382430 | Pass |  TRUE | 4             |\n",
       "| NFIX   | 2.911352e-235 | 1.0773220 | 0.971 | 0.828 | 9.000153e-231 | Sulcus  | 1.19481176 | 0.89375886 | 1.44334647 | Pass |  TRUE | 4             |\n",
       "| POU3F2 | 1.542492e-123 | 2.1497240 | 0.360 | 0.110 | 4.768460e-119 | Distant | 0.13663267 | 0.35271490 | 0.09055733 | Pass |  TRUE | 2             |\n",
       "| POU6F2 | 6.414080e-211 | 3.1146185 | 0.386 | 0.066 | 1.982849e-206 | Distant | 0.16782737 | 0.45151044 | 0.06240560 | Pass |  TRUE | 2             |\n",
       "| PRDM16 |  4.024950e-40 | 0.7272504 | 0.577 | 0.429 |  1.244273e-35 | Distant | 0.46490431 | 0.65674711 | 0.43453391 | Pass | FALSE | non-pseudoage |\n",
       "| RFX4   |  1.194519e-20 | 0.4250652 | 0.664 | 0.578 |  3.692735e-16 | Sulcus  | 0.80998867 | 0.68201277 | 0.85462723 | Pass |  TRUE | 4             |\n",
       "| ZNF423 |  1.820407e-42 | 0.9486300 | 0.476 | 0.310 |  5.627607e-38 | Sulcus  | 0.38244333 | 0.30347108 | 0.52664525 | Pass |  TRUE | 4             |\n",
       "\n"
      ],
      "text/plain": [
       "   gene   p_val         avg_log2FC pct.1 pct.2 p_val_adj     cluster Adjacent  \n",
       "1  ETV5   3.496681e-219 2.4869767  0.481 0.120 1.080964e-214 Distant 0.24914538\n",
       "2  FOXP2  2.880133e-162 1.6511994  0.661 0.321 8.903644e-158 Sulcus  0.48979218\n",
       "3  LEF1   6.462201e-178 2.7638262  0.452 0.093 1.997725e-173 Sulcus  0.25121665\n",
       "4  MEIS1   0.000000e+00 5.2068979  0.476 0.019  0.000000e+00 Distant 0.08912636\n",
       "5  NFE2L2  1.333090e-68 1.2605922  0.433 0.231  4.121115e-64 Distant 0.27461218\n",
       "6  NFIC    5.063594e-82 1.3951212  0.451 0.211  1.565360e-77 Sulcus  0.34943578\n",
       "7  NFIX   2.911352e-235 1.0773220  0.971 0.828 9.000153e-231 Sulcus  1.19481176\n",
       "8  POU3F2 1.542492e-123 2.1497240  0.360 0.110 4.768460e-119 Distant 0.13663267\n",
       "9  POU6F2 6.414080e-211 3.1146185  0.386 0.066 1.982849e-206 Distant 0.16782737\n",
       "10 PRDM16  4.024950e-40 0.7272504  0.577 0.429  1.244273e-35 Distant 0.46490431\n",
       "11 RFX4    1.194519e-20 0.4250652  0.664 0.578  3.692735e-16 Sulcus  0.80998867\n",
       "12 ZNF423  1.820407e-42 0.9486300  0.476 0.310  5.627607e-38 Sulcus  0.38244333\n",
       "   Distant    Sulcus     flag flag_pseudoage Module       \n",
       "1  0.52458348 0.10767314 Pass  TRUE          2            \n",
       "2  0.38995143 0.99077203 Pass  TRUE          4            \n",
       "3  0.08068768 0.47999059 Pass  TRUE          4            \n",
       "4  0.52197554 0.01668626 Pass  TRUE          2            \n",
       "5  0.44219586 0.20460170 Pass  TRUE          2            \n",
       "6  0.19484090 0.47382430 Pass  TRUE          4            \n",
       "7  0.89375886 1.44334647 Pass  TRUE          4            \n",
       "8  0.35271490 0.09055733 Pass  TRUE          2            \n",
       "9  0.45151044 0.06240560 Pass  TRUE          2            \n",
       "10 0.65674711 0.43453391 Pass FALSE          non-pseudoage\n",
       "11 0.68201277 0.85462723 Pass  TRUE          4            \n",
       "12 0.30347108 0.52664525 Pass  TRUE          4            "
      ]
     },
     "metadata": {},
     "output_type": "display_data"
    }
   ],
   "source": [
    "RGG %>% filter(gene %in% all_TFs)"
   ]
  },
  {
   "cell_type": "code",
   "execution_count": 11,
   "id": "12f6cacf-541f-4fa0-8581-517cb08b16ba",
   "metadata": {},
   "outputs": [],
   "source": [
    "TF_mat <- mat[all_TFs,] %>% t() %>% scale() %>% t() ###z-score scale"
   ]
  },
  {
   "cell_type": "code",
   "execution_count": 12,
   "id": "41a7edf8-903c-4f0c-b6fd-ebf27e11540d",
   "metadata": {},
   "outputs": [],
   "source": [
    "sample_group <- c('Sulcus','Adjacent','Distant')\n",
    "sample_cols <- c('#1e807a',  '#f5d731','#d92523') %>% setNames(sample_group)\n",
    "\n",
    "h1 <- HeatmapAnnotation(\n",
    "  Region = sample_group,\n",
    "  col = list(Region = sample_cols),\n",
    "    height = unit(1,'mm'),\n",
    "    width = unit(3,'cm')\n",
    ")"
   ]
  },
  {
   "cell_type": "code",
   "execution_count": 13,
   "id": "46f70c05-42e5-4241-96b0-c626411351b1",
   "metadata": {},
   "outputs": [],
   "source": [
    "all_TFs <- TF_order$`...2`\n",
    "all_TFs <- all_TFs[all_TFs %in% rownames(TF_mat)]\n",
    "TF_mat <- TF_mat[all_TFs,]"
   ]
  },
  {
   "cell_type": "code",
   "execution_count": 14,
   "id": "292010c3-edd6-4ab5-98e3-54b3cc7c4593",
   "metadata": {},
   "outputs": [
    {
     "data": {
      "text/html": [
       "<table class=\"dataframe\">\n",
       "<caption>A matrix: 12 × 3 of type dbl</caption>\n",
       "<thead>\n",
       "\t<tr><th></th><th scope=col>Sulcus</th><th scope=col>Adjacent</th><th scope=col>Distant</th></tr>\n",
       "</thead>\n",
       "<tbody>\n",
       "\t<tr><th scope=row>LEF1</th><td> 1.0551443</td><td>-0.1213666</td><td>-0.9337776</td></tr>\n",
       "\t<tr><th scope=row>NFIC</th><td> 1.1329698</td><td>-0.3733928</td><td>-0.7595770</td></tr>\n",
       "\t<tr><th scope=row>ZNF423</th><td> 1.0610818</td><td>-0.1361059</td><td>-0.9249760</td></tr>\n",
       "\t<tr><th scope=row>FOXP2</th><td> 1.1543203</td><td>-0.6028207</td><td>-0.5514996</td></tr>\n",
       "\t<tr><th scope=row>NFIX</th><td> 1.1263761</td><td>-0.3430569</td><td>-0.7833192</td></tr>\n",
       "\t<tr><th scope=row>RFX4</th><td> 0.7060523</td><td> 0.4382498</td><td>-1.1443021</td></tr>\n",
       "\t<tr><th scope=row>POU6F2</th><td>-0.9306302</td><td>-0.1266694</td><td> 1.0572995</td></tr>\n",
       "\t<tr><th scope=row>NFE2L2</th><td>-0.9182309</td><td>-0.1472170</td><td> 1.0654479</td></tr>\n",
       "\t<tr><th scope=row>POU3F2</th><td>-0.7596917</td><td>-0.3732486</td><td> 1.1329404</td></tr>\n",
       "\t<tr><th scope=row>MEIS1</th><td>-0.7925275</td><td>-0.3310086</td><td> 1.1235361</td></tr>\n",
       "\t<tr><th scope=row>PRDM16</th><td>-0.8952931</td><td>-0.1838894</td><td> 1.0791825</td></tr>\n",
       "\t<tr><th scope=row>ETV5</th><td>-0.8497474</td><td>-0.2522134</td><td> 1.1019609</td></tr>\n",
       "</tbody>\n",
       "</table>\n"
      ],
      "text/latex": [
       "A matrix: 12 × 3 of type dbl\n",
       "\\begin{tabular}{r|lll}\n",
       "  & Sulcus & Adjacent & Distant\\\\\n",
       "\\hline\n",
       "\tLEF1 &  1.0551443 & -0.1213666 & -0.9337776\\\\\n",
       "\tNFIC &  1.1329698 & -0.3733928 & -0.7595770\\\\\n",
       "\tZNF423 &  1.0610818 & -0.1361059 & -0.9249760\\\\\n",
       "\tFOXP2 &  1.1543203 & -0.6028207 & -0.5514996\\\\\n",
       "\tNFIX &  1.1263761 & -0.3430569 & -0.7833192\\\\\n",
       "\tRFX4 &  0.7060523 &  0.4382498 & -1.1443021\\\\\n",
       "\tPOU6F2 & -0.9306302 & -0.1266694 &  1.0572995\\\\\n",
       "\tNFE2L2 & -0.9182309 & -0.1472170 &  1.0654479\\\\\n",
       "\tPOU3F2 & -0.7596917 & -0.3732486 &  1.1329404\\\\\n",
       "\tMEIS1 & -0.7925275 & -0.3310086 &  1.1235361\\\\\n",
       "\tPRDM16 & -0.8952931 & -0.1838894 &  1.0791825\\\\\n",
       "\tETV5 & -0.8497474 & -0.2522134 &  1.1019609\\\\\n",
       "\\end{tabular}\n"
      ],
      "text/markdown": [
       "\n",
       "A matrix: 12 × 3 of type dbl\n",
       "\n",
       "| <!--/--> | Sulcus | Adjacent | Distant |\n",
       "|---|---|---|---|\n",
       "| LEF1 |  1.0551443 | -0.1213666 | -0.9337776 |\n",
       "| NFIC |  1.1329698 | -0.3733928 | -0.7595770 |\n",
       "| ZNF423 |  1.0610818 | -0.1361059 | -0.9249760 |\n",
       "| FOXP2 |  1.1543203 | -0.6028207 | -0.5514996 |\n",
       "| NFIX |  1.1263761 | -0.3430569 | -0.7833192 |\n",
       "| RFX4 |  0.7060523 |  0.4382498 | -1.1443021 |\n",
       "| POU6F2 | -0.9306302 | -0.1266694 |  1.0572995 |\n",
       "| NFE2L2 | -0.9182309 | -0.1472170 |  1.0654479 |\n",
       "| POU3F2 | -0.7596917 | -0.3732486 |  1.1329404 |\n",
       "| MEIS1 | -0.7925275 | -0.3310086 |  1.1235361 |\n",
       "| PRDM16 | -0.8952931 | -0.1838894 |  1.0791825 |\n",
       "| ETV5 | -0.8497474 | -0.2522134 |  1.1019609 |\n",
       "\n"
      ],
      "text/plain": [
       "       Sulcus     Adjacent   Distant   \n",
       "LEF1    1.0551443 -0.1213666 -0.9337776\n",
       "NFIC    1.1329698 -0.3733928 -0.7595770\n",
       "ZNF423  1.0610818 -0.1361059 -0.9249760\n",
       "FOXP2   1.1543203 -0.6028207 -0.5514996\n",
       "NFIX    1.1263761 -0.3430569 -0.7833192\n",
       "RFX4    0.7060523  0.4382498 -1.1443021\n",
       "POU6F2 -0.9306302 -0.1266694  1.0572995\n",
       "NFE2L2 -0.9182309 -0.1472170  1.0654479\n",
       "POU3F2 -0.7596917 -0.3732486  1.1329404\n",
       "MEIS1  -0.7925275 -0.3310086  1.1235361\n",
       "PRDM16 -0.8952931 -0.1838894  1.0791825\n",
       "ETV5   -0.8497474 -0.2522134  1.1019609"
      ]
     },
     "metadata": {},
     "output_type": "display_data"
    }
   ],
   "source": [
    "TF_mat"
   ]
  },
  {
   "cell_type": "code",
   "execution_count": 15,
   "id": "4ea7a8bb-63bb-4557-9799-093b4c6e4892",
   "metadata": {},
   "outputs": [],
   "source": [
    "TF_heat <- Heatmap(\n",
    "  TF_mat,\n",
    "  name = \"TFs_Zscore\",\n",
    "    col = colors,\n",
    "        height = unit(15,'cm'),\n",
    "    width = unit(3,'cm'),\n",
    "    column_order = factor(c('Sulcus','Adjacent','Distant'),levels = c('Sulcus','Adjacent','Distant')),\n",
    "    row_order = rownames(TF_mat),\n",
    "    cluster_rows = FALSE,\n",
    "  row_names_gp = gpar(fontsize = 6),\n",
    "    top_annotation = h1,\n",
    "    # left_annotation = h2,\n",
    "  column_names_gp = gpar(fontsize = 8)\n",
    ")"
   ]
  },
  {
   "cell_type": "code",
   "execution_count": 16,
   "id": "69a7c66e-e015-4dee-837f-85bb54bb1550",
   "metadata": {},
   "outputs": [
    {
     "data": {
      "image/png": "[encoded data removed]",
      "text/plain": [
       "plot without title"
      ]
     },
     "metadata": {
      "image/png": {
       "height": 420,
       "width": 420
      }
     },
     "output_type": "display_data"
    }
   ],
   "source": [
    "TF_heat"
   ]
  },
  {
   "cell_type": "code",
   "execution_count": 17,
   "id": "66d3f024-8d52-4842-a487-2136171e06fb",
   "metadata": {},
   "outputs": [
    {
     "data": {
      "text/html": [
       "<strong>pdf:</strong> 2"
      ],
      "text/latex": [
       "\\textbf{pdf:} 2"
      ],
      "text/markdown": [
       "**pdf:** 2"
      ],
      "text/plain": [
       "pdf \n",
       "  2 "
      ]
     },
     "metadata": {},
     "output_type": "display_data"
    }
   ],
   "source": [
    "pdf(\"RNA_heatmap/TFs_heatmap_perturbation_v4.pdf\", width = 10, height = 8)\n",
    "draw(TF_heat)\n",
    "dev.off()"
   ]
  },
  {
   "cell_type": "code",
   "execution_count": 18,
   "id": "88570932-986f-4cf1-831f-7ba718676f5f",
   "metadata": {},
   "outputs": [
    {
     "data": {
      "text/html": [
       "<strong>pdf:</strong> 2"
      ],
      "text/latex": [
       "\\textbf{pdf:} 2"
      ],
      "text/markdown": [
       "**pdf:** 2"
      ],
      "text/plain": [
       "pdf \n",
       "  2 "
      ]
     },
     "metadata": {},
     "output_type": "display_data"
    }
   ],
   "source": [
    "pdf(\"RNA_heatmap/TFs_0.040.0520_renew.pdf\", width = 10, height = 8)\n",
    "draw(TF_heat)\n",
    "dev.off()"
   ]
  },
  {
   "cell_type": "code",
   "execution_count": 19,
   "id": "8b2c4739-30bb-4cf9-bfba-0b9a02964f37",
   "metadata": {},
   "outputs": [],
   "source": [
    "write.csv(data.frame(all_TFs),file='TF_perturbation/all_TFs_perturbation.csv')"
   ]
  },
  {
   "cell_type": "code",
   "execution_count": null,
   "id": "168017ab-7f64-4b54-824b-6b323b19db73",
   "metadata": {},
   "outputs": [],
   "source": []
  }
 ],
 "metadata": {
  "kernelspec": {
   "display_name": "Enrichment_R",
   "language": "R",
   "name": "enrichment_r"
  },
  "language_info": {
   "codemirror_mode": "r",
   "file_extension": ".r",
   "mimetype": "text/x-r-source",
   "name": "R",
   "pygments_lexer": "r",
   "version": "4.4.3"
  }
 },
 "nbformat": 4,
 "nbformat_minor": 5
}
