{
 "cells": [
  {
   "cell_type": "code",
   "execution_count": 1,
   "id": "22fa176f-8ded-400c-96cf-b2170e6b9fae",
   "metadata": {},
   "outputs": [
    {
     "name": "stderr",
     "output_type": "stream",
     "text": [
      "\n",
      "载入程序包：‘dplyr’\n",
      "\n",
      "\n",
      "The following objects are masked from ‘package:stats’:\n",
      "\n",
      "    filter, lag\n",
      "\n",
      "\n",
      "The following objects are masked from ‘package:base’:\n",
      "\n",
      "    intersect, setdiff, setequal, union\n",
      "\n",
      "\n"
     ]
    }
   ],
   "source": [
    "library(dplyr)\n",
    "library(Matrix)\n",
    "library(fgsea)"
   ]
  },
  {
   "cell_type": "code",
   "execution_count": 2,
   "id": "e3554285-ec11-4a3f-a3e6-f7f308956cb2",
   "metadata": {},
   "outputs": [
    {
     "name": "stderr",
     "output_type": "stream",
     "text": [
      "\n",
      "载入程序包：‘igraph’\n",
      "\n",
      "\n",
      "The following objects are masked from ‘package:dplyr’:\n",
      "\n",
      "    as_data_frame, groups, union\n",
      "\n",
      "\n",
      "The following objects are masked from ‘package:stats’:\n",
      "\n",
      "    decompose, spectrum\n",
      "\n",
      "\n",
      "The following object is masked from ‘package:base’:\n",
      "\n",
      "    union\n",
      "\n",
      "\n"
     ]
    }
   ],
   "source": [
    "source('fun.R')\n",
    "setwd('~/workspace/Mida_collab/')"
   ]
  },
  {
   "cell_type": "code",
   "execution_count": 3,
   "id": "9bd95487-51c4-4903-98fc-c5fdd13fec17",
   "metadata": {
    "scrolled": true
   },
   "outputs": [],
   "source": [
    "###Setting parameters\n",
    "exp <- 0.04\n",
    "used_pct <- 0.05\n",
    "size <- 20"
   ]
  },
  {
   "cell_type": "code",
   "execution_count": 4,
   "id": "8a228f89-9efd-4ebe-a502-0db65e9f031f",
   "metadata": {},
   "outputs": [
    {
     "data": {
      "text/html": [
       "TRUE"
      ],
      "text/latex": [
       "TRUE"
      ],
      "text/markdown": [
       "TRUE"
      ],
      "text/plain": [
       "[1] TRUE"
      ]
     },
     "metadata": {},
     "output_type": "display_data"
    }
   ],
   "source": [
    "RGG_meta <- read.csv('CellOracle/gradient_table2.vRG.tsv',sep='\\t') %>% filter(flag == 'Pass')\n",
    "(RGG_meta$p_val_adj <= 0.05 ) %>% all() ###check"
   ]
  },
  {
   "cell_type": "code",
   "execution_count": 5,
   "id": "1994642c-5de2-4d6a-9a74-1393370e067c",
   "metadata": {},
   "outputs": [],
   "source": [
    "all_genes <- read.csv('CellOracle/all_genes_exp.csv') %>%\n",
    "             filter((expression >= exp) & (pct >= used_pct))\n",
    "TF_gene_score <- read.csv('CellOracle/TF_gene_score.csv') %>% filter(TF %in% all_genes$X) %>% filter(gene %in% all_genes$X)"
   ]
  },
  {
   "cell_type": "code",
   "execution_count": 6,
   "id": "f722945f-ef5a-4e9e-8b2f-5892a5ec9e06",
   "metadata": {},
   "outputs": [
    {
     "data": {
      "text/html": [
       "<table class=\"dataframe\">\n",
       "<caption>A data.frame: 6 × 4</caption>\n",
       "<thead>\n",
       "\t<tr><th></th><th scope=col>X</th><th scope=col>TF</th><th scope=col>gene</th><th scope=col>TF_gene_score</th></tr>\n",
       "\t<tr><th></th><th scope=col>&lt;chr&gt;</th><th scope=col>&lt;chr&gt;</th><th scope=col>&lt;chr&gt;</th><th scope=col>&lt;dbl&gt;</th></tr>\n",
       "</thead>\n",
       "<tbody>\n",
       "\t<tr><th scope=row>1</th><td>ARID2_ABCA12    </td><td>ARID2</td><td>ABCA12    </td><td>0.004387156</td></tr>\n",
       "\t<tr><th scope=row>2</th><td>ARID2_ABHD15-AS1</td><td>ARID2</td><td>ABHD15-AS1</td><td>0.004592286</td></tr>\n",
       "\t<tr><th scope=row>3</th><td>ARID2_ABTB2     </td><td>ARID2</td><td>ABTB2     </td><td>0.001376487</td></tr>\n",
       "\t<tr><th scope=row>4</th><td>ARID2_AC006059.1</td><td>ARID2</td><td>AC006059.1</td><td>0.007425303</td></tr>\n",
       "\t<tr><th scope=row>5</th><td>ARID2_AC006387.1</td><td>ARID2</td><td>AC006387.1</td><td>0.002369358</td></tr>\n",
       "\t<tr><th scope=row>6</th><td>ARID2_AC007389.1</td><td>ARID2</td><td>AC007389.1</td><td>0.000856486</td></tr>\n",
       "</tbody>\n",
       "</table>\n"
      ],
      "text/latex": [
       "A data.frame: 6 × 4\n",
       "\\begin{tabular}{r|llll}\n",
       "  & X & TF & gene & TF\\_gene\\_score\\\\\n",
       "  & <chr> & <chr> & <chr> & <dbl>\\\\\n",
       "\\hline\n",
       "\t1 & ARID2\\_ABCA12     & ARID2 & ABCA12     & 0.004387156\\\\\n",
       "\t2 & ARID2\\_ABHD15-AS1 & ARID2 & ABHD15-AS1 & 0.004592286\\\\\n",
       "\t3 & ARID2\\_ABTB2      & ARID2 & ABTB2      & 0.001376487\\\\\n",
       "\t4 & ARID2\\_AC006059.1 & ARID2 & AC006059.1 & 0.007425303\\\\\n",
       "\t5 & ARID2\\_AC006387.1 & ARID2 & AC006387.1 & 0.002369358\\\\\n",
       "\t6 & ARID2\\_AC007389.1 & ARID2 & AC007389.1 & 0.000856486\\\\\n",
       "\\end{tabular}\n"
      ],
      "text/markdown": [
       "\n",
       "A data.frame: 6 × 4\n",
       "\n",
       "| <!--/--> | X &lt;chr&gt; | TF &lt;chr&gt; | gene &lt;chr&gt; | TF_gene_score &lt;dbl&gt; |\n",
       "|---|---|---|---|---|\n",
       "| 1 | ARID2_ABCA12     | ARID2 | ABCA12     | 0.004387156 |\n",
       "| 2 | ARID2_ABHD15-AS1 | ARID2 | ABHD15-AS1 | 0.004592286 |\n",
       "| 3 | ARID2_ABTB2      | ARID2 | ABTB2      | 0.001376487 |\n",
       "| 4 | ARID2_AC006059.1 | ARID2 | AC006059.1 | 0.007425303 |\n",
       "| 5 | ARID2_AC006387.1 | ARID2 | AC006387.1 | 0.002369358 |\n",
       "| 6 | ARID2_AC007389.1 | ARID2 | AC007389.1 | 0.000856486 |\n",
       "\n"
      ],
      "text/plain": [
       "  X                TF    gene       TF_gene_score\n",
       "1 ARID2_ABCA12     ARID2 ABCA12     0.004387156  \n",
       "2 ARID2_ABHD15-AS1 ARID2 ABHD15-AS1 0.004592286  \n",
       "3 ARID2_ABTB2      ARID2 ABTB2      0.001376487  \n",
       "4 ARID2_AC006059.1 ARID2 AC006059.1 0.007425303  \n",
       "5 ARID2_AC006387.1 ARID2 AC006387.1 0.002369358  \n",
       "6 ARID2_AC007389.1 ARID2 AC007389.1 0.000856486  "
      ]
     },
     "metadata": {},
     "output_type": "display_data"
    }
   ],
   "source": [
    "TF_gene_score %>% head()"
   ]
  },
  {
   "cell_type": "code",
   "execution_count": 7,
   "id": "485b701f-6e0b-4f8f-9ece-c6341fadd0d6",
   "metadata": {},
   "outputs": [],
   "source": [
    "lapply(unique(RGG_meta$Module),function(module){\n",
    "    tmp <- RGG_meta %>% filter(Module==module) %>% .$gene\n",
    "    return(tmp)\n",
    "}) %>% setNames(unique(RGG_meta$Module)) -> gene_module"
   ]
  },
  {
   "cell_type": "code",
   "execution_count": 8,
   "id": "e3645ef5-53ee-4987-88da-12632270b886",
   "metadata": {
    "scrolled": true
   },
   "outputs": [],
   "source": [
    "all_TFs <- unique(TF_gene_score$TF)\n",
    "lapply(all_TFs,function(used_TF){\n",
    "    tmp_df <- TF_gene_score %>% filter(TF==used_TF)\n",
    "    return(setNames(tmp_df$TF_gene_score,tmp_df$gene))\n",
    "}) %>% setNames(all_TFs) -> TF_gene_score_list"
   ]
  },
  {
   "cell_type": "code",
   "execution_count": 9,
   "id": "04f0a7de-46b7-43a8-90c0-249e7dd976d6",
   "metadata": {
    "scrolled": true
   },
   "outputs": [],
   "source": [
    "###Calculate the GSEA enrichment for all TFs and gene modules, see run_TF_module_GSEA in fun.R for details\n",
    "res <- run_TF_module_GSEA(TF_gene_score_list, gene_module,minsize = size)"
   ]
  },
  {
   "cell_type": "code",
   "execution_count": 10,
   "id": "fd40db79-e0e7-43d3-8daa-0343beeb12ba",
   "metadata": {
    "scrolled": true
   },
   "outputs": [],
   "source": [
    "lapply(names(gene_module),function(module){\n",
    "    tmp_res <- res %>% filter(pathway == module)\n",
    "    tmp_res$padj.2 <- p.adjust(tmp_res$padj,method = 'fdr') \n",
    "    tmp_res <- tmp_res %>% as.data.frame() \n",
    "    return(tmp_res)\n",
    "}) %>% do.call(rbind,.) -> res_new"
   ]
  },
  {
   "cell_type": "code",
   "execution_count": 11,
   "id": "a90c113e-4f3f-4b59-959f-8e875fcc8906",
   "metadata": {
    "scrolled": true
   },
   "outputs": [],
   "source": [
    "res_new$genes <- sapply(res_new$leadingEdge,function (x) paste0(x,collapse = ','))\n",
    "res_new <- res_new %>% mutate(module = pathway) %>% select(c('tf','module','NES','size','padj.2','genes'))\n",
    "res_mat <- data.frame(row.names = unique(res_new$tf))\n",
    "res_mat_NES <- data.frame(row.names = unique(res_new$tf))"
   ]
  },
  {
   "cell_type": "code",
   "execution_count": 12,
   "id": "42ebc91a-984f-4bd9-b185-d0ca48b36a60",
   "metadata": {
    "scrolled": true
   },
   "outputs": [],
   "source": [
    "###Fill TF-module matrix, including pvalue matrix and NES(normalized enrichment score) matrix\n",
    "for (used_module in c('2','3','4','5')){\n",
    "    for (used_TF in unique(res_new$tf)){\n",
    "        tmp_res <- res_new %>% filter(tf == used_TF) %>% filter(module == used_module)\n",
    "        if (nrow(tmp_res) == 1){\n",
    "            res_mat[used_TF,used_module] <- tmp_res[1,'padj.2']\n",
    "            res_mat_NES[used_TF,used_module] <- tmp_res[1,'NES']\n",
    "            }\n",
    "        else if (nrow(tmp_res)==0){\n",
    "            res_mat[used_TF,used_module] <- NA\n",
    "            res_mat_NES[used_TF,used_module] <- NA\n",
    "            }\n",
    "        }\n",
    "    }"
   ]
  },
  {
   "cell_type": "code",
   "execution_count": 13,
   "id": "20589454-8e53-451f-9312-b834775923ee",
   "metadata": {
    "scrolled": true
   },
   "outputs": [],
   "source": [
    "###we use pvalue<=0.05 and NES >=1.5 to make a TF-module sigfinicant, thus we have a binarized TF-module matrix for downstream analysis\n",
    "res_mat_bi <- (res_mat <= 0.05) & (abs(res_mat_NES) >=1.5) \n",
    "res_mat_bi[is.na(res_mat_bi)] <- FALSE\n",
    "res_mat_bi <- as.data.frame(res_mat_bi)\n",
    "res_mat_bi <- res_mat_bi[rowSums(res_mat_bi)!=0,c(\"4\", \"5\", \"3\",\"2\")]"
   ]
  },
  {
   "cell_type": "code",
   "execution_count": 14,
   "id": "7421f8a7-66d8-4637-bf39-4b80c38170fb",
   "metadata": {},
   "outputs": [],
   "source": [
    "write.csv(res_new,paste0('CellOracle/output/GSEA_res_df_exp',exp,'pct',used_pct,'size',size,'.csv'),row.names=FALSE)\n",
    "\n",
    "write.csv(res_mat,paste0('CellOracle/output/GSEA_res_mat_pvalue_exp',exp,'pct',used_pct,'size',size,'.csv'))\n",
    "\n",
    "write.csv(res_mat_NES,paste0('CellOracle/output/GSEA_res_mat_NES_exp',exp,'pct',used_pct,'size',size,'.csv'))\n",
    "\n",
    "write.csv(res_mat_bi,paste0('CellOracle/output/GSEA_res_mat_bi_exp',exp,'pct',used_pct,'size',size,'.csv'))"
   ]
  }
 ],
 "metadata": {
  "kernelspec": {
   "display_name": "Enrichment_R",
   "language": "R",
   "name": "enrichment_r"
  },
  "language_info": {
   "codemirror_mode": "r",
   "file_extension": ".r",
   "mimetype": "text/x-r-source",
   "name": "R",
   "pygments_lexer": "r",
   "version": "4.4.3"
  }
 },
 "nbformat": 4,
 "nbformat_minor": 5
}
