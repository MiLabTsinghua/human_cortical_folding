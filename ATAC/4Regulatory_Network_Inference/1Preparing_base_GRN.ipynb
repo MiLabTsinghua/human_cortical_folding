{
 "cells": [
  {
   "cell_type": "code",
   "execution_count": 1,
   "id": "8c805fdd-90d1-42be-9d46-d78cec04b726",
   "metadata": {},
   "outputs": [
    {
     "name": "stderr",
     "output_type": "stream",
     "text": [
      "which: no R in (/home/gaojie/bin:/home/gaojie/.local/bin:/home/gaojie/bin:/opt/anaconda/envs/celloracle_env/bin:/opt/anaconda/condabin:/usr/share/Modules/bin:/usr/local/bin:/usr/bin:/usr/local/sbin:/usr/sbin:/home/gaojie/workspace/miniforge3/envs/glue/bin/bedtools:/home/gaojie/workspace/miniforge3/envs/glue/bin/bedtools)\n"
     ]
    },
    {
     "data": {
      "text/plain": [
       "'0.18.0'"
      ]
     },
     "execution_count": 1,
     "metadata": {},
     "output_type": "execute_result"
    }
   ],
   "source": [
    "import pandas as pd\n",
    "import os, sys, shutil, importlib, glob\n",
    "from tqdm.notebook import tqdm\n",
    "import celloracle as co\n",
    "from celloracle import motif_analysis as ma\n",
    "from celloracle.utility import save_as_pickled_object\n",
    "co.__version__"
   ]
  },
  {
   "cell_type": "code",
   "execution_count": 2,
   "id": "17cb2b1c-758d-4503-845d-e67d893a9ff4",
   "metadata": {},
   "outputs": [],
   "source": [
    "os.chdir('/home/gaojie/workspace/Mida_collab/')"
   ]
  },
  {
   "cell_type": "code",
   "execution_count": 3,
   "id": "c03d4436-f921-46c2-a8a5-b74faf15473f",
   "metadata": {},
   "outputs": [],
   "source": [
    "import genomepy"
   ]
  },
  {
   "cell_type": "code",
   "execution_count": 4,
   "id": "73270483-0b2b-4616-a688-83506c25f9b3",
   "metadata": {},
   "outputs": [
    {
     "data": {
      "text/plain": [
       "Fasta(\"/home/gaojie/.local/share/genomes/hg38/hg38.fa\")"
      ]
     },
     "execution_count": 4,
     "metadata": {},
     "output_type": "execute_result"
    }
   ],
   "source": [
    "genomepy.install_genome(name=\"hg38\", provider=\"UCSC\")"
   ]
  },
  {
   "cell_type": "code",
   "execution_count": 5,
   "id": "d384d9a0-7849-4c12-89ca-3b861ed90c4d",
   "metadata": {},
   "outputs": [
    {
     "name": "stdout",
     "output_type": "stream",
     "text": [
      "hg38 installation:  True\n"
     ]
    }
   ],
   "source": [
    "ref_genome = \"hg38\"\n",
    "\n",
    "genome_installation = ma.is_genome_installed(ref_genome=ref_genome,\n",
    "                                             genomes_dir=None)\n",
    "print(ref_genome, \"installation: \", genome_installation)"
   ]
  },
  {
   "cell_type": "code",
   "execution_count": 6,
   "id": "7f8287f9-10b9-4494-8ffb-07740c52b2e4",
   "metadata": {},
   "outputs": [],
   "source": [
    "gene2peak = pd.read_csv('Multi-omics_intergration/output/gene2peak_df_all.csv',index_col=0,header=0)"
   ]
  },
  {
   "cell_type": "code",
   "execution_count": 7,
   "id": "3053c8a1-f2ad-45b7-b7b5-27464bc8077e",
   "metadata": {},
   "outputs": [],
   "source": [
    "gene2peak['peak_id'] = [i.replace(':','_').replace('-','_') for i in gene2peak['peak_id']]"
   ]
  },
  {
   "cell_type": "code",
   "execution_count": 8,
   "id": "364f6e24-6c66-48cd-82c2-d1411a2c5795",
   "metadata": {},
   "outputs": [
    {
     "data": {
      "text/html": [
       "<div>\n",
       "<style scoped>\n",
       "    .dataframe tbody tr th:only-of-type {\n",
       "        vertical-align: middle;\n",
       "    }\n",
       "\n",
       "    .dataframe tbody tr th {\n",
       "        vertical-align: top;\n",
       "    }\n",
       "\n",
       "    .dataframe thead th {\n",
       "        text-align: right;\n",
       "    }\n",
       "</style>\n",
       "<table border=\"1\" class=\"dataframe\">\n",
       "  <thead>\n",
       "    <tr style=\"text-align: right;\">\n",
       "      <th></th>\n",
       "      <th>peak_id</th>\n",
       "      <th>gene_short_name</th>\n",
       "      <th>qval</th>\n",
       "      <th>score</th>\n",
       "      <th>pval</th>\n",
       "    </tr>\n",
       "  </thead>\n",
       "  <tbody>\n",
       "    <tr>\n",
       "      <th>0</th>\n",
       "      <td>chr17_7662026_7662526</td>\n",
       "      <td>TP53</td>\n",
       "      <td>0.006082</td>\n",
       "      <td>0.873452</td>\n",
       "      <td>0.001170</td>\n",
       "    </tr>\n",
       "    <tr>\n",
       "      <th>1</th>\n",
       "      <td>chr17_7665809_7666309</td>\n",
       "      <td>TP53</td>\n",
       "      <td>0.006082</td>\n",
       "      <td>0.897910</td>\n",
       "      <td>0.000808</td>\n",
       "    </tr>\n",
       "    <tr>\n",
       "      <th>2</th>\n",
       "      <td>chr17_7666985_7667485</td>\n",
       "      <td>TP53</td>\n",
       "      <td>0.006082</td>\n",
       "      <td>0.900482</td>\n",
       "      <td>0.000757</td>\n",
       "    </tr>\n",
       "    <tr>\n",
       "      <th>3</th>\n",
       "      <td>chr17_7668423_7668923</td>\n",
       "      <td>TP53</td>\n",
       "      <td>0.006082</td>\n",
       "      <td>0.887318</td>\n",
       "      <td>0.000998</td>\n",
       "    </tr>\n",
       "    <tr>\n",
       "      <th>4</th>\n",
       "      <td>chr17_7669021_7669521</td>\n",
       "      <td>TP53</td>\n",
       "      <td>0.006082</td>\n",
       "      <td>0.873999</td>\n",
       "      <td>0.001152</td>\n",
       "    </tr>\n",
       "  </tbody>\n",
       "</table>\n",
       "</div>"
      ],
      "text/plain": [
       "                 peak_id gene_short_name      qval     score      pval\n",
       "0  chr17_7662026_7662526            TP53  0.006082  0.873452  0.001170\n",
       "1  chr17_7665809_7666309            TP53  0.006082  0.897910  0.000808\n",
       "2  chr17_7666985_7667485            TP53  0.006082  0.900482  0.000757\n",
       "3  chr17_7668423_7668923            TP53  0.006082  0.887318  0.000998\n",
       "4  chr17_7669021_7669521            TP53  0.006082  0.873999  0.001152"
      ]
     },
     "execution_count": 8,
     "metadata": {},
     "output_type": "execute_result"
    }
   ],
   "source": [
    "gene2peak.head()"
   ]
  },
  {
   "cell_type": "code",
   "execution_count": 9,
   "id": "facb4328-979d-45e3-ab23-eea889899dce",
   "metadata": {},
   "outputs": [
    {
     "name": "stdout",
     "output_type": "stream",
     "text": [
      "Peaks before filtering:  113695\n",
      "Peaks with invalid chr_name:  0\n",
      "Peaks with invalid length:  0\n",
      "Peaks after filtering:  113695\n"
     ]
    }
   ],
   "source": [
    "gene2peak = ma.check_peak_format(gene2peak, ref_genome, genomes_dir=None)"
   ]
  },
  {
   "cell_type": "code",
   "execution_count": 10,
   "id": "d831da3f-2c5a-4fc1-9f1a-559b05793e57",
   "metadata": {},
   "outputs": [],
   "source": [
    "tfi = ma.TFinfo(peak_data_frame=gene2peak,\n",
    "                ref_genome=ref_genome,\n",
    "                genomes_dir=None)"
   ]
  },
  {
   "cell_type": "code",
   "execution_count": 11,
   "id": "08347065-8d86-4517-a607-80fca1f4f425",
   "metadata": {},
   "outputs": [
    {
     "name": "stdout",
     "output_type": "stream",
     "text": [
      "No motif data entered. Loading default motifs for your species ...\n",
      " Default motif for vertebrate: gimme.vertebrate.v5.0. \n",
      " For more information, please see https://gimmemotifs.readthedocs.io/en/master/overview.html \n",
      "\n",
      "Initiating scanner... \n",
      "\n"
     ]
    },
    {
     "name": "stderr",
     "output_type": "stream",
     "text": [
      "2025-09-24 23:22:08,115 - DEBUG - using background: genome hg38 with size 200\n"
     ]
    },
    {
     "name": "stdout",
     "output_type": "stream",
     "text": [
      "Calculating FPR-based threshold. This step may take substantial time when you load a new ref-genome. It will be done quicker on the second time. \n",
      "\n",
      "Motif scan started .. It may take long time.\n",
      "\n"
     ]
    },
    {
     "data": {
      "application/vnd.jupyter.widget-view+json": {
       "model_id": "d7b0e47ca934437d9a1322f6addf1dc2",
       "version_major": 2,
       "version_minor": 0
      },
      "text/plain": [
       "Scanning:   0%|          | 0/108954 [00:00<?, ? sequences/s]"
      ]
     },
     "metadata": {},
     "output_type": "display_data"
    }
   ],
   "source": [
    "tfi.scan(fpr=0.02,\n",
    "         motifs=None,  # If you enter None, default motifs will be loaded.\n",
    "         verbose=True,n_cpus=3)"
   ]
  },
  {
   "cell_type": "code",
   "execution_count": 12,
   "id": "dfd40c70-b971-4bae-9c6e-bb95aa71dd24",
   "metadata": {},
   "outputs": [
    {
     "data": {
      "text/html": [
       "<div>\n",
       "<style scoped>\n",
       "    .dataframe tbody tr th:only-of-type {\n",
       "        vertical-align: middle;\n",
       "    }\n",
       "\n",
       "    .dataframe tbody tr th {\n",
       "        vertical-align: top;\n",
       "    }\n",
       "\n",
       "    .dataframe thead th {\n",
       "        text-align: right;\n",
       "    }\n",
       "</style>\n",
       "<table border=\"1\" class=\"dataframe\">\n",
       "  <thead>\n",
       "    <tr style=\"text-align: right;\">\n",
       "      <th></th>\n",
       "      <th>seqname</th>\n",
       "      <th>motif_id</th>\n",
       "      <th>factors_direct</th>\n",
       "      <th>factors_indirect</th>\n",
       "      <th>score</th>\n",
       "      <th>pos</th>\n",
       "      <th>strand</th>\n",
       "    </tr>\n",
       "  </thead>\n",
       "  <tbody>\n",
       "    <tr>\n",
       "      <th>0</th>\n",
       "      <td>chr10_100009027_100009527</td>\n",
       "      <td>GM.5.0.bHLH.0002</td>\n",
       "      <td>TCF3, Tcfap4</td>\n",
       "      <td>ATOH7, Atoh7</td>\n",
       "      <td>9.057189</td>\n",
       "      <td>355</td>\n",
       "      <td>-1</td>\n",
       "    </tr>\n",
       "    <tr>\n",
       "      <th>1</th>\n",
       "      <td>chr10_100009027_100009527</td>\n",
       "      <td>GM.5.0.C2H2_ZF.0004</td>\n",
       "      <td>ZIC1, Zic1</td>\n",
       "      <td>Zic4, ZIC5</td>\n",
       "      <td>6.875149</td>\n",
       "      <td>218</td>\n",
       "      <td>-1</td>\n",
       "    </tr>\n",
       "    <tr>\n",
       "      <th>2</th>\n",
       "      <td>chr10_100009027_100009527</td>\n",
       "      <td>GM.5.0.bHLH.0006</td>\n",
       "      <td>Bhlha15, Neurog2, Olig2, PTF1A, Neurod1, NEURO...</td>\n",
       "      <td>GATA1, GATA2</td>\n",
       "      <td>9.248468</td>\n",
       "      <td>356</td>\n",
       "      <td>-1</td>\n",
       "    </tr>\n",
       "    <tr>\n",
       "      <th>3</th>\n",
       "      <td>chr10_100009027_100009527</td>\n",
       "      <td>GM.5.0.bHLH.0010</td>\n",
       "      <td>NEUROG2, Msgn1</td>\n",
       "      <td>Bhlhe23, Olig2, Neurog2, NEUROD6, NEUROG3, NEU...</td>\n",
       "      <td>8.553253</td>\n",
       "      <td>355</td>\n",
       "      <td>1</td>\n",
       "    </tr>\n",
       "    <tr>\n",
       "      <th>4</th>\n",
       "      <td>chr10_100009027_100009527</td>\n",
       "      <td>GM.5.0.Homeodomain.0033</td>\n",
       "      <td>NKX2-5</td>\n",
       "      <td>NKX2-6, NKX2-4, NKX2-3</td>\n",
       "      <td>9.901231</td>\n",
       "      <td>130</td>\n",
       "      <td>-1</td>\n",
       "    </tr>\n",
       "  </tbody>\n",
       "</table>\n",
       "</div>"
      ],
      "text/plain": [
       "                     seqname                 motif_id  \\\n",
       "0  chr10_100009027_100009527         GM.5.0.bHLH.0002   \n",
       "1  chr10_100009027_100009527      GM.5.0.C2H2_ZF.0004   \n",
       "2  chr10_100009027_100009527         GM.5.0.bHLH.0006   \n",
       "3  chr10_100009027_100009527         GM.5.0.bHLH.0010   \n",
       "4  chr10_100009027_100009527  GM.5.0.Homeodomain.0033   \n",
       "\n",
       "                                      factors_direct  \\\n",
       "0                                       TCF3, Tcfap4   \n",
       "1                                         ZIC1, Zic1   \n",
       "2  Bhlha15, Neurog2, Olig2, PTF1A, Neurod1, NEURO...   \n",
       "3                                     NEUROG2, Msgn1   \n",
       "4                                             NKX2-5   \n",
       "\n",
       "                                    factors_indirect     score  pos  strand  \n",
       "0                                       ATOH7, Atoh7  9.057189  355      -1  \n",
       "1                                         Zic4, ZIC5  6.875149  218      -1  \n",
       "2                                       GATA1, GATA2  9.248468  356      -1  \n",
       "3  Bhlhe23, Olig2, Neurog2, NEUROD6, NEUROG3, NEU...  8.553253  355       1  \n",
       "4                             NKX2-6, NKX2-4, NKX2-3  9.901231  130      -1  "
      ]
     },
     "execution_count": 12,
     "metadata": {},
     "output_type": "execute_result"
    }
   ],
   "source": [
    "tfi.scanned_df.head()"
   ]
  },
  {
   "cell_type": "code",
   "execution_count": 13,
   "id": "b9b9bc3b-c670-46dd-a858-b2651607b84d",
   "metadata": {},
   "outputs": [],
   "source": [
    "tfi.to_hdf5(file_path=\"CellOracle/input/GW.11.celloracle.tfinfo\")"
   ]
  },
  {
   "cell_type": "code",
   "execution_count": 14,
   "id": "84621f26-8607-402b-97ac-7b7196a1dc15",
   "metadata": {},
   "outputs": [
    {
     "name": "stdout",
     "output_type": "stream",
     "text": [
      "Filtering finished: 15867671 -> 3419896\n",
      "1. Converting scanned results into one-hot encoded dataframe.\n"
     ]
    },
    {
     "data": {
      "application/vnd.jupyter.widget-view+json": {
       "model_id": "72498de710ae4b95a0735860694219d5",
       "version_major": 2,
       "version_minor": 0
      },
      "text/plain": [
       "  0%|          | 0/108954 [00:00<?, ?it/s]"
      ]
     },
     "metadata": {},
     "output_type": "display_data"
    },
    {
     "name": "stdout",
     "output_type": "stream",
     "text": [
      "2. Converting results into dictionaries.\n"
     ]
    },
    {
     "data": {
      "application/vnd.jupyter.widget-view+json": {
       "model_id": "a3ff9198b3ab4f829811e6222826c055",
       "version_major": 2,
       "version_minor": 0
      },
      "text/plain": [
       "  0%|          | 0/5168 [00:00<?, ?it/s]"
      ]
     },
     "metadata": {},
     "output_type": "display_data"
    },
    {
     "data": {
      "application/vnd.jupyter.widget-view+json": {
       "model_id": "54d33221c5774392b8c266d9c2f761c5",
       "version_major": 2,
       "version_minor": 0
      },
      "text/plain": [
       "  0%|          | 0/1095 [00:00<?, ?it/s]"
      ]
     },
     "metadata": {},
     "output_type": "display_data"
    }
   ],
   "source": [
    "tfi.reset_filtering()\n",
    "# Do filtering\n",
    "tfi.filter_motifs_by_score(threshold=10)\n",
    "# Format post-filtering results.\n",
    "tfi.make_TFinfo_dataframe_and_dictionary(verbose=True)"
   ]
  },
  {
   "cell_type": "code",
   "execution_count": 15,
   "id": "5cdc56ec-5254-4e29-8d53-bc1066db32ca",
   "metadata": {},
   "outputs": [
    {
     "data": {
      "text/html": [
       "<div>\n",
       "<style scoped>\n",
       "    .dataframe tbody tr th:only-of-type {\n",
       "        vertical-align: middle;\n",
       "    }\n",
       "\n",
       "    .dataframe tbody tr th {\n",
       "        vertical-align: top;\n",
       "    }\n",
       "\n",
       "    .dataframe thead th {\n",
       "        text-align: right;\n",
       "    }\n",
       "</style>\n",
       "<table border=\"1\" class=\"dataframe\">\n",
       "  <thead>\n",
       "    <tr style=\"text-align: right;\">\n",
       "      <th></th>\n",
       "      <th>peak_id</th>\n",
       "      <th>gene_short_name</th>\n",
       "      <th>qval</th>\n",
       "      <th>score</th>\n",
       "      <th>pval</th>\n",
       "      <th>9430076C15RIK</th>\n",
       "      <th>AC002126.6</th>\n",
       "      <th>AC012531.1</th>\n",
       "      <th>AC226150.2</th>\n",
       "      <th>AFP</th>\n",
       "      <th>...</th>\n",
       "      <th>ZNF784</th>\n",
       "      <th>ZNF8</th>\n",
       "      <th>ZNF816</th>\n",
       "      <th>ZNF85</th>\n",
       "      <th>ZSCAN10</th>\n",
       "      <th>ZSCAN16</th>\n",
       "      <th>ZSCAN22</th>\n",
       "      <th>ZSCAN26</th>\n",
       "      <th>ZSCAN31</th>\n",
       "      <th>ZSCAN4</th>\n",
       "    </tr>\n",
       "  </thead>\n",
       "  <tbody>\n",
       "    <tr>\n",
       "      <th>0</th>\n",
       "      <td>chr10_100009027_100009527</td>\n",
       "      <td>DNMBP</td>\n",
       "      <td>0.006143</td>\n",
       "      <td>0.806778</td>\n",
       "      <td>0.002391</td>\n",
       "      <td>0</td>\n",
       "      <td>0</td>\n",
       "      <td>0</td>\n",
       "      <td>0</td>\n",
       "      <td>0</td>\n",
       "      <td>...</td>\n",
       "      <td>0</td>\n",
       "      <td>0</td>\n",
       "      <td>0</td>\n",
       "      <td>0</td>\n",
       "      <td>0</td>\n",
       "      <td>0</td>\n",
       "      <td>0</td>\n",
       "      <td>0</td>\n",
       "      <td>0</td>\n",
       "      <td>0</td>\n",
       "    </tr>\n",
       "    <tr>\n",
       "      <th>1</th>\n",
       "      <td>chr10_100009744_100010244</td>\n",
       "      <td>DNMBP</td>\n",
       "      <td>0.011732</td>\n",
       "      <td>0.681134</td>\n",
       "      <td>0.009856</td>\n",
       "      <td>0</td>\n",
       "      <td>0</td>\n",
       "      <td>0</td>\n",
       "      <td>0</td>\n",
       "      <td>0</td>\n",
       "      <td>...</td>\n",
       "      <td>0</td>\n",
       "      <td>0</td>\n",
       "      <td>0</td>\n",
       "      <td>0</td>\n",
       "      <td>0</td>\n",
       "      <td>0</td>\n",
       "      <td>0</td>\n",
       "      <td>0</td>\n",
       "      <td>0</td>\n",
       "      <td>0</td>\n",
       "    </tr>\n",
       "    <tr>\n",
       "      <th>2</th>\n",
       "      <td>chr10_100910568_100911068</td>\n",
       "      <td>SLF2</td>\n",
       "      <td>0.006082</td>\n",
       "      <td>0.931589</td>\n",
       "      <td>0.000568</td>\n",
       "      <td>0</td>\n",
       "      <td>0</td>\n",
       "      <td>0</td>\n",
       "      <td>0</td>\n",
       "      <td>0</td>\n",
       "      <td>...</td>\n",
       "      <td>0</td>\n",
       "      <td>0</td>\n",
       "      <td>0</td>\n",
       "      <td>0</td>\n",
       "      <td>0</td>\n",
       "      <td>0</td>\n",
       "      <td>0</td>\n",
       "      <td>0</td>\n",
       "      <td>0</td>\n",
       "      <td>0</td>\n",
       "    </tr>\n",
       "    <tr>\n",
       "      <th>3</th>\n",
       "      <td>chr10_100912022_100912522</td>\n",
       "      <td>SLF2</td>\n",
       "      <td>0.006082</td>\n",
       "      <td>0.925895</td>\n",
       "      <td>0.000636</td>\n",
       "      <td>0</td>\n",
       "      <td>0</td>\n",
       "      <td>0</td>\n",
       "      <td>0</td>\n",
       "      <td>0</td>\n",
       "      <td>...</td>\n",
       "      <td>0</td>\n",
       "      <td>0</td>\n",
       "      <td>0</td>\n",
       "      <td>0</td>\n",
       "      <td>0</td>\n",
       "      <td>0</td>\n",
       "      <td>0</td>\n",
       "      <td>0</td>\n",
       "      <td>0</td>\n",
       "      <td>0</td>\n",
       "    </tr>\n",
       "    <tr>\n",
       "      <th>4</th>\n",
       "      <td>chr10_100912609_100913109</td>\n",
       "      <td>SLF2</td>\n",
       "      <td>0.014486</td>\n",
       "      <td>0.655965</td>\n",
       "      <td>0.012746</td>\n",
       "      <td>0</td>\n",
       "      <td>0</td>\n",
       "      <td>0</td>\n",
       "      <td>0</td>\n",
       "      <td>0</td>\n",
       "      <td>...</td>\n",
       "      <td>0</td>\n",
       "      <td>0</td>\n",
       "      <td>0</td>\n",
       "      <td>0</td>\n",
       "      <td>0</td>\n",
       "      <td>0</td>\n",
       "      <td>0</td>\n",
       "      <td>0</td>\n",
       "      <td>0</td>\n",
       "      <td>0</td>\n",
       "    </tr>\n",
       "  </tbody>\n",
       "</table>\n",
       "<p>5 rows × 1100 columns</p>\n",
       "</div>"
      ],
      "text/plain": [
       "                     peak_id gene_short_name      qval     score      pval  \\\n",
       "0  chr10_100009027_100009527           DNMBP  0.006143  0.806778  0.002391   \n",
       "1  chr10_100009744_100010244           DNMBP  0.011732  0.681134  0.009856   \n",
       "2  chr10_100910568_100911068            SLF2  0.006082  0.931589  0.000568   \n",
       "3  chr10_100912022_100912522            SLF2  0.006082  0.925895  0.000636   \n",
       "4  chr10_100912609_100913109            SLF2  0.014486  0.655965  0.012746   \n",
       "\n",
       "   9430076C15RIK  AC002126.6  AC012531.1  AC226150.2  AFP  ...  ZNF784  ZNF8  \\\n",
       "0              0           0           0           0    0  ...       0     0   \n",
       "1              0           0           0           0    0  ...       0     0   \n",
       "2              0           0           0           0    0  ...       0     0   \n",
       "3              0           0           0           0    0  ...       0     0   \n",
       "4              0           0           0           0    0  ...       0     0   \n",
       "\n",
       "   ZNF816  ZNF85  ZSCAN10  ZSCAN16  ZSCAN22  ZSCAN26  ZSCAN31  ZSCAN4  \n",
       "0       0      0        0        0        0        0        0       0  \n",
       "1       0      0        0        0        0        0        0       0  \n",
       "2       0      0        0        0        0        0        0       0  \n",
       "3       0      0        0        0        0        0        0       0  \n",
       "4       0      0        0        0        0        0        0       0  \n",
       "\n",
       "[5 rows x 1100 columns]"
      ]
     },
     "execution_count": 15,
     "metadata": {},
     "output_type": "execute_result"
    }
   ],
   "source": [
    "df = tfi.to_dataframe()\n",
    "df.head()"
   ]
  },
  {
   "cell_type": "code",
   "execution_count": 16,
   "id": "4844e446-b7b6-4c1f-8d66-57db2a4dcee3",
   "metadata": {},
   "outputs": [],
   "source": [
    "df.to_parquet(\"CellOracle/input/base_GRN_dataframe.parquet\")"
   ]
  },
  {
   "cell_type": "code",
   "execution_count": null,
   "id": "7103cc82-3247-40cf-afca-a67e238df35e",
   "metadata": {},
   "outputs": [],
   "source": []
  }
 ],
 "metadata": {
  "kernelspec": {
   "display_name": "Python [conda env:celloracle_env]",
   "language": "python",
   "name": "conda-env-celloracle_env-py"
  },
  "language_info": {
   "codemirror_mode": {
    "name": "ipython",
    "version": 3
   },
   "file_extension": ".py",
   "mimetype": "text/x-python",
   "name": "python",
   "nbconvert_exporter": "python",
   "pygments_lexer": "ipython3",
   "version": "3.10.14"
  }
 },
 "nbformat": 4,
 "nbformat_minor": 5
}
