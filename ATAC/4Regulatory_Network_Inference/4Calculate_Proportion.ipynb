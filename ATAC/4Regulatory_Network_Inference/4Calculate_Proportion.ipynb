{
 "cells": [
  {
   "cell_type": "code",
   "execution_count": 1,
   "id": "992eb22a-fef0-4000-844b-90da255010e3",
   "metadata": {},
   "outputs": [
    {
     "name": "stderr",
     "output_type": "stream",
     "text": [
      "which: no R in (/home/gaojie/bin:/home/gaojie/.local/bin:/home/gaojie/bin:/opt/anaconda/envs/celloracle_env/bin:/opt/anaconda/condabin:/usr/share/Modules/bin:/usr/local/bin:/usr/bin:/usr/local/sbin:/usr/sbin:/home/gaojie/workspace/miniforge3/envs/glue/bin/bedtools:/home/gaojie/workspace/miniforge3/envs/glue/bin/bedtools)\n"
     ]
    },
    {
     "data": {
      "text/plain": [
       "'0.18.0'"
      ]
     },
     "execution_count": 1,
     "metadata": {},
     "output_type": "execute_result"
    }
   ],
   "source": [
    "import os\n",
    "import pandas as pd\n",
    "import scanpy as sc\n",
    "import celloracle as co\n",
    "co.__version__"
   ]
  },
  {
   "cell_type": "code",
   "execution_count": 2,
   "id": "2093328f-f2b2-4da9-ad93-da99fbfa3a35",
   "metadata": {},
   "outputs": [],
   "source": [
    "os.chdir('/home/gaojie/workspace/Mida_collab/')"
   ]
  },
  {
   "cell_type": "code",
   "execution_count": 3,
   "id": "824bd6ff-5b9e-4a29-865c-6921080db8ac",
   "metadata": {},
   "outputs": [],
   "source": [
    "adata = sc.read_h5ad('Multi-omics_intergration/output/adata_rna_final.h5ad')\n",
    "links = co.load_hdf5(file_path=\"CellOracle/output/links.GW11.celltype.celloracle.links\").links_dict['vRG']\n",
    "RGG_df = pd.read_csv('CellOracle/gradient_table2.vRG.tsv')"
   ]
  },
  {
   "cell_type": "code",
   "execution_count": 4,
   "id": "434e9c08-3df6-4491-ba52-4c78a1f80ae5",
   "metadata": {},
   "outputs": [],
   "source": [
    "links = links[(links['p']<=0.05) & (links['coef_mean']>=0.0001)]"
   ]
  },
  {
   "cell_type": "code",
   "execution_count": 5,
   "id": "ee6cd0fc-5869-441b-ac6e-8d1924035a64",
   "metadata": {},
   "outputs": [],
   "source": [
    "adata_vRG = adata[adata.obs['celltype']=='vRG',:]\n",
    "exp_genes = adata_vRG.to_df()\n",
    "exp_df = pd.DataFrame({'expression':exp_genes.mean()})\n",
    "exp_genes_pct = pd.DataFrame({'pct':(exp_genes!=0).sum(axis=0)/len(exp_genes)})\n",
    "exp = pd.concat([exp_df,exp_genes_pct.loc[exp_df.index,:]],axis=1)"
   ]
  },
  {
   "cell_type": "code",
   "execution_count": 6,
   "id": "5e428b42-56db-40f5-801f-aa498fee15d8",
   "metadata": {},
   "outputs": [
    {
     "data": {
      "text/html": [
       "<div>\n",
       "<style scoped>\n",
       "    .dataframe tbody tr th:only-of-type {\n",
       "        vertical-align: middle;\n",
       "    }\n",
       "\n",
       "    .dataframe tbody tr th {\n",
       "        vertical-align: top;\n",
       "    }\n",
       "\n",
       "    .dataframe thead th {\n",
       "        text-align: right;\n",
       "    }\n",
       "</style>\n",
       "<table border=\"1\" class=\"dataframe\">\n",
       "  <thead>\n",
       "    <tr style=\"text-align: right;\">\n",
       "      <th></th>\n",
       "      <th>expression</th>\n",
       "      <th>pct</th>\n",
       "    </tr>\n",
       "  </thead>\n",
       "  <tbody>\n",
       "    <tr>\n",
       "      <th>AL627309.1</th>\n",
       "      <td>0.002314</td>\n",
       "      <td>0.002855</td>\n",
       "    </tr>\n",
       "    <tr>\n",
       "      <th>AL627309.5</th>\n",
       "      <td>0.010121</td>\n",
       "      <td>0.012235</td>\n",
       "    </tr>\n",
       "    <tr>\n",
       "      <th>AL627309.4</th>\n",
       "      <td>0.000126</td>\n",
       "      <td>0.000204</td>\n",
       "    </tr>\n",
       "    <tr>\n",
       "      <th>AL669831.2</th>\n",
       "      <td>0.000000</td>\n",
       "      <td>0.000000</td>\n",
       "    </tr>\n",
       "    <tr>\n",
       "      <th>LINC01409</th>\n",
       "      <td>0.048557</td>\n",
       "      <td>0.055465</td>\n",
       "    </tr>\n",
       "  </tbody>\n",
       "</table>\n",
       "</div>"
      ],
      "text/plain": [
       "            expression       pct\n",
       "AL627309.1    0.002314  0.002855\n",
       "AL627309.5    0.010121  0.012235\n",
       "AL627309.4    0.000126  0.000204\n",
       "AL669831.2    0.000000  0.000000\n",
       "LINC01409     0.048557  0.055465"
      ]
     },
     "execution_count": 6,
     "metadata": {},
     "output_type": "execute_result"
    }
   ],
   "source": [
    "exp.head()"
   ]
  },
  {
   "cell_type": "code",
   "execution_count": 7,
   "id": "8711063c-05c7-4e9b-b06f-f25099849356",
   "metadata": {},
   "outputs": [],
   "source": [
    "exp.sort_values('expression',ascending=False).to_csv('CellOracle/all_genes_exp.csv')"
   ]
  },
  {
   "cell_type": "code",
   "execution_count": 8,
   "id": "a33ea16f-4234-4e95-9c1f-604056fdb43f",
   "metadata": {},
   "outputs": [],
   "source": [
    "links.to_csv('CellOracle/output/links_filtered.csv')"
   ]
  },
  {
   "cell_type": "code",
   "execution_count": 9,
   "id": "e2332ec8-b9db-4cff-a661-89d9788cebb7",
   "metadata": {},
   "outputs": [],
   "source": [
    "exp_df_pathways = adata_vRG.to_df().merge(adata_vRG.obs[['sample']],left_index = True,right_index = True)"
   ]
  },
  {
   "cell_type": "code",
   "execution_count": 10,
   "id": "0bfb1528-f8ab-4b40-a2ac-9d9626aea9fa",
   "metadata": {},
   "outputs": [
    {
     "data": {
      "text/html": [
       "<div>\n",
       "<style scoped>\n",
       "    .dataframe tbody tr th:only-of-type {\n",
       "        vertical-align: middle;\n",
       "    }\n",
       "\n",
       "    .dataframe tbody tr th {\n",
       "        vertical-align: top;\n",
       "    }\n",
       "\n",
       "    .dataframe thead th {\n",
       "        text-align: right;\n",
       "    }\n",
       "</style>\n",
       "<table border=\"1\" class=\"dataframe\">\n",
       "  <thead>\n",
       "    <tr style=\"text-align: right;\">\n",
       "      <th></th>\n",
       "      <th>AL627309.1</th>\n",
       "      <th>AL627309.5</th>\n",
       "      <th>AL627309.4</th>\n",
       "      <th>AL669831.2</th>\n",
       "      <th>LINC01409</th>\n",
       "      <th>FAM87B</th>\n",
       "      <th>LINC01128</th>\n",
       "      <th>LINC00115</th>\n",
       "      <th>FAM41C</th>\n",
       "      <th>AL645608.6</th>\n",
       "      <th>...</th>\n",
       "      <th>AC011043.2</th>\n",
       "      <th>AC011841.1</th>\n",
       "      <th>AL354822.1</th>\n",
       "      <th>AL592183.1</th>\n",
       "      <th>AC240274.1</th>\n",
       "      <th>AC004556.3</th>\n",
       "      <th>AC136352.3</th>\n",
       "      <th>AC007325.4</th>\n",
       "      <th>AC007325.2</th>\n",
       "      <th>sample</th>\n",
       "    </tr>\n",
       "  </thead>\n",
       "  <tbody>\n",
       "    <tr>\n",
       "      <th>GW11_C_AAACCCAAGGTTGTTC-1</th>\n",
       "      <td>0.0</td>\n",
       "      <td>0.0</td>\n",
       "      <td>0.0</td>\n",
       "      <td>0.0</td>\n",
       "      <td>0.0</td>\n",
       "      <td>0.0</td>\n",
       "      <td>0.0</td>\n",
       "      <td>0.0</td>\n",
       "      <td>0.0</td>\n",
       "      <td>0.0</td>\n",
       "      <td>...</td>\n",
       "      <td>0.0</td>\n",
       "      <td>0.0</td>\n",
       "      <td>0.0</td>\n",
       "      <td>0.0</td>\n",
       "      <td>0.912088</td>\n",
       "      <td>0.00000</td>\n",
       "      <td>0.0</td>\n",
       "      <td>0.912088</td>\n",
       "      <td>0.0</td>\n",
       "      <td>Sulcus</td>\n",
       "    </tr>\n",
       "    <tr>\n",
       "      <th>GW11_C_AAACCCAAGTGTGTTC-1</th>\n",
       "      <td>0.0</td>\n",
       "      <td>0.0</td>\n",
       "      <td>0.0</td>\n",
       "      <td>0.0</td>\n",
       "      <td>0.0</td>\n",
       "      <td>0.0</td>\n",
       "      <td>0.0</td>\n",
       "      <td>0.0</td>\n",
       "      <td>0.0</td>\n",
       "      <td>0.0</td>\n",
       "      <td>...</td>\n",
       "      <td>0.0</td>\n",
       "      <td>0.0</td>\n",
       "      <td>0.0</td>\n",
       "      <td>0.0</td>\n",
       "      <td>0.000000</td>\n",
       "      <td>0.00000</td>\n",
       "      <td>0.0</td>\n",
       "      <td>0.000000</td>\n",
       "      <td>0.0</td>\n",
       "      <td>Sulcus</td>\n",
       "    </tr>\n",
       "    <tr>\n",
       "      <th>GW11_C_AAACCCAGTTTGAAAG-1</th>\n",
       "      <td>0.0</td>\n",
       "      <td>0.0</td>\n",
       "      <td>0.0</td>\n",
       "      <td>0.0</td>\n",
       "      <td>0.0</td>\n",
       "      <td>0.0</td>\n",
       "      <td>0.0</td>\n",
       "      <td>0.0</td>\n",
       "      <td>0.0</td>\n",
       "      <td>0.0</td>\n",
       "      <td>...</td>\n",
       "      <td>0.0</td>\n",
       "      <td>0.0</td>\n",
       "      <td>0.0</td>\n",
       "      <td>0.0</td>\n",
       "      <td>0.000000</td>\n",
       "      <td>0.00000</td>\n",
       "      <td>0.0</td>\n",
       "      <td>0.000000</td>\n",
       "      <td>0.0</td>\n",
       "      <td>Sulcus</td>\n",
       "    </tr>\n",
       "    <tr>\n",
       "      <th>GW11_C_AAACCCATCAGTGCGC-1</th>\n",
       "      <td>0.0</td>\n",
       "      <td>0.0</td>\n",
       "      <td>0.0</td>\n",
       "      <td>0.0</td>\n",
       "      <td>0.0</td>\n",
       "      <td>0.0</td>\n",
       "      <td>0.0</td>\n",
       "      <td>0.0</td>\n",
       "      <td>0.0</td>\n",
       "      <td>0.0</td>\n",
       "      <td>...</td>\n",
       "      <td>0.0</td>\n",
       "      <td>0.0</td>\n",
       "      <td>0.0</td>\n",
       "      <td>0.0</td>\n",
       "      <td>0.000000</td>\n",
       "      <td>0.00000</td>\n",
       "      <td>0.0</td>\n",
       "      <td>0.000000</td>\n",
       "      <td>0.0</td>\n",
       "      <td>Sulcus</td>\n",
       "    </tr>\n",
       "    <tr>\n",
       "      <th>GW11_C_AAACGAACATGTCAGT-1</th>\n",
       "      <td>0.0</td>\n",
       "      <td>0.0</td>\n",
       "      <td>0.0</td>\n",
       "      <td>0.0</td>\n",
       "      <td>0.0</td>\n",
       "      <td>0.0</td>\n",
       "      <td>0.0</td>\n",
       "      <td>0.0</td>\n",
       "      <td>0.0</td>\n",
       "      <td>0.0</td>\n",
       "      <td>...</td>\n",
       "      <td>0.0</td>\n",
       "      <td>0.0</td>\n",
       "      <td>0.0</td>\n",
       "      <td>0.0</td>\n",
       "      <td>0.000000</td>\n",
       "      <td>0.76889</td>\n",
       "      <td>0.0</td>\n",
       "      <td>0.000000</td>\n",
       "      <td>0.0</td>\n",
       "      <td>Sulcus</td>\n",
       "    </tr>\n",
       "  </tbody>\n",
       "</table>\n",
       "<p>5 rows × 30697 columns</p>\n",
       "</div>"
      ],
      "text/plain": [
       "                           AL627309.1  AL627309.5  AL627309.4  AL669831.2  \\\n",
       "GW11_C_AAACCCAAGGTTGTTC-1         0.0         0.0         0.0         0.0   \n",
       "GW11_C_AAACCCAAGTGTGTTC-1         0.0         0.0         0.0         0.0   \n",
       "GW11_C_AAACCCAGTTTGAAAG-1         0.0         0.0         0.0         0.0   \n",
       "GW11_C_AAACCCATCAGTGCGC-1         0.0         0.0         0.0         0.0   \n",
       "GW11_C_AAACGAACATGTCAGT-1         0.0         0.0         0.0         0.0   \n",
       "\n",
       "                           LINC01409  FAM87B  LINC01128  LINC00115  FAM41C  \\\n",
       "GW11_C_AAACCCAAGGTTGTTC-1        0.0     0.0        0.0        0.0     0.0   \n",
       "GW11_C_AAACCCAAGTGTGTTC-1        0.0     0.0        0.0        0.0     0.0   \n",
       "GW11_C_AAACCCAGTTTGAAAG-1        0.0     0.0        0.0        0.0     0.0   \n",
       "GW11_C_AAACCCATCAGTGCGC-1        0.0     0.0        0.0        0.0     0.0   \n",
       "GW11_C_AAACGAACATGTCAGT-1        0.0     0.0        0.0        0.0     0.0   \n",
       "\n",
       "                           AL645608.6  ...  AC011043.2  AC011841.1  \\\n",
       "GW11_C_AAACCCAAGGTTGTTC-1         0.0  ...         0.0         0.0   \n",
       "GW11_C_AAACCCAAGTGTGTTC-1         0.0  ...         0.0         0.0   \n",
       "GW11_C_AAACCCAGTTTGAAAG-1         0.0  ...         0.0         0.0   \n",
       "GW11_C_AAACCCATCAGTGCGC-1         0.0  ...         0.0         0.0   \n",
       "GW11_C_AAACGAACATGTCAGT-1         0.0  ...         0.0         0.0   \n",
       "\n",
       "                           AL354822.1  AL592183.1  AC240274.1  AC004556.3  \\\n",
       "GW11_C_AAACCCAAGGTTGTTC-1         0.0         0.0    0.912088     0.00000   \n",
       "GW11_C_AAACCCAAGTGTGTTC-1         0.0         0.0    0.000000     0.00000   \n",
       "GW11_C_AAACCCAGTTTGAAAG-1         0.0         0.0    0.000000     0.00000   \n",
       "GW11_C_AAACCCATCAGTGCGC-1         0.0         0.0    0.000000     0.00000   \n",
       "GW11_C_AAACGAACATGTCAGT-1         0.0         0.0    0.000000     0.76889   \n",
       "\n",
       "                           AC136352.3  AC007325.4  AC007325.2  sample  \n",
       "GW11_C_AAACCCAAGGTTGTTC-1         0.0    0.912088         0.0  Sulcus  \n",
       "GW11_C_AAACCCAAGTGTGTTC-1         0.0    0.000000         0.0  Sulcus  \n",
       "GW11_C_AAACCCAGTTTGAAAG-1         0.0    0.000000         0.0  Sulcus  \n",
       "GW11_C_AAACCCATCAGTGCGC-1         0.0    0.000000         0.0  Sulcus  \n",
       "GW11_C_AAACGAACATGTCAGT-1         0.0    0.000000         0.0  Sulcus  \n",
       "\n",
       "[5 rows x 30697 columns]"
      ]
     },
     "execution_count": 10,
     "metadata": {},
     "output_type": "execute_result"
    }
   ],
   "source": [
    "exp_df_pathways.head()"
   ]
  },
  {
   "cell_type": "code",
   "execution_count": 11,
   "id": "b611d2eb-c7dd-43cc-b88b-08a100872a95",
   "metadata": {},
   "outputs": [],
   "source": [
    "exp_df_pathways = exp_df_pathways.groupby(\"sample\").mean().T"
   ]
  },
  {
   "cell_type": "code",
   "execution_count": 12,
   "id": "dfb3e304-25ce-4e40-bb97-d3420d89cd1a",
   "metadata": {},
   "outputs": [],
   "source": [
    "exp_df_pathways.to_csv('CellOracle/exp_df_sample.csv')"
   ]
  }
 ],
 "metadata": {
  "kernelspec": {
   "display_name": "Python [conda env:celloracle_env]",
   "language": "python",
   "name": "conda-env-celloracle_env-py"
  },
  "language_info": {
   "codemirror_mode": {
    "name": "ipython",
    "version": 3
   },
   "file_extension": ".py",
   "mimetype": "text/x-python",
   "name": "python",
   "nbconvert_exporter": "python",
   "pygments_lexer": "ipython3",
   "version": "3.10.14"
  }
 },
 "nbformat": 4,
 "nbformat_minor": 5
}
