{
 "cells": [
  {
   "cell_type": "code",
   "execution_count": 1,
   "id": "d41405c8-1c0d-48c7-ba97-b81c5fe3426b",
   "metadata": {},
   "outputs": [
    {
     "name": "stderr",
     "output_type": "stream",
     "text": [
      "\n",
      "载入程序包：‘dplyr’\n",
      "\n",
      "\n",
      "The following objects are masked from ‘package:stats’:\n",
      "\n",
      "    filter, lag\n",
      "\n",
      "\n",
      "The following objects are masked from ‘package:base’:\n",
      "\n",
      "    intersect, setdiff, setequal, union\n",
      "\n",
      "\n",
      "\n",
      "载入程序包：‘igraph’\n",
      "\n",
      "\n",
      "The following objects are masked from ‘package:dplyr’:\n",
      "\n",
      "    as_data_frame, groups, union\n",
      "\n",
      "\n",
      "The following objects are masked from ‘package:stats’:\n",
      "\n",
      "    decompose, spectrum\n",
      "\n",
      "\n",
      "The following object is masked from ‘package:base’:\n",
      "\n",
      "    union\n",
      "\n",
      "\n"
     ]
    }
   ],
   "source": [
    "library(dplyr)\n",
    "suppressPackageStartupMessages(library(ggforce))\n",
    "suppressPackageStartupMessages(library(scatterpie))\n",
    "suppressPackageStartupMessages(library(qgraph))\n",
    "library(readxl)\n",
    "source('fun.R')\n",
    "setwd('~/workspace/Mida_collab/')"
   ]
  },
  {
   "cell_type": "code",
   "execution_count": 2,
   "id": "72ce9c6c-cc83-4762-a2a0-eefe5af9928b",
   "metadata": {},
   "outputs": [],
   "source": [
    "nodes_meta <- read.csv('CellOracle/output/nodes_meta.csv') \n",
    "links <- read.csv('CellOracle/output/links_filtered.csv') %>% filter(coef_abs >=0.02)\n",
    "all_genes_exp <- read.csv('CellOracle/all_genes_exp.csv') %>% filter(expression >= 0.04) %>% filter(pct >= 0.05)\n",
    "all_TFs <- read.csv('TF_perturbation/all_TFs_perturbation.csv',row.names = 1) %>% .$all_TFs\n",
    "GSEA_res <- read.csv('CellOracle/output/GSEA_res_df_exp0.04pct0.05size20.csv') %>% filter(padj.2<=0.05)\n",
    "module_gene <- read.csv('CellOracle/gradient_table2.vRG.tsv',sep='\\t') %>% filter(flag=='Pass')"
   ]
  },
  {
   "cell_type": "code",
   "execution_count": 3,
   "id": "1300c3b9-322b-495f-a062-06adbed92ac5",
   "metadata": {},
   "outputs": [],
   "source": [
    "nodes_meta_subset <- nodes_meta %>% filter(flag=='Pass')"
   ]
  },
  {
   "cell_type": "code",
   "execution_count": 4,
   "id": "18e2a875-3ed4-4534-b8e1-aaf53e0aebc1",
   "metadata": {},
   "outputs": [
    {
     "data": {
      "text/html": [
       "<style>\n",
       ".list-inline {list-style: none; margin:0; padding: 0}\n",
       ".list-inline>li {display: inline-block}\n",
       ".list-inline>li:not(:last-child)::after {content: \"\\00b7\"; padding: 0 .5ex}\n",
       "</style>\n",
       "<ol class=list-inline><li>'non-pseudoage'</li><li>'3'</li><li>'2'</li><li>'5'</li><li>'4'</li></ol>\n"
      ],
      "text/latex": [
       "\\begin{enumerate*}\n",
       "\\item 'non-pseudoage'\n",
       "\\item '3'\n",
       "\\item '2'\n",
       "\\item '5'\n",
       "\\item '4'\n",
       "\\end{enumerate*}\n"
      ],
      "text/markdown": [
       "1. 'non-pseudoage'\n",
       "2. '3'\n",
       "3. '2'\n",
       "4. '5'\n",
       "5. '4'\n",
       "\n",
       "\n"
      ],
      "text/plain": [
       "[1] \"non-pseudoage\" \"3\"             \"2\"             \"5\"            \n",
       "[5] \"4\"            "
      ]
     },
     "metadata": {},
     "output_type": "display_data"
    }
   ],
   "source": [
    "unique(GSEA_res$module)"
   ]
  },
  {
   "cell_type": "code",
   "execution_count": 5,
   "id": "940818f5-d1e3-4eb0-bc3b-b90b93314d41",
   "metadata": {},
   "outputs": [],
   "source": [
    "module4_genes <- read_excel('CellOracle/RGG_pickgene_for_network.xlsx',sheet=1)[[1]]\n",
    "module2_genes <- read_excel('CellOracle/RGG_pickgene_for_network.xlsx',sheet=2)[[1]]\n",
    "module3_genes <- module_gene %>% filter(Module == '3') %>% .$gene\n",
    "module5_genes <- module_gene %>% filter(Module == '5') %>% .$gene"
   ]
  },
  {
   "cell_type": "code",
   "execution_count": 6,
   "id": "e216bb37-1731-4c10-934e-37a14e6e9dde",
   "metadata": {},
   "outputs": [],
   "source": [
    "all_targets <- c(module2_genes,module4_genes,module3_genes,module5_genes) %>% unique()"
   ]
  },
  {
   "cell_type": "code",
   "execution_count": 7,
   "id": "cf8350a5-237c-4757-9f7d-934bb92cc302",
   "metadata": {},
   "outputs": [],
   "source": [
    "all_TFs <- all_TFs[!(all_TFs %in% c('FOXN2','SREBF2'))]"
   ]
  },
  {
   "cell_type": "code",
   "execution_count": 8,
   "id": "301f956c-b5e4-426b-9c44-4d28517052d0",
   "metadata": {
    "scrolled": true
   },
   "outputs": [],
   "source": [
    "links <- links %>% filter(source %in% all_TFs) %>% filter(target %in% all_targets) %>% filter(source %in% all_genes_exp$X) %>% filter(target %in% all_genes_exp$X)\n",
    "lapply(unique(links$source),function(TF){\n",
    "    links_tmp <- links %>% filter(source==TF)\n",
    "    regulon <- c(TF,links_tmp$coef_mean) %>%\n",
    "                    setNames(c(TF,links_tmp$target))\n",
    "    return(regulon)\n",
    "}) -> regulons\n",
    "names(regulons) <- unique(links$source)\n",
    "regulons <- list(vRG = regulons)"
   ]
  },
  {
   "cell_type": "code",
   "execution_count": 9,
   "id": "db83c560-3763-494b-90a2-522a7726c765",
   "metadata": {
    "scrolled": true
   },
   "outputs": [
    {
     "name": "stderr",
     "output_type": "stream",
     "text": [
      "Warning message in data.frame(from = xx[1], to = names(regu), weight = regu, stringsAsFactors = FALSE):\n",
      "“短变量里找到了行名，因此不用”\n",
      "Warning message in data.frame(from = xx[1], to = names(regu), weight = regu, stringsAsFactors = FALSE):\n",
      "“短变量里找到了行名，因此不用”\n",
      "Warning message in data.frame(from = xx[1], to = names(regu), weight = regu, stringsAsFactors = FALSE):\n",
      "“短变量里找到了行名，因此不用”\n",
      "Warning message in data.frame(from = xx[1], to = names(regu), weight = regu, stringsAsFactors = FALSE):\n",
      "“短变量里找到了行名，因此不用”\n",
      "Warning message in data.frame(from = xx[1], to = names(regu), weight = regu, stringsAsFactors = FALSE):\n",
      "“短变量里找到了行名，因此不用”\n",
      "Warning message in data.frame(from = xx[1], to = names(regu), weight = regu, stringsAsFactors = FALSE):\n",
      "“短变量里找到了行名，因此不用”\n",
      "Warning message in data.frame(from = xx[1], to = names(regu), weight = regu, stringsAsFactors = FALSE):\n",
      "“短变量里找到了行名，因此不用”\n",
      "Warning message in data.frame(from = xx[1], to = names(regu), weight = regu, stringsAsFactors = FALSE):\n",
      "“短变量里找到了行名，因此不用”\n",
      "Warning message in data.frame(from = xx[1], to = names(regu), weight = regu, stringsAsFactors = FALSE):\n",
      "“短变量里找到了行名，因此不用”\n",
      "Warning message in data.frame(from = xx[1], to = names(regu), weight = regu, stringsAsFactors = FALSE):\n",
      "“短变量里找到了行名，因此不用”\n",
      "Warning message in data.frame(from = xx[1], to = names(regu), weight = regu, stringsAsFactors = FALSE):\n",
      "“短变量里找到了行名，因此不用”\n",
      "Warning message in data.frame(from = xx[1], to = names(regu), weight = regu, stringsAsFactors = FALSE):\n",
      "“短变量里找到了行名，因此不用”\n",
      "\u001b[1m\u001b[22m`summarise()` has grouped output by 'from'. You can override using the\n",
      "`.groups` argument.\n"
     ]
    }
   ],
   "source": [
    "net_pre <- PrepareNet(regulon = regulons)"
   ]
  },
  {
   "cell_type": "code",
   "execution_count": 10,
   "id": "a44d4c56-b310-4083-b8a4-2754bdfd8c6e",
   "metadata": {},
   "outputs": [],
   "source": [
    "all_genes_in_plot <- net_pre$meta$gene %>% unique()"
   ]
  },
  {
   "cell_type": "code",
   "execution_count": 11,
   "id": "2359f85b-2fb6-4897-8e6d-d6767b821f9f",
   "metadata": {},
   "outputs": [],
   "source": [
    "net_pre$markers <- NULL"
   ]
  },
  {
   "cell_type": "code",
   "execution_count": 12,
   "id": "eccf3c69-f02d-4b56-bc16-9ecd690b1bcc",
   "metadata": {
    "scrolled": true
   },
   "outputs": [],
   "source": [
    "TF_module2 <- net_pre$links %>% filter(to %in% module2_genes) %>% .$from %>% unique()\n",
    "net_pre$markers$Module2 <- unique(c(module2_genes,TF_module2))\n",
    "TF_module4 <- net_pre$links %>% filter(to %in% module4_genes) %>% .$from %>% unique()\n",
    "net_pre$markers$Module4 <- unique(c(module4_genes,TF_module4))\n",
    "TF_module3 <- net_pre$links %>% filter(to %in% module3_genes) %>% .$from %>% unique()\n",
    "net_pre$markers$Module3 <- unique(c(module3_genes,TF_module3))\n",
    "TF_module5 <- net_pre$links %>% filter(to %in% module5_genes) %>% .$from %>% unique()\n",
    "net_pre$markers$Module5 <- unique(c(module5_genes,TF_module5))"
   ]
  },
  {
   "cell_type": "code",
   "execution_count": 13,
   "id": "8da43778-207a-473c-ad42-b15a7d5f478b",
   "metadata": {},
   "outputs": [],
   "source": [
    "module_gene <- module_gene %>% filter(flag == 'Pass') %>% filter(Module %in% c('4','5','3','2'))\n",
    "lapply(c('4','5','3','2'),function(module){\n",
    "    tmp <- module_gene %>% filter(Module==module) %>% .$gene\n",
    "    return(tmp)\n",
    "}) -> gene_module\n",
    "names(gene_module) <- c('4','5','3','2')"
   ]
  },
  {
   "cell_type": "code",
   "execution_count": 14,
   "id": "77c8da5b-45a3-4238-ac6e-64713bbc4c28",
   "metadata": {},
   "outputs": [],
   "source": [
    "GSEA_bi <- read.csv('CellOracle/output/GSEA_mat_bi_exp0.04pct0.05size20.csv',row.names = 1)\n",
    "colnames(GSEA_bi) <- c('4','5','3','2')"
   ]
  },
  {
   "cell_type": "code",
   "execution_count": 15,
   "id": "a1450ab0-1c99-4779-a0e6-522e56ae536c",
   "metadata": {
    "scrolled": true
   },
   "outputs": [
    {
     "data": {
      "text/html": [
       "<ol>\n",
       "\t<li>2</li>\n",
       "\t<li>3</li>\n",
       "\t<li>4</li>\n",
       "\t<li>5</li>\n",
       "\t<li>6</li>\n",
       "\t<li>7</li>\n",
       "\t<li>8</li>\n",
       "\t<li>9</li>\n",
       "\t<li>10</li>\n",
       "\t<li>11</li>\n",
       "\t<li>12</li>\n",
       "\t<li>13</li>\n",
       "\t<li>14</li>\n",
       "</ol>\n"
      ],
      "text/latex": [
       "\\begin{enumerate}\n",
       "\\item 2\n",
       "\\item 3\n",
       "\\item 4\n",
       "\\item 5\n",
       "\\item 6\n",
       "\\item 7\n",
       "\\item 8\n",
       "\\item 9\n",
       "\\item 10\n",
       "\\item 11\n",
       "\\item 12\n",
       "\\item 13\n",
       "\\item 14\n",
       "\\end{enumerate}\n"
      ],
      "text/markdown": [
       "1. 2\n",
       "2. 3\n",
       "3. 4\n",
       "4. 5\n",
       "5. 6\n",
       "6. 7\n",
       "7. 8\n",
       "8. 9\n",
       "9. 10\n",
       "10. 11\n",
       "11. 12\n",
       "12. 13\n",
       "13. 14\n",
       "\n",
       "\n"
      ],
      "text/plain": [
       "[[1]]\n",
       "[1] 2\n",
       "\n",
       "[[2]]\n",
       "[1] 3\n",
       "\n",
       "[[3]]\n",
       "[1] 4\n",
       "\n",
       "[[4]]\n",
       "[1] 5\n",
       "\n",
       "[[5]]\n",
       "[1] 6\n",
       "\n",
       "[[6]]\n",
       "[1] 7\n",
       "\n",
       "[[7]]\n",
       "[1] 8\n",
       "\n",
       "[[8]]\n",
       "[1] 9\n",
       "\n",
       "[[9]]\n",
       "[1] 10\n",
       "\n",
       "[[10]]\n",
       "[1] 11\n",
       "\n",
       "[[11]]\n",
       "[1] 12\n",
       "\n",
       "[[12]]\n",
       "[1] 13\n",
       "\n",
       "[[13]]\n",
       "[1] 14\n"
      ]
     },
     "metadata": {},
     "output_type": "display_data"
    }
   ],
   "source": [
    "raw_links <- read.csv('CellOracle/output/links_filtered.csv')\n",
    "lapply(c('4','5','3','2'),function(used_module){\n",
    "    tmp_res <- GSEA_res %>% filter(module == used_module) %>% arrange(desc(NES)) %>% select(c('tf','module','NES','padj.2'))\n",
    "    tmp_res <- tmp_res %>% filter(tf %in% all_TFs)\n",
    "    return(tmp_res)\n",
    "    }) %>% do.call(rbind,.) -> all_TFs_df\n",
    "\n",
    "i <- 1 \n",
    "lapply(all_TFs_df$tf,function(TF){\n",
    "    tmp_links <- raw_links %>% filter(source==TF) %>% filter(target %in% module_gene$gene)\n",
    "    sapply(names(gene_module),function(module){\n",
    "        if (!is.na(GSEA_bi[TF,module]) && GSEA_bi[TF,module]){\n",
    "            return(sum(tmp_links$target %in% gene_module[[module]])/nrow(tmp_links)/length(gene_module[[module]]))}\n",
    "        else {\n",
    "            return(0)\n",
    "        }\n",
    "    }) -> tmp_proportion\n",
    "    tmp_proportion <- tmp_proportion/sum(tmp_proportion)\n",
    "    all_TFs_df[i,names(gene_module)] <<- tmp_proportion\n",
    "    i <<- i+1\n",
    "    # return(NULL)\n",
    "})"
   ]
  },
  {
   "cell_type": "code",
   "execution_count": 16,
   "id": "888921f0-a0b2-4c54-b630-244f7cd06dfe",
   "metadata": {},
   "outputs": [],
   "source": [
    "region_colors <- c(Sulcus='#1e807a',  Adjacent = '#f5d731',Distant = '#d92523')\n",
    "module_colors <- c(Module4='#7fb2d3',Module5='#8dd3c9',Module3='#ffb55f',Module2='#fc7f71')"
   ]
  },
  {
   "cell_type": "code",
   "execution_count": 17,
   "id": "2f39b060-eab1-4407-bd6d-7ee10152637d",
   "metadata": {},
   "outputs": [],
   "source": [
    "all_TFs_df <- all_TFs_df[!duplicated(all_TFs_df$tf),]"
   ]
  },
  {
   "cell_type": "code",
   "execution_count": 18,
   "id": "63de05d7-85e7-4aab-934b-7006280784d6",
   "metadata": {
    "scrolled": true
   },
   "outputs": [],
   "source": [
    "rownames(all_TFs_df) <- all_TFs_df$tf\n",
    "lapply(all_TFs_df$tf,function(TF){\n",
    "   tmp_df <- all_TFs_df[,c('2','4','3','5')]\n",
    "    res <- unname(unlist(as.vector(tmp_df[TF,])))\n",
    "    res <- c(res,0)\n",
    "    return(res)\n",
    "}) %>% setNames(all_TFs_df$tf) -> pie_dict"
   ]
  },
  {
   "cell_type": "code",
   "execution_count": 19,
   "id": "d48179e2-70ce-4548-80d1-24c614733794",
   "metadata": {},
   "outputs": [],
   "source": [
    "region_markers <- list()\n",
    "region_markers$Distant <- module_gene %>% filter(cluster == 'Distant') %>% .$gene\n",
    "region_markers$Sulcus <- module_gene %>% filter(cluster == 'Sulcus') %>% .$gene"
   ]
  },
  {
   "cell_type": "code",
   "execution_count": 20,
   "id": "c69cf390-fa0d-4cf0-bf8d-61eeb1515bdb",
   "metadata": {},
   "outputs": [
    {
     "name": "stdout",
     "output_type": "stream",
     "text": [
      "NULL\n",
      "character(0)\n"
     ]
    },
    {
     "name": "stderr",
     "output_type": "stream",
     "text": [
      "Warning message:\n",
      "“\u001b[1m\u001b[22m`get.edgelist()` was deprecated in igraph 2.0.0.\n",
      "\u001b[36mℹ\u001b[39m Please use `as_edgelist()` instead.”\n"
     ]
    },
    {
     "data": {
      "text/html": [
       "<strong>pdf:</strong> 2"
      ],
      "text/latex": [
       "\\textbf{pdf:} 2"
      ],
      "text/markdown": [
       "**pdf:** 2"
      ],
      "text/plain": [
       "pdf \n",
       "  2 "
      ]
     },
     "metadata": {},
     "output_type": "display_data"
    }
   ],
   "source": [
    "plot_tfnet_signal_final(netpre_object = net_pre,\n",
    "                        vertice_anno_gset = net_pre$markers,\n",
    "                        vertice_anno_shape = region_markers,\n",
    "                        vertice_size = c(4, 0.5, 6),\n",
    "                        label.scale = c(1, 1.5),\n",
    "                        edge_width = c(0.2, 10),\n",
    "                        plot.scale = 2,\n",
    "                        label_genes = all_genes_in_plot,\n",
    "                        vertice_highlight = (net_pre$meta %>% filter(gtype=='TF') %>% .$gene),\n",
    "                        edge_hightlight = data.frame(from = c('AHR'),to=c('ADD2')),\n",
    "                        file_name = 'coef_0.02_subset',\n",
    "                        vertice_cate_cols = module_colors,\n",
    "                        pie_custom = pie_dict,\n",
    "                        output_dir = 'CellOracle/Network_plot/',\n",
    "                        redo_layout = TRUE,\n",
    "                        layout_area = 1.1,\n",
    "                        layout_pulse = 5.45\n",
    "                       )"
   ]
  }
 ],
 "metadata": {
  "kernelspec": {
   "display_name": "Enrichment_R",
   "language": "R",
   "name": "enrichment_r"
  },
  "language_info": {
   "codemirror_mode": "r",
   "file_extension": ".r",
   "mimetype": "text/x-r-source",
   "name": "R",
   "pygments_lexer": "r",
   "version": "4.4.3"
  }
 },
 "nbformat": 4,
 "nbformat_minor": 5
}
